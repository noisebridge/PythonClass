{
 "cells": [
  {
   "cell_type": "markdown",
   "id": "5ca1a046",
   "metadata": {},
   "source": [
    "For the first voter exercise, finding if there are a majority in California and a majority with a phone number:\n"
   ]
  },
  {
   "cell_type": "code",
   "execution_count": null,
   "id": "f002f1b3",
   "metadata": {},
   "outputs": [],
   "source": [
    "def is_valid_voter_list(voters):\n",
    "    majority_california = False\n",
    "    majority_phone = False\n",
    "\n",
    "    ca_count = 0\n",
    "    for voter in voters:\n",
    "        if voter[\"state\"] == \"CA\" or voter[\"state\"] == \"California\":\n",
    "            ca_count += 1\n",
    "        if ca_count > len(voters) / 2:\n",
    "            majority_california = True\n",
    "            break\n",
    "\n",
    "    phone_count = 0\n",
    "    for voter in voters:\n",
    "        if voter[\"phone\"] is not None:\n",
    "            phone_count += 1\n",
    "        if phone_count > len(voters) / 2:\n",
    "            majority_phone = True\n",
    "            break\n",
    "\n",
    "    return majority_california and majority_phone"
   ]
  },
  {
   "cell_type": "markdown",
   "id": "561bb491",
   "metadata": {},
   "source": [
    "For the second voter exercise, we don't have to explicitly return `None`, because if we get to the end of the for loop without returning anything, the function will implicitly return `None`. Remember, any `return` statement without a value, or any function that finishes without returning anything, returns `None`.\n"
   ]
  },
  {
   "cell_type": "code",
   "execution_count": null,
   "id": "d0fc40f7",
   "metadata": {},
   "outputs": [],
   "source": [
    "def first_empty_phone_voter(voters):\n",
    "    for voter in voters:\n",
    "        if voter[\"phone\"] is not None:\n",
    "            continue\n",
    "\n",
    "        # We don't need an else here, because if the condition is true, we continue'd, so we\n",
    "        # know if we get here, the condition is false.\n",
    "        #\n",
    "        # We also don't need to store this value anywhere, we can just return it as soon as\n",
    "        # we find it.\n",
    "        return voter[\"name\"]"
   ]
  },
  {
   "cell_type": "markdown",
   "id": "8d63d781",
   "metadata": {},
   "source": [
    "Some ways of calling the function in the next exercise:\n"
   ]
  },
  {
   "cell_type": "code",
   "execution_count": null,
   "id": "4232c76d",
   "metadata": {},
   "outputs": [],
   "source": [
    "fruits = {\n",
    "    \"apple\": \"red\",\n",
    "    \"pear\": \"brown\",\n",
    "    \"lime\": \"green\",\n",
    "}\n",
    "\n",
    "\n",
    "def print_fruit_color(\n",
    "    fruit_name, print_if_missing=False, override=False, override_color=\"blue\"\n",
    "):\n",
    "    if fruit_name in fruits:\n",
    "        color = fruits[fruit_name]\n",
    "        if override:\n",
    "            color = override_color\n",
    "        print(\"%s is %s\" % (fruit_name, color))\n",
    "    elif print_if_missing:\n",
    "        print(\"No known fruit\")\n",
    "\n",
    "\n",
    "print_fruit_color(\"apple\")\n",
    "print_fruit_color(\"kiwi\", print_if_missing=True)\n",
    "print_fruit_color(\"apple\", override=True, override_color=\"yellow\")"
   ]
  }
 ],
 "metadata": {
  "kernelspec": {
   "display_name": "PythonClass-vcBxlNeB",
   "language": "python",
   "name": "python3"
  },
  "language_info": {
   "codemirror_mode": {
    "name": "ipython",
    "version": 3
   },
   "file_extension": ".py",
   "mimetype": "text/x-python",
   "name": "python",
   "nbconvert_exporter": "python",
   "pygments_lexer": "ipython3",
   "version": "3.12.3"
  }
 },
 "nbformat": 4,
 "nbformat_minor": 5
}
