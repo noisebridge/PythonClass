{
 "cells": [
  {
   "cell_type": "markdown",
   "id": "f7c62b1b",
   "metadata": {},
   "source": [
    "Welcome to Lesson 4 of the Noisebridge Python class! ([Noisebridge Wiki](https://www.noisebridge.net/wiki/PyClass) | [Github](https://github.com/audiodude/PythonClass))\n",
    "\n",
    "First, we will cover some more advanced usages of the `for` loop: `break` and `continue`\n",
    "\n",
    "Then we will cover the following topics on functions:\n",
    "\n",
    "- Definitions of positional and keyword arguments to functions\n",
    "- Function 'scope'\n",
    "- The special Python arguments: `*args` and `**kwargs`\n"
   ]
  },
  {
   "cell_type": "markdown",
   "id": "420e7c56",
   "metadata": {},
   "source": [
    "---\n"
   ]
  },
  {
   "cell_type": "markdown",
   "id": "180af22c",
   "metadata": {},
   "source": [
    "## For loops revisited\n",
    "\n",
    "We've seen a basic for loop already:\n"
   ]
  },
  {
   "cell_type": "code",
   "execution_count": null,
   "id": "5f4f5bb6",
   "metadata": {},
   "outputs": [],
   "source": [
    "fruits = [\"apple\", \"kiwi\", \"lime\", \"pear\"]\n",
    "\n",
    "for fruit in fruits:\n",
    "    print(f\"You have a {fruit}\")"
   ]
  },
  {
   "cell_type": "markdown",
   "id": "0e0a9833",
   "metadata": {},
   "source": [
    "We can use the special `break` keyword to immediately stop the execution of a for loop and jump to the end of its block. This is useful when we've either found something we were looking for, or otherwise don't need to keep processing the items.\n"
   ]
  },
  {
   "cell_type": "code",
   "execution_count": null,
   "id": "47077790",
   "metadata": {},
   "outputs": [],
   "source": [
    "fruits = [\"apple\", \"kiwi\", \"lime\", \"pear\"]\n",
    "\n",
    "\n",
    "def has_fruit(fruit_to_find):\n",
    "    for fruit in fruits:\n",
    "        if fruit == fruit_to_find:\n",
    "            print(f\"You have a {fruit_to_find}\")\n",
    "            break\n",
    "        else:\n",
    "            print(f\"Nope, it is a {fruit}\")\n",
    "\n",
    "\n",
    "has_fruit(\"kiwi\")"
   ]
  },
  {
   "cell_type": "markdown",
   "id": "cc045faa",
   "metadata": {},
   "source": [
    "Notice that the function only ran until it found the kiwi, it didn't print out `lime` or `pear`. In practice, we can use the `in` operator to find if a value is present in a list:\n"
   ]
  },
  {
   "cell_type": "code",
   "execution_count": null,
   "id": "790d7a4a",
   "metadata": {},
   "outputs": [],
   "source": [
    "fruits = [\"apple\", \"kiwi\", \"lime\", \"pear\"]\n",
    "\n",
    "print(\"kiwi\" in fruits)\n",
    "print(\"banana\" in fruits)\n",
    "\n",
    "# You can also use `not in`\n",
    "print(\"banana\" not in fruits)"
   ]
  },
  {
   "cell_type": "markdown",
   "id": "7df5b22d",
   "metadata": {},
   "source": [
    "Alternately, if we have items in the list that we know we don't need to process, we can use the `continue` keyword to skip back to the top of the loop and continue with the next item.\n"
   ]
  },
  {
   "cell_type": "code",
   "execution_count": null,
   "id": "59a395da",
   "metadata": {},
   "outputs": [],
   "source": [
    "fruits = {\"apple\": 1.29, \"kiwi\": 1.49, \"lime\": 0.89, \"pear\": 1.89}\n",
    "\n",
    "\n",
    "def double_fruit_price(fruit_to_double):\n",
    "    # The keys() method gives us only the keys of the dictionary, in this case\n",
    "    # the fruit names. Technically, this is the same as `for fruit in fruits`,\n",
    "    # which also returns the keys. This way is just more explicit.\n",
    "    for fruit in fruits.keys():\n",
    "        if fruit != fruit_to_double:\n",
    "            # Skip this fruit if it's not the one we wish to double\n",
    "            print(f\"not doubling {fruit}\")\n",
    "            continue\n",
    "            # The following line never gets executed! This is similar\n",
    "            # to an if statement where the condition is False.\n",
    "            print(42 / 0)\n",
    "\n",
    "        fruits[fruit] = round(fruits[fruit] * 2, 2)\n",
    "\n",
    "\n",
    "print(fruits)\n",
    "double_fruit_price(\"lime\")\n",
    "print(fruits)"
   ]
  },
  {
   "cell_type": "markdown",
   "id": "d1adad90",
   "metadata": {},
   "source": [
    "Now let's try using these.\n",
    "\n",
    "# Exercise\n",
    "\n",
    "Imagine you're canvassing for a politician. You've been given a number of lists of voter rolls in the following format:\n"
   ]
  },
  {
   "cell_type": "code",
   "execution_count": null,
   "id": "8e60bf90",
   "metadata": {},
   "outputs": [],
   "source": [
    "VOTERS_LIST_1 = [\n",
    "    {\n",
    "        \"name\": \"Maryann Marvelous\",\n",
    "        \"phone\": \"555-1234\",\n",
    "        \"state\": \"CA\",\n",
    "    },\n",
    "    {\n",
    "        \"name\": \"Peter Parker\",\n",
    "        \"phone\": \"555-5678\",\n",
    "        \"state\": \"New York\",\n",
    "    },\n",
    "    {\n",
    "        \"name\": \"Clark Kent\",\n",
    "        \"phone\": None,\n",
    "        \"state\": \"California\",\n",
    "    },\n",
    "    {\n",
    "        \"name\": \"Bruce Wayne\",\n",
    "        \"phone\": \"555-4321\",\n",
    "        \"state\": \"CA\",\n",
    "    },\n",
    "]"
   ]
  },
  {
   "cell_type": "markdown",
   "id": "a727155c",
   "metadata": {},
   "source": [
    "Your job is to write a function that checks two properties of the list. It should return True if both properties are satisfied, and False otherwise. The properties are:\n",
    "\n",
    "1. Over 50% of the voters are from California (note this could be 'CA' or 'California', the data is messy!)\n",
    "1. Over 50% of the voters have phone numbers, no matter their state (so their phone number is not `None`)\n",
    "\n",
    "We've provided a Python file called `test_data.py` that contains some test voter lists. We can import those and write some assert statements for your function. If the assert statements run without throwing an `AssertionError`, your function is working!\n",
    "\n",
    "The key is that once you've found that more than 50% of the list has the required property, you can `break` your for loop.\n"
   ]
  },
  {
   "cell_type": "code",
   "execution_count": null,
   "id": "2bc1d119",
   "metadata": {},
   "outputs": [],
   "source": [
    "from test_data import (\n",
    "    VOTERS_FALSE_1,\n",
    "    VOTERS_FALSE_2,\n",
    "    VOTERS_FALSE_3,\n",
    "    VOTERS_TRUE_1,\n",
    "    VOTERS_TRUE_2,\n",
    "    VOTERS_TRUE_3,\n",
    ")\n",
    "\n",
    "\n",
    "def is_valid_voter_list(voters):\n",
    "    # Your code here!\n",
    "    pass\n",
    "\n",
    "\n",
    "assert is_valid_voter_list(VOTERS_TRUE_1), \"Failed for VOTERS_TRUE_1\"\n",
    "assert is_valid_voter_list(VOTERS_TRUE_2), \"Failed for VOTERS_TRUE_2\"\n",
    "assert is_valid_voter_list(VOTERS_TRUE_3), \"Failed for VOTERS_TRUE_3\"\n",
    "assert not is_valid_voter_list(VOTERS_FALSE_1), \"Failed for VOTERS_FALSE_1\"\n",
    "assert not is_valid_voter_list(VOTERS_FALSE_2), \"Failed for VOTERS_FALSE_2\"\n",
    "assert not is_valid_voter_list(VOTERS_FALSE_3), \"Failed for VOTERS_FALSE_3\""
   ]
  },
  {
   "cell_type": "markdown",
   "id": "534277d8",
   "metadata": {},
   "source": [
    "Now let's try using the `continue` keyword. With the same voter lists, let's try to identify the folks that don't have a phone number. Write a function that takes a voter list in the same format as the above, and returns the name of the first voter in the list without a phone number. You can use the `continue` keyword to \"skip\" voters that don't satisfy this condition.\n"
   ]
  },
  {
   "cell_type": "code",
   "execution_count": null,
   "id": "7b726c1c",
   "metadata": {},
   "outputs": [],
   "source": [
    "from test_data import (\n",
    "    VOTERS_FALSE_1,\n",
    "    VOTERS_FALSE_2,\n",
    "    VOTERS_FALSE_3,\n",
    "    VOTERS_TRUE_1,\n",
    "    VOTERS_TRUE_2,\n",
    "    VOTERS_TRUE_3,\n",
    ")\n",
    "\n",
    "\n",
    "def first_empty_phone_voter(voters):\n",
    "    for voter in voters:\n",
    "        if voter[\"phone\"] is not None:\n",
    "            continue\n",
    "\n",
    "        return voter[\"name\"]\n",
    "\n",
    "\n",
    "assert (\n",
    "    first_empty_phone_voter(VOTERS_TRUE_1) == \"Bob Johnson\"\n",
    "), \"Failed for VOTERS_TRUE_1\"\n",
    "assert (\n",
    "    first_empty_phone_voter(VOTERS_TRUE_2) == \"Hannah Montana\"\n",
    "), \"Failed for VOTERS_TRUE_2\"\n",
    "assert first_empty_phone_voter(VOTERS_TRUE_3) is None, \"Failed for VOTERS_TRUE_3\"\n",
    "assert (\n",
    "    first_empty_phone_voter(VOTERS_FALSE_1) == \"Alice Smith\"\n",
    "), \"Failed for VOTERS_FALSE_1\"\n",
    "assert (\n",
    "    first_empty_phone_voter(VOTERS_FALSE_2) == \"Alice Smith\"\n",
    "), \"Failed for VOTERS_FALSE_2\"\n",
    "assert first_empty_phone_voter(VOTERS_FALSE_3) is None, \"Failed for VOTERS_FALSE_3\""
   ]
  },
  {
   "cell_type": "markdown",
   "id": "ee120cda",
   "metadata": {},
   "source": [
    "## Function definitions\n",
    "\n",
    "Let's move on to function definitions. Functions can have any number (including zero!) of **positional arguments** and any number (including zero!) of **keyword arguments**. Positional arguments are what we have seen so far, they are required when calling a function:\n"
   ]
  },
  {
   "cell_type": "code",
   "execution_count": null,
   "id": "388c7ae3",
   "metadata": {},
   "outputs": [],
   "source": [
    "def print_name_and_age(name, age):\n",
    "    print(name, age)\n",
    "\n",
    "\n",
    "print_name_and_age(\"Mateo\", 42)"
   ]
  },
  {
   "cell_type": "markdown",
   "id": "8474c1fb",
   "metadata": {},
   "source": [
    "The following is an error (missing the second positional argument).\n"
   ]
  },
  {
   "cell_type": "code",
   "execution_count": null,
   "id": "91e0173f",
   "metadata": {},
   "outputs": [],
   "source": [
    "print_name_and_age(\"Fred\")"
   ]
  },
  {
   "cell_type": "markdown",
   "id": "0d355c2a",
   "metadata": {},
   "source": [
    "Keyword arguments are optional and are defined with a **default value**. If the function is called with a given keyword argument missing, the default value is used inside the function. Otherwise, you can assign a value to a keyword argument when calling a function by specifying the name of the argument with an equal sign, then the value.\n"
   ]
  },
  {
   "cell_type": "code",
   "execution_count": null,
   "id": "cd8cbcf8",
   "metadata": {},
   "outputs": [],
   "source": [
    "def print_name_and_age(name, age, add_newline=False):\n",
    "    print(name, age)\n",
    "    if add_newline:\n",
    "        # No need to put \\n, print with empty parameters will just be a newline\n",
    "        print()\n",
    "\n",
    "\n",
    "print_name_and_age(\"Mateo\", 42)\n",
    "print_name_and_age(\"Mateo\", 42, add_newline=True)\n",
    "print(\"after function calls\")"
   ]
  },
  {
   "cell_type": "markdown",
   "id": "377b0fd5",
   "metadata": {},
   "source": [
    "When calling or defining a function, you must specify the keyword arguments _after_ the positional arguments. So the following is an error:\n"
   ]
  },
  {
   "cell_type": "code",
   "execution_count": null,
   "id": "344c12ef",
   "metadata": {},
   "outputs": [],
   "source": [
    "# add_newline is a keyword argument (note the `=` sign). 42 doesn't have an equal sign or a name,\n",
    "# so it is a positional argument. But positional arguments aren't allowed after keyword arguments.\n",
    "print_name_and_age('Mateo', add_newline=True, 42)\n",
    "\n",
    "# You cannot define a positional argument after a keyword argument.\n",
    "def some_thing(x, y, z=42, n):\n",
    "  pass"
   ]
  },
  {
   "cell_type": "markdown",
   "id": "19545908",
   "metadata": {},
   "source": [
    "Keyword arguments themselves, however, can be specified in any order.\n"
   ]
  },
  {
   "cell_type": "code",
   "execution_count": null,
   "id": "52b560c6",
   "metadata": {},
   "outputs": [],
   "source": [
    "def print_name_and_age(\n",
    "    name, age, add_newline=False, multiply_age=False, age_multiplier=2\n",
    "):\n",
    "    if multiply_age:\n",
    "        age = age * age_multiplier\n",
    "    print(name, age)\n",
    "    if add_newline:\n",
    "        # No need to put \\n, print with empty arguments will just be a newline\n",
    "        print()\n",
    "\n",
    "\n",
    "print_name_and_age(\"Mateo\", 42, age_multiplier=3, multiply_age=True, add_newline=True)\n",
    "# Keyword arguments can be specified with the same value as their defaults\n",
    "print_name_and_age(\"Belinda\", 10, multiply_age=False, add_newline=False)\n",
    "print(\"after function calls\")"
   ]
  },
  {
   "cell_type": "markdown",
   "id": "8c2aa989",
   "metadata": {},
   "source": [
    "You can also specify keyword arguments as if they were positional arguments:\n"
   ]
  },
  {
   "cell_type": "code",
   "execution_count": null,
   "id": "1e03a214",
   "metadata": {},
   "outputs": [],
   "source": [
    "print_name_and_age(\"Kelly\", 25, True, True, 4)\n",
    "# Missing keyword arguments get their default values, as usual\n",
    "print_name_and_age(\"Chan\", 10, False)\n",
    "print(\"after function calls\")"
   ]
  },
  {
   "cell_type": "markdown",
   "id": "8fc0e890",
   "metadata": {},
   "source": [
    "And positional arguments as if they were keyword arguments:\n"
   ]
  },
  {
   "cell_type": "code",
   "execution_count": null,
   "id": "7847cd08",
   "metadata": {},
   "outputs": [],
   "source": [
    "print_name_and_age(add_newline=True, name=\"Mateo\", age=42)\n",
    "print(\"after function calls\")"
   ]
  },
  {
   "cell_type": "markdown",
   "id": "b9a9a268",
   "metadata": {},
   "source": [
    "Though in practice, doing so can cause confusion for folks who are reading your code.\n"
   ]
  },
  {
   "cell_type": "markdown",
   "id": "ae00900c",
   "metadata": {},
   "source": [
    "### Excercise\n",
    "\n",
    "Give the following function definition:\n"
   ]
  },
  {
   "cell_type": "code",
   "execution_count": null,
   "id": "c40a12d8",
   "metadata": {},
   "outputs": [],
   "source": [
    "fruits = {\n",
    "    \"apple\": \"red\",\n",
    "    \"pear\": \"brown\",\n",
    "    \"lime\": \"green\",\n",
    "}\n",
    "\n",
    "\n",
    "def print_fruit_color(\n",
    "    fruit_name, print_if_missing=False, override=False, override_color=\"blue\"\n",
    "):\n",
    "    if fruit_name in fruits:\n",
    "        color = fruits[fruit_name]\n",
    "        if override:\n",
    "            color = override_color\n",
    "        print(\"%s is %s\" % (fruit_name, color))\n",
    "    elif print_if_missing:\n",
    "        print(\"No known fruit\")"
   ]
  },
  {
   "cell_type": "markdown",
   "id": "ef9c399c",
   "metadata": {},
   "source": [
    "Try different ways of calling the function, with different values for the arguments. Try calling it in all the ways we've seen:\n",
    "\n",
    "- With just the positional arguments\n",
    "- With the positional argument and one or more keyword arguments\n",
    "- With the keyword arguments out of order\n"
   ]
  },
  {
   "cell_type": "code",
   "execution_count": null,
   "id": "723ac205",
   "metadata": {},
   "outputs": [],
   "source": [
    "# Your code here"
   ]
  },
  {
   "cell_type": "markdown",
   "id": "3650d42e",
   "metadata": {},
   "source": [
    "---\n"
   ]
  },
  {
   "cell_type": "markdown",
   "id": "1fd19655-820b-4047-b82f-96eef42c0089",
   "metadata": {},
   "source": [
    "## Function 'scope'\n",
    "\n",
    "In programming, scope refers to the places where you can refer to a variable. A variable that you can refer to without a `NameError` is referred to as being \"in-scope\".\n"
   ]
  },
  {
   "cell_type": "code",
   "execution_count": null,
   "id": "64ec97a3-1c74-430f-ba9a-d32665a21871",
   "metadata": {},
   "outputs": [],
   "source": [
    "def get_discount(price):\n",
    "    return round(price * 0.8, 2)\n",
    "\n",
    "\n",
    "prices = [1.50, 2.10, 3.29]\n",
    "for p in prices:\n",
    "    print(get_discount(p))"
   ]
  },
  {
   "cell_type": "markdown",
   "id": "5ffe9b18-6f31-4707-8f74-1ae1567c9976",
   "metadata": {},
   "source": [
    "The scope of the variable `price`, as defined in the `get_discount` function definition, is only within the get_discount function. You can't refer to that variable outside of the function:\n"
   ]
  },
  {
   "cell_type": "code",
   "execution_count": null,
   "id": "04a5de37-101c-4d11-bd18-d29fac3d2067",
   "metadata": {},
   "outputs": [],
   "source": [
    "discount_multiplier = 0.8\n",
    "\n",
    "\n",
    "def get_discount(price):\n",
    "    return round(price * discount_multiplier, 2)\n",
    "\n",
    "\n",
    "prices = [1.50, 2.10, 3.29]\n",
    "print(f\"Applying discounts with {discount_multiplier}\")\n",
    "for p in prices:\n",
    "    print(get_discount(p))\n",
    "    print(price)  # NameError"
   ]
  },
  {
   "cell_type": "markdown",
   "id": "9150037a-ac31-415c-987c-48b8b98e6d85",
   "metadata": {},
   "source": [
    "You can use the same variable name in multiple places, and they will refer to different things:\n"
   ]
  },
  {
   "cell_type": "code",
   "execution_count": null,
   "id": "eb404f16-6117-4264-979f-23d304920d2f",
   "metadata": {},
   "outputs": [],
   "source": [
    "def get_discount(price):\n",
    "    return price * 0.8\n",
    "\n",
    "\n",
    "def apply_discounts():\n",
    "    price = 1.29\n",
    "    # The get_discount function doesn't use the price variable\n",
    "    # we just defined.\n",
    "    discounted = get_discount(10.59)\n",
    "    print(discounted)\n",
    "    print(price)\n",
    "\n",
    "\n",
    "apply_discounts()"
   ]
  },
  {
   "cell_type": "markdown",
   "id": "83e5ba02-b5be-48ba-aba3-39d68d11175b",
   "metadata": {},
   "source": [
    "In Python, blocks do not interact with scope. So if you have a variable that is assigned in an `if` or `for` block, it is still available after the block is finished. This can be surprising!\n"
   ]
  },
  {
   "cell_type": "code",
   "execution_count": null,
   "id": "3b01a2af-8506-44de-857f-c1a011ffe98d",
   "metadata": {},
   "outputs": [],
   "source": [
    "prices = [1.50, 2.10, 3.29]\n",
    "\n",
    "for price in prices:\n",
    "    get_discount(price)\n",
    "\n",
    "# Price still refers to the last thing it was assigned in the for loop!\n",
    "print(price)"
   ]
  },
  {
   "cell_type": "markdown",
   "id": "5a6efcb7",
   "metadata": {},
   "source": [
    "# Mutability\n",
    "\n",
    "**Mutability** refers to the concept of what values in a program can change. An object in Python is **mutable** if it can be changed, and **immutable** if it cannot. We've already discussed the fact that tuples are immutable. Strings and numbers are also immutable. If you assign a number to a variable, it's always the same number. If you later assign a different number to the variable, the variable has changed, but the number hasn't.\n"
   ]
  },
  {
   "cell_type": "code",
   "execution_count": null,
   "id": "b4448fc8",
   "metadata": {},
   "outputs": [],
   "source": [
    "x = 42\n",
    "print(x)\n",
    "\n",
    "# x.add(1)  # This isn't possible, we can't change the number\n",
    "\n",
    "# We still have a variable named x, it's the same variable, but now\n",
    "# it refers to a different value.\n",
    "x = 50\n",
    "print(x)\n",
    "\n",
    "# Now we've added 10 to x, which creates a \"new\" number, that\n",
    "# is assigned to x.\n",
    "x = x + 10\n",
    "print(x)"
   ]
  },
  {
   "cell_type": "markdown",
   "id": "125fd6f2",
   "metadata": {},
   "source": [
    "42, 50 and 60 are all different numbers. The variable `x` holds each of them in turn.\n"
   ]
  },
  {
   "cell_type": "markdown",
   "id": "a78eb419",
   "metadata": {},
   "source": [
    "Strings may \"appear\" to be mutable, but methods on strings that seem to modify the string actually return a new string.\n"
   ]
  },
  {
   "cell_type": "code",
   "execution_count": null,
   "id": "dd1bbd4e",
   "metadata": {},
   "outputs": [],
   "source": [
    "p = \"pineapple\"\n",
    "p.capitalize()\n",
    "print(p)"
   ]
  },
  {
   "cell_type": "markdown",
   "id": "8c5f58d8",
   "metadata": {},
   "source": [
    "The code `p.capitalize()` returns a new version of the string with it capitalized. We have to assign it to a variable or otherwise use it in an expression for it to do anything.\n"
   ]
  },
  {
   "cell_type": "code",
   "execution_count": null,
   "id": "31933868",
   "metadata": {},
   "outputs": [],
   "source": [
    "p = \"pineapple\"\n",
    "q = p.capitalize()\n",
    "print(q)"
   ]
  },
  {
   "cell_type": "markdown",
   "id": "0ac4580f",
   "metadata": {},
   "source": [
    "Of course, we could have also \"overwritten\" the value of `p` with the newly capitilized string.\n"
   ]
  },
  {
   "cell_type": "code",
   "execution_count": null,
   "id": "5ac8d008",
   "metadata": {},
   "outputs": [],
   "source": [
    "p = \"pineapple\"\n",
    "p = p.capitalize()\n",
    "print(p)"
   ]
  },
  {
   "cell_type": "markdown",
   "id": "36faae94",
   "metadata": {},
   "source": [
    "Meanwhile, data structures like lists and dictionaries are mutable. We can modify them with methods like `append()`.\n"
   ]
  },
  {
   "cell_type": "code",
   "execution_count": null,
   "id": "1dc8e9c3",
   "metadata": {},
   "outputs": [],
   "source": [
    "fruits = [\"apple\", \"lime\", \"pear\"]\n",
    "fruits.append(\"kiwi\")\n",
    "print(fruits)"
   ]
  },
  {
   "cell_type": "markdown",
   "id": "0c2ede6f",
   "metadata": {},
   "source": [
    "If two variables refer to the same list, changes to the list will be reflected in both.\n"
   ]
  },
  {
   "cell_type": "code",
   "execution_count": null,
   "id": "a3535ed3",
   "metadata": {},
   "outputs": [],
   "source": [
    "fruits = [\"apple\", \"lime\", \"pear\"]\n",
    "other_fruits = fruits\n",
    "fruits.append(\"kiwi\")\n",
    "print(other_fruits)\n",
    "print(fruits)"
   ]
  },
  {
   "cell_type": "markdown",
   "id": "65f2f7dc",
   "metadata": {},
   "source": [
    "This means that if we pass a list to a funciton, and the function modifies the list, we will see those changes in the place where we called the function.\n"
   ]
  },
  {
   "cell_type": "code",
   "execution_count": null,
   "id": "3069413b",
   "metadata": {},
   "outputs": [],
   "source": [
    "def add_kiwi(fruits):\n",
    "    fruits.append(\"kiwi\")\n",
    "\n",
    "\n",
    "fruit_list = [\"apple\", \"lime\", \"pear\"]\n",
    "print(fruit_list)\n",
    "add_kiwi(fruit_list)\n",
    "print(fruit_list)"
   ]
  },
  {
   "cell_type": "markdown",
   "id": "73447721",
   "metadata": {},
   "source": [
    "Not so for numbers.\n"
   ]
  },
  {
   "cell_type": "code",
   "execution_count": null,
   "id": "e5fa2b9a",
   "metadata": {},
   "outputs": [],
   "source": [
    "def add_ten(x):\n",
    "    # We only reassigned the value of the variable x, we did not\n",
    "    # modify the number `42`, because the number is immutable.\n",
    "    x = x + 10\n",
    "\n",
    "\n",
    "y = 42\n",
    "print(y)\n",
    "add_ten(y)\n",
    "print(y)"
   ]
  },
  {
   "cell_type": "markdown",
   "id": "b48eb1a1",
   "metadata": {},
   "source": [
    "It may seem that you have to memorize that numbers just kind of behave differently than lists. But that's not the case! The real difference between those two blocks of code is that `fruits.append('kiwi')` is calling the `.append()` method on the list directly, which modifies the list. The code `x = x + 10` only modifies _which value x is refering to_ (52 instead of 42), it does not modify the number `42`. The actual objects and data \"in memory\" are different than the variables that refer to them.\n"
   ]
  },
  {
   "cell_type": "markdown",
   "id": "b6700428",
   "metadata": {},
   "source": [
    "## Iterating over dictionaries\n",
    "\n",
    "We can iterate over dictionaries by calling the dictionary's `.items()` method. It returns an iterable of tuples, with each tuple containing a key and its value:\n"
   ]
  },
  {
   "cell_type": "code",
   "execution_count": null,
   "id": "a9e25ce5",
   "metadata": {},
   "outputs": [],
   "source": [
    "prices = {\n",
    "    \"apple\": 0.99,\n",
    "    \"orange\": 1.29,\n",
    "    \"watermelon\": {\"one\": 1.79, \"two\": 2.99},\n",
    "}\n",
    "\n",
    "for key, value in prices.items():\n",
    "    print(f\"Key is {key}, value is {value}\")"
   ]
  },
  {
   "cell_type": "markdown",
   "id": "2d8dff30",
   "metadata": {},
   "source": [
    "This is similar to what we saw when we used the `enumerate()` function, which returns a tuple of `(index, item)`, in terms of using a for loop with a function that returns tuples:\n"
   ]
  },
  {
   "cell_type": "code",
   "execution_count": null,
   "id": "e80ee0f0",
   "metadata": {},
   "outputs": [],
   "source": [
    "fruits = [\"apple\", \"kiwi\", \"lime\", \"pear\"]\n",
    "for i, fruit in enumerate(fruits):\n",
    "    print(\"Fruit %d is %s\" % (i, fruit))"
   ]
  },
  {
   "cell_type": "markdown",
   "id": "d23de7ea",
   "metadata": {},
   "source": [
    "# Appendix: \\*args and \\*\\*kwargs\n",
    "\n",
    "Python provides the special parameters `*args` and `**kwargs`, that capture all of the remaining positional (`*args`) and keyword (`**kwargs`) arguments to a function. Let's see this in practice.\n"
   ]
  },
  {
   "cell_type": "code",
   "execution_count": null,
   "id": "0efa2222",
   "metadata": {},
   "outputs": [],
   "source": [
    "def color_them(color, *args):\n",
    "    for arg in args:\n",
    "        print(\"%s: %s\" % (color, arg))\n",
    "\n",
    "\n",
    "color_them(\"red\", 1, 2, 3)"
   ]
  },
  {
   "cell_type": "markdown",
   "id": "cf57bf49",
   "metadata": {},
   "source": [
    "The first argument, `'red'` is assigned to the argument `color`. Then the next positional arguments, as many as we want, are assigned to `args`, which is a list. Notice that when referring to `args` in the code, we omit the asterisk (`*`), which is only used in the function definition to indicate that `args` is a special variable that is capturing all of the remaining positional arguments.\n",
    "\n",
    "We can define keyword arguments after `*args` if we like.\n"
   ]
  },
  {
   "cell_type": "code",
   "execution_count": null,
   "id": "84ba9c5a",
   "metadata": {},
   "outputs": [],
   "source": [
    "def color_them2(color, *args, print_twice=False):\n",
    "    for arg in args:\n",
    "        i = 1\n",
    "        if print_twice:\n",
    "            i = 2\n",
    "        # We use a single underscore, '_', to indicate that\n",
    "        # we're not using a variable. It doesn't have any\n",
    "        # special meaning, it's just a convention.\n",
    "        for _ in range(i):\n",
    "            print(\"%s: %s\" % (color, arg))\n",
    "\n",
    "\n",
    "color_them2(\"blue\", 10, 20, 30, 40, 50, print_twice=True)"
   ]
  },
  {
   "cell_type": "markdown",
   "id": "558d598d",
   "metadata": {},
   "source": [
    "What if we want to use a variable length list of `*args` to call a function that can take a variable length list of `*args`?\n"
   ]
  },
  {
   "cell_type": "code",
   "execution_count": null,
   "id": "72265907",
   "metadata": {},
   "outputs": [],
   "source": [
    "def color_with_header(color, *args):\n",
    "    print(\"=== %s ===\" % color)\n",
    "    color_them(color, *args)\n",
    "\n",
    "\n",
    "color_with_header(\"green\", 100, 150, 200, 250)"
   ]
  },
  {
   "cell_type": "markdown",
   "id": "72620bf7",
   "metadata": {},
   "source": [
    "Here, we again using the asterisk (`*`) but it has a different meaning. When we use it on line 5 above in our call to `color_them`, we are using it as the **unpacking operator**. This means, take an actual list of items, and extract each one, rather than just passing it as a list.\n",
    "\n",
    "You may be wondering why we would use `*args` instead of just passing a single item that represents a list. We'll get back to that, promise.\n"
   ]
  },
  {
   "cell_type": "code",
   "execution_count": null,
   "id": "8ce37aeb",
   "metadata": {},
   "outputs": [],
   "source": [
    "def color_them3(color, things):\n",
    "    for thing in things:\n",
    "        print(\"%s: %s\" % (color, thing))\n",
    "\n",
    "\n",
    "color_them3(\"yellow\", [3, 5, 7])"
   ]
  },
  {
   "cell_type": "markdown",
   "id": "045a9c09",
   "metadata": {},
   "source": [
    "Just like we have a way to capture any variable number of positional args, we can also capture keyword args using `**kwargs`.\n"
   ]
  },
  {
   "cell_type": "code",
   "execution_count": null,
   "id": "38ce9306",
   "metadata": {},
   "outputs": [],
   "source": [
    "def print_prices(header, multiplier=1, **kwargs):\n",
    "    print(header)\n",
    "    for thing, price in kwargs.items():\n",
    "        print(\"%s costs %s\" % (thing, price * multiplier))\n",
    "\n",
    "\n",
    "print_prices(\"The prices:\", apple=1.29, orange=1.59, banana=0.89)"
   ]
  },
  {
   "cell_type": "markdown",
   "id": "38aa305b",
   "metadata": {},
   "source": [
    "We can pass literally any valid python identifier to the `print_prices` function, and they will all be captured in the dictionary `kwargs`. Notice that there is still a positional argument (we can have as many of those as we like) and a named keyword argument (`multiplier`) that can be specified as well and will be captured outside of `kwargs` (so `multiplier` won't be part of the `kwargs` dictionary).\n"
   ]
  },
  {
   "cell_type": "code",
   "execution_count": null,
   "id": "39412703",
   "metadata": {},
   "outputs": [],
   "source": [
    "print_prices(\"Toy prices:\", train=5.50, multiplier=2, blocks=1.00)"
   ]
  },
  {
   "cell_type": "markdown",
   "id": "53966696",
   "metadata": {},
   "source": [
    "Like `*args`, we can use the dictionary deconstruction operator `**` to pass a dictionary to a function as keyword arguments.\n"
   ]
  },
  {
   "cell_type": "code",
   "execution_count": null,
   "id": "d0ed5c94",
   "metadata": {},
   "outputs": [],
   "source": [
    "def turn_the_car(direction=\"left\", speed=30):\n",
    "    print(direction, speed)\n",
    "\n",
    "\n",
    "my_kwargs = {\"direction\": \"right\"}\n",
    "turn_the_car(**my_kwargs)"
   ]
  },
  {
   "cell_type": "markdown",
   "id": "18f91715",
   "metadata": {},
   "source": [
    "It's important to note that you can't call the function `turn_the_car` with an arbitrary destructured dictionary, because it's not set up to accept arbitrary keyword arguments.\n"
   ]
  },
  {
   "cell_type": "code",
   "execution_count": null,
   "id": "0890a37c",
   "metadata": {},
   "outputs": [],
   "source": [
    "my_kwargs2 = {\"direction\": \"up\", \"brake\": True, \"foo\": \"bar\"}\n",
    "turn_the_car(**my_kwargs2)"
   ]
  },
  {
   "cell_type": "markdown",
   "id": "1233dfa1",
   "metadata": {},
   "source": [
    "So what's the point of all this? The main reason to capture `*args` and `**kwargs` is so that you can confidently delegate to or wrap helper functions. Let's say we had a function that performs some task. Maybe we want to print out a logging message before and after the task.\n"
   ]
  },
  {
   "cell_type": "code",
   "execution_count": null,
   "id": "7bde494e",
   "metadata": {},
   "outputs": [],
   "source": [
    "def perform_task(data, instruction, preference=False, num_rows=100):\n",
    "    # Doesn't actually do anything, left to your imagination\n",
    "    print(data, instruction, preference, num_rows)\n",
    "\n",
    "\n",
    "def log_perform_task(*args, **kwargs):\n",
    "    print(\"About to run perform_task\")\n",
    "    perform_task(*args, **kwargs)\n",
    "    print(\"Done with perform_task\")\n",
    "\n",
    "\n",
    "perform_task([1, 2, 3], \"foo\")\n",
    "log_perform_task([4, 5, 6], \"bar\", num_rows=50)"
   ]
  },
  {
   "cell_type": "markdown",
   "id": "9596a829",
   "metadata": {},
   "source": [
    "Here, what we're basicially saying is: \"Whatever positional arguments and keyword arguments were passed to this function, pass those same arguments to the function we're calling\". So the `*args` and `**kwargs` arguments in the definition of `log_perform_task` capture the positional and keyword arguments, which are then **destructured** and passed as the positional and keyword arguments of `perform_task`.\n",
    "\n",
    "We could also modify or remove parameters:\n"
   ]
  },
  {
   "cell_type": "code",
   "execution_count": null,
   "id": "504b50f2",
   "metadata": {},
   "outputs": [],
   "source": [
    "def perform_twice_as_many_rows(*args, **kwargs):\n",
    "    if \"num_rows\" in kwargs:\n",
    "        kwargs[\"num_rows\"] *= 2\n",
    "    perform_task(*args, **kwargs)\n",
    "\n",
    "\n",
    "perform_twice_as_many_rows([1, 2, 3], \"foo\", num_rows=500)"
   ]
  },
  {
   "cell_type": "markdown",
   "id": "6f06db7d",
   "metadata": {},
   "source": [
    "We could have also explicitly defined the necessary parameters for our utility function:\n"
   ]
  },
  {
   "cell_type": "code",
   "execution_count": null,
   "id": "83c29f58",
   "metadata": {},
   "outputs": [],
   "source": [
    "def log_perform_task_worse(data, instruction, preference=False, num_rows=100):\n",
    "    print(\"About to run perform_task\")\n",
    "    perform_task(data, instruction, preference=preference, num_rows=num_rows)\n",
    "    print(\"Done with perform_task\")"
   ]
  },
  {
   "cell_type": "markdown",
   "id": "db2be611",
   "metadata": {},
   "source": [
    "The problem with that approach is that we have to update all of our utility functions (and we already have two of them!) whenever the definition of `perform_task` updates. So if we add a new parameter to `perform_task`, the function `log_perfrom_task_worse` will also need to be updated.\n"
   ]
  },
  {
   "cell_type": "code",
   "execution_count": null,
   "id": "b15e4f1b",
   "metadata": {},
   "outputs": [],
   "source": [
    "# The `capture` argument is new\n",
    "def perform_task(data, instruction, preference=False, num_rows=100, capture=True):\n",
    "    print(data, instruction, preference, num_rows, capture)\n",
    "\n",
    "\n",
    "def log_perform_task_worse(\n",
    "    data, instruction, preference=False, num_rows=100, capture=True\n",
    "):\n",
    "    print(\"About to run perform_task\")\n",
    "    perform_task(\n",
    "        data, instruction, preference=preference, num_rows=num_rows, capture=capture\n",
    "    )\n",
    "    print(\"Done with perform_task\")"
   ]
  },
  {
   "cell_type": "markdown",
   "id": "37af823e",
   "metadata": {},
   "source": [
    "Instead, the `*args`/`**kwargs` approach let's us basically say \"We don't care what the arguments to the delegated function are, pass them\".\n"
   ]
  },
  {
   "cell_type": "markdown",
   "id": "448e2992",
   "metadata": {},
   "source": [
    "## Appendix: Functions as variables\n",
    "\n",
    "Functions can be assigned to variables, and can be passed to other functions. If you do this, make sure you use the `function_name` itself and don't accidentally call it (aka `function_name()`)\n"
   ]
  },
  {
   "cell_type": "code",
   "execution_count": null,
   "id": "1680baf6",
   "metadata": {},
   "outputs": [],
   "source": [
    "def double(x):\n",
    "    return x * 2\n",
    "\n",
    "\n",
    "def triple(x):\n",
    "    return x * 3\n",
    "\n",
    "\n",
    "math_fn = triple\n",
    "# This doesn't work because you are calling the function, and its\n",
    "# return value gets assigned to math_fn_2\n",
    "math_fn_2 = triple(10)\n",
    "\n",
    "result = math_fn(5)\n",
    "print(result)\n",
    "\n",
    "# Causes an error because math_fn_2 is `30`, not a function\n",
    "# math_fn_2(5)"
   ]
  },
  {
   "cell_type": "markdown",
   "id": "b7508845",
   "metadata": {},
   "source": [
    "As mentioned, we can pass functions as variables to other functions\n"
   ]
  },
  {
   "cell_type": "code",
   "execution_count": null,
   "id": "247fbe11",
   "metadata": {},
   "outputs": [],
   "source": [
    "def multiply(x, y):\n",
    "    return x * y\n",
    "\n",
    "\n",
    "def add(x, y):\n",
    "    return x + y\n",
    "\n",
    "\n",
    "def do_math(math_fn, x, y):\n",
    "    return math_fn(x, y)\n",
    "\n",
    "\n",
    "result = do_math(multiply, 10, 3)\n",
    "print(result)\n",
    "\n",
    "result_2 = do_math(add, 10, 3)\n",
    "print(result_2)"
   ]
  },
  {
   "cell_type": "markdown",
   "id": "5ba4edca",
   "metadata": {},
   "source": [
    "And a more complex example:\n"
   ]
  },
  {
   "cell_type": "code",
   "execution_count": null,
   "id": "a3b71776",
   "metadata": {},
   "outputs": [],
   "source": [
    "def collect(a_list, operation):\n",
    "    ans = []\n",
    "    for item in a_list:\n",
    "        ans.append(operation(item))\n",
    "    return ans\n",
    "\n",
    "\n",
    "def multiply_by_2(x):\n",
    "    return x * 2\n",
    "\n",
    "\n",
    "numbers = [1, 1, 2, 3, 5, 8, 13]\n",
    "\n",
    "all_multiplied = collect(numbers, multiply_by_2)\n",
    "print(all_multiplied)"
   ]
  },
  {
   "cell_type": "markdown",
   "id": "7f05384a",
   "metadata": {},
   "source": [
    "What built-in python operation does this look like?\n"
   ]
  }
 ],
 "metadata": {
  "kernelspec": {
   "display_name": "PythonClass-vcBxlNeB",
   "language": "python",
   "name": "python3"
  },
  "language_info": {
   "codemirror_mode": {
    "name": "ipython",
    "version": 3
   },
   "file_extension": ".py",
   "mimetype": "text/x-python",
   "name": "python",
   "nbconvert_exporter": "python",
   "pygments_lexer": "ipython3",
   "version": "3.12.3"
  }
 },
 "nbformat": 4,
 "nbformat_minor": 5
}
