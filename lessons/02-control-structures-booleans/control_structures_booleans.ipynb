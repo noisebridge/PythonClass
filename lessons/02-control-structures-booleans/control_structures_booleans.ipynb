{
 "cells": [
  {
   "cell_type": "markdown",
   "id": "d4c2ff74",
   "metadata": {},
   "source": [
    "Welcome to week 2 of the Noisebridge Python Class ([Noisebridge Wiki](https://www.noisebridge.net/wiki/PyClass) | [Github](https://github.com/audiodude/PythonClass))\n",
    "\n",
    "This week, we will learn more about the basic building blocks of Python programs, starting with keywords and syntax used for what's called **flow control**.\n",
    "\n",
    "We will learn about:\n",
    "\n",
    "* if statements\n",
    "* Boolean variables\n",
    "* Boolean operators\n",
    "* for loops\n",
    "* list comprehensions\n",
    "\n",
    "The first thing we will learn is the **if statement**:"
   ]
  },
  {
   "cell_type": "code",
   "execution_count": null,
   "id": "dd1009bf",
   "metadata": {},
   "outputs": [],
   "source": [
    "x = 3\n",
    "\n",
    "if x + 2 == 5:\n",
    "    print('x is 3')\n",
    "else:\n",
    "    print('x is something other than 3')"
   ]
  },
  {
   "cell_type": "markdown",
   "id": "aaf28ba8",
   "metadata": {},
   "source": [
    "Try changing the value of x in the example above. We can see that the print statement on line 4 is executed only when x + 2 is equal (`==`) to 5. Otherwise (`else`), it prints that x is something other than 3."
   ]
  },
  {
   "cell_type": "code",
   "execution_count": null,
   "id": "8a908dd7",
   "metadata": {},
   "outputs": [],
   "source": [
    "x = 'boo'\n",
    "result = 'scary'\n",
    "\n",
    "if len(x) > 4:\n",
    "    result = 'not scary'\n",
    "    \n",
    "if len(x) > 5:\n",
    "    result = 'still not scary'\n",
    "    \n",
    "print(result)"
   ]
  },
  {
   "cell_type": "markdown",
   "id": "619b87fc",
   "metadata": {},
   "source": [
    "The `if` statement doesn't have to have an else statement along with it. In this example, the length of x (the number of characters it contains) is not greater than 4, so line 4 does not execute. It's also not greater than 5, so line 7 does not execute. The end result is the equivalent of the following:"
   ]
  },
  {
   "cell_type": "code",
   "execution_count": null,
   "id": "9ac4a1f8",
   "metadata": {},
   "outputs": [],
   "source": [
    "x = 'boo'\n",
    "result = 'scary'\n",
    "\n",
    "print(result)"
   ]
  },
  {
   "cell_type": "markdown",
   "id": "04f41ace",
   "metadata": {},
   "source": [
    "We can also express 'truthiness' (it's an actual term!) and 'falsiness' (this one too!) with **boolean variables**. A boolean variable has either the value of `True` or `False`."
   ]
  },
  {
   "cell_type": "code",
   "execution_count": null,
   "id": "35a4e5e8",
   "metadata": {},
   "outputs": [],
   "source": [
    "is_raining = False\n",
    "is_going_outside = True\n",
    "\n",
    "# Note, we are setting these values to False here not because\n",
    "# the \"final answer/result\" for them is False, but because they\n",
    "# should default to False if the code below ends up not setting\n",
    "# them to True.\n",
    "need_umbrella = False\n",
    "need_exercise = False\n",
    "\n",
    "if is_raining and is_going_outside: # The if statement executes if both values are truthy\n",
    "    need_umbrella = True\n",
    "elif not is_going_outside: # elif means \"else if\". It combines an else statement with a new if statement\n",
    "    need_exercise = True\n",
    "\n",
    "printed_something = False # Again, default value.\n",
    "if need_umbrella:\n",
    "    print('You need an umbrella')\n",
    "    printed_something = True\n",
    "\n",
    "if need_exercise:\n",
    "    print('You need to get some exercise')\n",
    "    printed_something = True\n",
    "\n",
    "if not printed_something:\n",
    "    print('Have a nice day!')"
   ]
  },
  {
   "cell_type": "markdown",
   "id": "86d35720",
   "metadata": {},
   "source": [
    "Try modifying the values of `is_raining` and `is_going_outside` above and re-running the code."
   ]
  },
  {
   "cell_type": "markdown",
   "id": "5d8eaeae",
   "metadata": {},
   "source": [
    "Note that code that doesn't match a true if condition is completely skipped. It can contain invalid or erroneous code, and you'll never know it until someday the condition is true:"
   ]
  },
  {
   "cell_type": "code",
   "execution_count": null,
   "id": "2f08454c",
   "metadata": {},
   "outputs": [],
   "source": [
    "n = 99\n",
    "\n",
    "if n < 100:\n",
    "    print(n)\n",
    "else:\n",
    "    print(foo_does_not_exist)\n",
    "    print(5 / 0)"
   ]
  },
  {
   "cell_type": "markdown",
   "id": "4745279f",
   "metadata": {},
   "source": [
    "## Interlude - Whitespace\n",
    "You may have heard that in Python, \"whitespace matters\". If you've been editing the code examples in these notebooks, or writing code in a Replit, you might have already come across an `IndentationError` or two.\n",
    "\n",
    "The rule in Python, in general, is that additional levels of indention are used to define increasingly nested blocks of code. Inside a given \"block\", all of the lines that comprise the block must have the same indentation, ie the same number of tabs or spaces."
   ]
  },
  {
   "cell_type": "code",
   "execution_count": null,
   "id": "a0f472ad",
   "metadata": {},
   "outputs": [],
   "source": [
    "# Top level psuedo-block (not actually a block), no indentation\n",
    "x = 42\n",
    "y = x * 2\n",
    "if y > x:\n",
    "    # The colon above starts a block, inside the if statement\n",
    "    print('y is greater')\n",
    "    z = y * 2\n",
    "    # Note that every line of code in this block aligns\n",
    "    \n",
    "for i in range(x):\n",
    "    if i > 39 and i % 2 == 0:\n",
    "        # A second block requires a new level of indentation\n",
    "        print('%s is over 39 and even' % i)\n",
    "        continue\n",
    "\n",
    "    # Blank lines don't matter\n",
    "    if i % 17 == 0:\n",
    "            # The indentation of a block doesn't need to match\n",
    "            # the indentation of other sibling blocks. It just\n",
    "            # needs to be internally consistent\n",
    "            print('%s is divisible by 17' % i)\n",
    "            x2 = i + 10\n",
    "            \n",
    "    # Outdenting means the end of the block. This line runs after\n",
    "    # each of the if statements above\n",
    "    y2 = x - i\n",
    "    # This is an IndentationError, because there's no new block,\n",
    "    # but the indentation of the next line doesn't match the previous\n",
    "    #  y3 = y2 * 3"
   ]
  },
  {
   "cell_type": "markdown",
   "id": "497d3493",
   "metadata": {},
   "source": [
    "---"
   ]
  },
  {
   "cell_type": "markdown",
   "id": "328213e6",
   "metadata": {},
   "source": [
    "## Boolean operators\n",
    "\n",
    "There are also **boolean operators** which operate on boolean variables (and anything which can be evaluated for truthiness or falsiness). The important ones are:\n",
    "\n",
    "* `and`\n",
    "* `or`\n",
    "* `not`\n",
    "\n",
    "*(Note: In other languages (like C++ or Javascript), `and` is written as `&&` for example. Python is a bit more fluent in that regard)*"
   ]
  },
  {
   "cell_type": "code",
   "execution_count": null,
   "id": "7f357f0d",
   "metadata": {},
   "outputs": [],
   "source": [
    "t = True\n",
    "ta = True\n",
    "tb = True\n",
    "\n",
    "f = False\n",
    "fa = False\n",
    "fb = False\n",
    "\n",
    "print((t or f or ta or fa) and fb and t)\n",
    "\n",
    "# print((t or f) and ta)\n",
    "print(((t or tb) and (f or ta)) or f or fa or (t and ta))"
   ]
  },
  {
   "cell_type": "markdown",
   "id": "07be9b0e",
   "metadata": {},
   "source": [
    "In computer science, we often refer to \"truth tables\" to figure out how a boolean operator (like `and` and `or`) behaves when it encounters two boolean values.\n",
    "\n",
    "|       | True   | False   |\n",
    "| ----- | ------ | ------- |\n",
    "| True  | True   | False   |\n",
    "| False | False  | False   |\n",
    "\n",
    "This is the table for `and`. Along the top, we see potential values for `a` and down the side we see potential values for `b` in the expression `a and b`. When `a` is `False` and `b` is `True`, for example, we look in the table and see that the result is False.\n",
    "\n",
    "Here is the table for `or`:\n",
    "\n",
    "|       | True   | False   |\n",
    "| ----- | ------ | ------- |\n",
    "| True  | True   | True    |\n",
    "| False | True   | False   |\n",
    "\n",
    "And for `not`, the table would be one dimensional because it only has one input:\n",
    "\n",
    "| | True | False |\n",
    "| - | - | - |\n",
    "| | False | True |"
   ]
  },
  {
   "cell_type": "markdown",
   "id": "425d221d",
   "metadata": {},
   "source": [
    "Try coming up with arbitrarily long boolean expressions using variables like `t`, `ta`, `fb`, etc. See if you can figure out \"long hand\" what they would evaluate to. Then try \"running them\" in a Python cell and see how you did."
   ]
  },
  {
   "cell_type": "code",
   "execution_count": null,
   "id": "4961776c",
   "metadata": {},
   "outputs": [],
   "source": [
    "## On the playground..."
   ]
  },
  {
   "cell_type": "code",
   "execution_count": null,
   "id": "4ff63cf9",
   "metadata": {},
   "outputs": [],
   "source": [
    "def deserves_ice_cream(age):\n",
    "    # Note, there's a more succinct way to write this!\n",
    "    if age < 12:\n",
    "        return True\n",
    "    else:\n",
    "        return False\n",
    "\n",
    "def deserves_ice_cream2(age):\n",
    "    return age < 12\n",
    "\n",
    "def is_in_park(location):\n",
    "    return location == 'playground' or location == 'picnic'\n",
    "\n",
    "alice = (35, 'playground')\n",
    "bob = (55, 'gazebo')\n",
    "claire = (5, 'playground')\n",
    "dennis = (15, 'picnic')\n",
    "\n",
    "if deserves_ice_cream(alice[0]) and is_in_park(alice[1]):\n",
    "    # Note: why do we need (alice,) with a weird trailing comma?\n",
    "    print('Ice cream for %s!' % (alice,))\n",
    "else:\n",
    "    print('Carry on, %s' % (alice,))\n",
    "    \n",
    "if deserves_ice_cream(bob[0]) and is_in_park(bob[1]):\n",
    "    print('Ice cream for %s!' % (bob,))\n",
    "else:\n",
    "    print('Carry on, %s' % (bob,))"
   ]
  },
  {
   "cell_type": "markdown",
   "id": "fce35b7e",
   "metadata": {},
   "source": [
    "First, think about how we could \"refactor\" the code above so that we don't repeat the code that checks if the person deserves ice cream. How can we create a function that takes in a person as a parameter and does the work done on lines 18-21 and 23-26? Call the function `should_get_ice_cream`.\n",
    "\n",
    "Once you have that function, try calling it with different person variables, like `claire` or `dennis`:\n",
    "\n",
    "`should_get_ice_cream(claire)`"
   ]
  },
  {
   "cell_type": "markdown",
   "id": "c748eb4f",
   "metadata": {},
   "source": [
    "## Tuples\n",
    "\n",
    "Notice that we're using slice notation `[]` again on line 18\n",
    ", but we haven't actually defined a list. The variable `alice` actually refers to a **tuple**. Tuples are like lists, in that they are an ordered collection of any type of value. As we see, they can also be indexed and sliced just like lists. The main difference is that tuples are **immutable**, which means that once they are defined, they can't grow or shrink, or have any of their items change places, like lists can. Use tuples for lists or collections of values that are static or constant."
   ]
  },
  {
   "cell_type": "code",
   "execution_count": null,
   "id": "1f7f0932",
   "metadata": {},
   "outputs": [],
   "source": [
    "food_list = ['apple', 'beans', 'celery']\n",
    "food_tuple = ('apple', 'beans', 'celery',\n",
    "              ('bran cereal', 'oat cereal'), 5, False)\n",
    "\n",
    "def go_shopping(l):\n",
    "    l.append('cereal')\n",
    "\n",
    "go_shopping(food_list)\n",
    "print(food_list)\n",
    "# The following line with be an error\n",
    "# go_shopping(food_tuple)"
   ]
  },
  {
   "cell_type": "markdown",
   "id": "afc93068",
   "metadata": {},
   "source": [
    "## Back to ice cream\n",
    "\n",
    "In the example above, we checked if we should give `alice` ice cream. However, it would be nice if we had a way of checking *all* of the people for whether they deserve ice cream and acting appropriately. We need some way of taking a list or tuple and running code for each item of the list. The flow control syntax for this process is called the **for loop**."
   ]
  },
  {
   "cell_type": "code",
   "execution_count": null,
   "id": "d80aabd5",
   "metadata": {},
   "outputs": [],
   "source": [
    "d = {'apple': 1.29, 'banana': 0.89, 'cereal': 4.99}\n",
    "print(d)\n",
    "\n",
    "# We can remove a key from the dictionary. This is different\n",
    "# from:\n",
    "# d['cereal'] = None\n",
    "# Because that is an explicit mapping of 'cereal' => None,\n",
    "# whereas using `del` removes the key entirely\n",
    "del d['cereal']\n",
    "print(d)\n",
    "\n",
    "for key, value in d.items():\n",
    "    print('%s costs %s' % (key, value))"
   ]
  },
  {
   "cell_type": "code",
   "execution_count": null,
   "id": "a3e69016",
   "metadata": {},
   "outputs": [],
   "source": [
    "alice = (35, 'playground', 'Alice')\n",
    "bob = (55, 'gazebo', 'Bob')\n",
    "claire = (5, 'playground', 'Claire')\n",
    "dennis = (15, 'picnic', 'Dennis')\n",
    "\n",
    "everyone = (alice, bob, claire, dennis)\n",
    "\n",
    "# This is the for loop.\n",
    "for person in everyone:\n",
    "    # Let's make a variable to hold the name, since we refer to it\n",
    "    # twice below.\n",
    "    name = person[2]\n",
    "    # Don't really need extra variables for age and location since\n",
    "    # they're only used once. But it might be more legible to do so.\n",
    "    if deserves_ice_cream(person[0]) and is_in_park(person[1]):\n",
    "        print('Ice cream for %s!' % name)\n",
    "    else:\n",
    "        print('Carry on, %s' % name)\n",
    "        \n",
    "print('done')"
   ]
  },
  {
   "cell_type": "markdown",
   "id": "1b38c350",
   "metadata": {},
   "source": [
    "The way this code works is that when the interpreter gets to line 9, it starts assigning items from `everyone` to the variable `person`. The variable `person` first contains the value for `alice`, then `bob`, etc. When we say:\n",
    "\n",
    "`name = person[2]`\n",
    "\n",
    "We're saying \"Set the variable name to the item at index 2 of the person we're on, whichever one in the list we're on\".\n",
    "\n",
    "Also note that `everyone` is a tuple of tuples. That is, each item in the `everyone` tuple is, itself, a tuple. Tuples (and lists and dictionaries...) can be **nested** arbitrarily deeply in this way.\n",
    "\n",
    "Let's try counting how many people got ice cream."
   ]
  },
  {
   "cell_type": "code",
   "execution_count": null,
   "id": "aab3c665",
   "metadata": {},
   "outputs": [],
   "source": [
    "count = 0\n",
    "for person in everyone:\n",
    "    if deserves_ice_cream(person[0]) and is_in_park(person[1]):\n",
    "        print('Ice cream for %s' % person[2])\n",
    "        count += 1 # x += y is the same as x = x + y\n",
    "        \n",
    "if count:\n",
    "    if count == 1:\n",
    "        person_noun = 'person'\n",
    "    else:\n",
    "        person_noun = 'people'\n",
    "    print('Wow, %s %s got ice cream' % (count, person_noun))"
   ]
  },
  {
   "cell_type": "markdown",
   "id": "82fe5fd6",
   "metadata": {},
   "source": [
    "## Using 'if' and 'for' together\n",
    "\n",
    "Alongside this notebook, we have provided a file which contains a list of numbers labelled with a letter. One data item is on each line. What does this data represent? Who knows! But we're going to process it. Let's start by opening the file and reading each line into it's own entry in a list."
   ]
  },
  {
   "cell_type": "code",
   "execution_count": null,
   "id": "3ae94aba",
   "metadata": {},
   "outputs": [],
   "source": [
    "with open('data.txt', 'r') as file:\n",
    "    # foo.splitlines() is essentially the same as foo.split('\\n'), which we saw last week.\n",
    "    lines = file.read().splitlines()"
   ]
  },
  {
   "cell_type": "markdown",
   "id": "97fc9e87",
   "metadata": {},
   "source": [
    "Now we can write a program that prints all the lines that start with `'A'`"
   ]
  },
  {
   "cell_type": "code",
   "execution_count": null,
   "id": "1b2e7185",
   "metadata": {},
   "outputs": [],
   "source": [
    "for line in lines:\n",
    "    if line.startswith('A'):\n",
    "        print(line)"
   ]
  },
  {
   "cell_type": "markdown",
   "id": "383f6223",
   "metadata": {},
   "source": [
    "Since we have all those lines, we can split them (remember `split`?) on the space and then **cast** the numbers to integers, so that we can extract the values and add them all up."
   ]
  },
  {
   "cell_type": "code",
   "execution_count": null,
   "id": "0cbeb4b6",
   "metadata": {},
   "outputs": [],
   "source": [
    "total = 0\n",
    "for line in lines:\n",
    "    if line.startswith('A'):\n",
    "        # Since the result of the .split is two values, we can assign them both at once\n",
    "        letter, number_as_string = line.split(' ')\n",
    "        total += int(number_as_string)\n",
    "print('Total for A is: %s' % total)"
   ]
  },
  {
   "cell_type": "markdown",
   "id": "6a3d9a4e",
   "metadata": {},
   "source": [
    "Try to understand why we had to call `int(number_as_string)`. What is the difference between `2` and `'2'`?"
   ]
  },
  {
   "cell_type": "markdown",
   "id": "1501825d",
   "metadata": {},
   "source": [
    "We can use a **list comprehension** to build new lists based on our lists of lines. For example, we can extract a list of letters, or numbers only."
   ]
  },
  {
   "cell_type": "code",
   "execution_count": null,
   "id": "02c64baf",
   "metadata": {},
   "outputs": [],
   "source": [
    "letters = [line.split(' ')[0] for line in lines]\n",
    "numbers = [int(line.split(' ')[1]) for line in lines]\n",
    "\n",
    "print(letters)\n",
    "print(numbers)"
   ]
  },
  {
   "cell_type": "markdown",
   "id": "c8c1437b",
   "metadata": {},
   "source": [
    "## List comprehensions\n",
    "\n",
    "A list comprehension is like a for loop all on one line. Here, we're assigning each value in `lines` to the variable `line`. Then, the expression on the leftmost side (`line.split(' ')[0]`) is executed for each `line`. The result is returned as a new list.\n",
    "\n",
    "Let's look at those list comprehensions rewritten as for loops:"
   ]
  },
  {
   "cell_type": "code",
   "execution_count": null,
   "id": "5a46f898",
   "metadata": {},
   "outputs": [],
   "source": [
    "answer = []\n",
    "for line in lines:\n",
    "    answer.append(line.split(' ')[0])\n",
    "letters = answer\n",
    "\n",
    "answer2 = []\n",
    "for line in lines:\n",
    "    answer2.append(int(line.split(' ')[1]))\n",
    "numbers = answer2"
   ]
  },
  {
   "cell_type": "markdown",
   "id": "8ebf4f60",
   "metadata": {},
   "source": [
    "*Side note: it might not be the best idea to go through the lists twice, once for letters and once for numbers, especially if the lists are particularly huge. For our purposes, it doesn't matter.*\n",
    "\n",
    "We can also add the `if` keyword to our list comprehensions, to do filtering of all kinds."
   ]
  },
  {
   "cell_type": "code",
   "execution_count": null,
   "id": "8b16849b",
   "metadata": {},
   "outputs": [],
   "source": [
    "a_lines = [line for line in lines if line.startswith('A')]\n",
    "print(a_lines)"
   ]
  },
  {
   "cell_type": "markdown",
   "id": "e1868435",
   "metadata": {},
   "source": [
    "This is almost equivalent to our for loop above that printed every line that started with 'A', except that now the values are being collected into a new list.\n",
    "\n",
    "Let's see it as a for loop:"
   ]
  },
  {
   "cell_type": "code",
   "execution_count": null,
   "id": "a2c00d7b",
   "metadata": {},
   "outputs": [],
   "source": [
    "answer = []\n",
    "for line in lines:\n",
    "    if line.startswith('A'):\n",
    "        answer.append(line)\n",
    "a_lines = answer"
   ]
  },
  {
   "cell_type": "markdown",
   "id": "23efe722",
   "metadata": {},
   "source": [
    "Finally, just for fun, let's look at a \"one liner\" that calculates the total of all lines that begin with a certain letter."
   ]
  },
  {
   "cell_type": "code",
   "execution_count": null,
   "id": "bb053be2",
   "metadata": {},
   "outputs": [],
   "source": [
    "total_a = sum([int(line.split(' ')[1]) for line in lines if line.startswith('A')])\n",
    "print(total_a)"
   ]
  },
  {
   "cell_type": "markdown",
   "id": "3e20c9d2",
   "metadata": {},
   "source": [
    "---"
   ]
  },
  {
   "cell_type": "markdown",
   "id": "bce333f9",
   "metadata": {},
   "source": [
    "That's it for this lesson! Be sure to check out the [official Python docs](https://docs.python.org/3/tutorial/controlflow.html) on control structures.\n",
    "\n",
    "As an assignment, try to write programs that **Finds the letter that has the largest sum of numbers and prints it out**. So if the numbers for A add up to 270, but the numbers for B add up to 320, it would print 'B'.\n",
    "\n",
    "You can write your program in this notebook by simply using \"insert cell below\"."
   ]
  },
  {
   "cell_type": "code",
   "execution_count": null,
   "id": "85dfb438",
   "metadata": {},
   "outputs": [],
   "source": [
    "# Your code goes here!\n"
   ]
  },
  {
   "cell_type": "markdown",
   "id": "3a67e9e7",
   "metadata": {},
   "source": [
    "## Appendix"
   ]
  },
  {
   "cell_type": "markdown",
   "id": "f97d2f73",
   "metadata": {},
   "source": [
    "Python will let us redefine functions that have already been defined, so be careful when copy/pasting! You can also use the `del` keyword to remove the definition of a function, however that's a bit esoteric."
   ]
  },
  {
   "cell_type": "code",
   "execution_count": null,
   "id": "d58307c8",
   "metadata": {},
   "outputs": [],
   "source": [
    "def mult_by_2(x):\n",
    "    return x * 2\n",
    "\n",
    "def mult_by_2(x):\n",
    "    y = x * 2\n",
    "    print('second definition!')\n",
    "    return y\n",
    "\n",
    "print(mult_by_2(2))\n",
    "print(mult_by_2(5))\n",
    "\n",
    "del mult_by_2\n",
    "\n",
    "print(mult_by_2(2))"
   ]
  }
 ],
 "metadata": {
  "kernelspec": {
   "display_name": "Python 3 (ipykernel)",
   "language": "python",
   "name": "python3"
  },
  "language_info": {
   "codemirror_mode": {
    "name": "ipython",
    "version": 3
   },
   "file_extension": ".py",
   "mimetype": "text/x-python",
   "name": "python",
   "nbconvert_exporter": "python",
   "pygments_lexer": "ipython3",
   "version": "3.12.0"
  }
 },
 "nbformat": 4,
 "nbformat_minor": 5
}
