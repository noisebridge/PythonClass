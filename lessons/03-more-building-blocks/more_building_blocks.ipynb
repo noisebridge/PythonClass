{
 "cells": [
  {
   "cell_type": "markdown",
   "metadata": {},
   "source": [
    "Welcome to lesson 3 of the Noisebridge Python Class ([Noisebridge Wiki](https://www.noisebridge.net/wiki/PyClass) | [Github](https://github.com/audiodude/PythonClass))\n",
    "\n",
    "We will be discussing more of the basic building blocks of Python programs:\n",
    "\n",
    "- Literals\n",
    "- Expressions: What are they? How do they compare to statements?\n",
    "- More about data structures\n",
    "  - Dictionaries, Lists, Tuples and Sets\n",
    "\n",
    "We'll also discuss Exceptions. Let's face it, the world is messy, and sometimes things will go wrong. We are all familiar with the basic concept of a \"computer error\". In Python, we use exceptions to more precisely define, reason about, and handle errors.\n",
    "\n",
    "- Exceptions:\n",
    "    - Exception types, including built-in Exceptions\n",
    "    - What happens when an exception occurs\n",
    "    - Catching exceptions\n",
    "    - Ignoring exceptions (!)\n",
    "    - Defining our own exceptions"
   ]
  },
  {
   "cell_type": "markdown",
   "metadata": {},
   "source": [
    "# Literals, Expressions and Statements\n",
    "\n",
    "A literal is a specific value, a specific piece of data, in code."
   ]
  },
  {
   "cell_type": "code",
   "execution_count": null,
   "metadata": {},
   "outputs": [],
   "source": [
    "42\n",
    "True\n",
    "\"hello world\"\n",
    "['apple', 'banana', 'cherry']"
   ]
  },
  {
   "cell_type": "markdown",
   "metadata": {},
   "source": [
    "Literals can be **assigned** to variables."
   ]
  },
  {
   "cell_type": "code",
   "execution_count": null,
   "metadata": {},
   "outputs": [],
   "source": [
    "message = \"hello world\""
   ]
  },
  {
   "cell_type": "markdown",
   "metadata": {
    "vscode": {
     "languageId": "plaintext"
    }
   },
   "source": [
    "An **expression** is any bit of code that evaluates to a value, in place. When Python sees an expression, it calculates what it evaluates to and sort of \"replaces\" the expression with that value. so `4 + 2` is an expression that evaluates to `6`. A function call is an expression, so the expression `sum([1, 2, 3, 4])` evaluates to `10`.\n",
    "\n",
    "Expressions can be combined, and can be the building blocks of other expressions. `sum([1, 2, 3, 4]) - 4 + 2` evaluates to `8`."
   ]
  },
  {
   "cell_type": "code",
   "execution_count": null,
   "metadata": {},
   "outputs": [],
   "source": [
    "# Set d to a literal dictionary.\n",
    "d = {'foo': 3}\n",
    "\n",
    "# d['foo'] is an expression\n",
    "foo_value = d['foo']\n",
    "\n",
    "# An expression containing sub-expressions\n",
    "sum([1, 2, 3, 2 + sum([1, 1]), max([5, d['foo']])])"
   ]
  },
  {
   "cell_type": "markdown",
   "metadata": {},
   "source": [
    "An **assignment**, which is the name for storing a value in a variable, is *not* an expression. They are statements. A statement is, loosely speaking, a bit of code that is on its own line in a Python program.\n",
    "\n",
    "`x = 4 + 2`\n",
    "\n",
    "Here, the expression `4 + 2` is evaluated to `6`. The variable `x` doesn't hold the value `4 + 2`, that would be silly. The entire thing is a **statement**, an **assignment statement**.\n",
    "\n",
    "`if` and `for` are also statements, which have **blocks** attached to them. Blocks contain statements."
   ]
  },
  {
   "cell_type": "code",
   "execution_count": null,
   "metadata": {},
   "outputs": [],
   "source": [
    "# An assignment statement\n",
    "x = 10\n",
    "\n",
    "# An if statement\n",
    "if x > 5:\n",
    "  print(\"x is greater than 5\")\n",
    "\n",
    "# A for loop statement\n",
    "for char in \"hello\":\n",
    "  print(char)"
   ]
  },
  {
   "cell_type": "markdown",
   "metadata": {},
   "source": [
    "Since a statement has to live on its own line, you can't put statements in places where you could put expressions."
   ]
  },
  {
   "cell_type": "code",
   "execution_count": null,
   "metadata": {},
   "outputs": [],
   "source": [
    "# These are expressions, they evaluate to a value. On their own, they don't print or do anything else.\n",
    "4 + 2\n",
    "sum([1, 2, 3, 4]) - 4 + 2\n",
    "x\n",
    "\n",
    "# We can print an expression\n",
    "print(42 > 10)\n",
    "print(len([1, 2, 3, 4]))\n",
    "\n",
    "# This is an error, because `x = 42` is a statement, not an expression.\n",
    "sum([1, 2, 3, 4]) + x = 42\n",
    "\n",
    "# This is also an error, because the `if` is a statement\n",
    "x = 3 + if 4 > 2: 5"
   ]
  },
  {
   "cell_type": "markdown",
   "metadata": {},
   "source": [
    "The slightly confusing part is that all literals are valid expressions, and all expressions are valid statements. Picture the Venn diagram that I'm too lazy to draw.\n",
    "\n",
    "And the point of all this is to become familiar with, and be able to reason about, where you can \"substitute in\" an expression, versus what is a statement."
   ]
  },
  {
   "cell_type": "code",
   "execution_count": null,
   "metadata": {},
   "outputs": [],
   "source": [
    "# A literal\n",
    "# An expression\n",
    "# A statement\n",
    "42\n",
    "\n",
    "# An expression\n",
    "# A statement\n",
    "42 + 2\n",
    "\n",
    "# A statement\n",
    "x = 42"
   ]
  },
  {
   "cell_type": "markdown",
   "metadata": {},
   "source": [
    "# Exercise\n",
    "\n",
    "Write five literals, five expressions of various complexity, and two statements that use your literals and expressions."
   ]
  },
  {
   "cell_type": "code",
   "execution_count": null,
   "metadata": {},
   "outputs": [],
   "source": [
    "# Your code here"
   ]
  },
  {
   "cell_type": "markdown",
   "metadata": {},
   "source": [
    "# NoneType\n"
   ]
  },
  {
   "cell_type": "markdown",
   "metadata": {},
   "source": [
    "The special Python value `None` means an absence of a value. It's like `null` in JavaScript or `NULL` in SQL. It's used to express that a variable or object either hasn't been initialized/created yet, or that there is some piece of data that we don't actually know the value of. Picture a list of temperatures for various dates."
   ]
  },
  {
   "cell_type": "code",
   "execution_count": null,
   "metadata": {},
   "outputs": [],
   "source": [
    "temps = {\n",
    "  '2025-04-01': 55,\n",
    "  '2025-04-02': 60,\n",
    "  '2025-04-03': 62,\n",
    "  '2025-04-04': 57,\n",
    "  '2025-04-06': 59,\n",
    "}"
   ]
  },
  {
   "cell_type": "markdown",
   "metadata": {},
   "source": [
    "We're missing the value for 2025-04-05. Omitting the value altogether from the dictionary is a perfectly valid way of handling this situation, but we could also use `None`."
   ]
  },
  {
   "cell_type": "code",
   "execution_count": null,
   "metadata": {},
   "outputs": [],
   "source": [
    "temps = {\n",
    "  '2025-04-01': 55,\n",
    "  '2025-04-02': 60,\n",
    "  '2025-04-03': 62,\n",
    "  '2025-04-04': 57,\n",
    "  '2025-04-05': None,\n",
    "  '2025-04-06': 59,\n",
    "}"
   ]
  },
  {
   "cell_type": "markdown",
   "metadata": {},
   "source": [
    "This might be preferable because it indicates that 2025-04-05 wasn't accidentally omitted, we just don't know the temperature.\n",
    "\n",
    "Some people might think of putting `-1` or some other \"special\" value in these cases, but `None` is preferable, because it *is* that special value.\n",
    "\n",
    "The built-in `print()` function returns None. Additionally, any function that runs to completion (gets to the end of the function), without returning a specific value, will implicitly return `None`. We can test for None with `is None` and `is not None`. `None` is also a 'falsy' value (if you remember that from a previous lesson)."
   ]
  },
  {
   "cell_type": "code",
   "execution_count": null,
   "metadata": {},
   "outputs": [],
   "source": [
    "y = 'New York'\n",
    "result_of_print = print(y)\n",
    "\n",
    "# This is an error because y is None, print returns None\n",
    "y.startswith(\"New\")\n",
    "\n",
    "def returns_none():\n",
    "  x = 2 + 2\n",
    "  if x > 3:\n",
    "    y = 25\n",
    "  z = y + x\n",
    "\n",
    "n = returns_none()\n",
    "print('n:', n)\n",
    "\n",
    "x = 42\n",
    "print(n is None)\n",
    "print(x is not None)"
   ]
  },
  {
   "cell_type": "markdown",
   "metadata": {},
   "source": [
    "# More on Dictionaries\n",
    "\n",
    "As we learned in lecture 1, dictionaries map a **key** to a **value**:"
   ]
  },
  {
   "cell_type": "code",
   "execution_count": null,
   "metadata": {},
   "outputs": [],
   "source": [
    "# Mapping of album names to release years. This is an assignment statement, where we are assigning\n",
    "# a dictionary literal to the variable `albums`.\n",
    "albums = {\n",
    "  'Abbey Road': 1969,\n",
    "  'The White Album': 1968,\n",
    "  'Sgt. Pepper\\'s Lonely Hearts Club Band': 1967,\n",
    "  'Revolver': 1966,\n",
    "}"
   ]
  },
  {
   "cell_type": "markdown",
   "metadata": {},
   "source": [
    "We can use numbers and strings (most common), tuples, as well as other \"hashable\" objects as dictionary keys. We *cannot* use lists or dictionaries themselves as keys."
   ]
  },
  {
   "cell_type": "code",
   "execution_count": null,
   "metadata": {},
   "outputs": [],
   "source": [
    "fruits = {\n",
    "  ['apple', 'banana']: 1.29,\n",
    "  ['cherries', 'grapes']: 2.89,\n",
    "}"
   ]
  },
  {
   "cell_type": "markdown",
   "metadata": {},
   "source": [
    "The value assigned to a dictionary key can be any expression, including literal strings, numbers, lists, tuples and other dictionaries."
   ]
  },
  {
   "cell_type": "code",
   "execution_count": null,
   "metadata": {},
   "outputs": [],
   "source": [
    "almanac = {\n",
    "  'United States': {\n",
    "    'population': 328200000,\n",
    "    'capital': 'Washington, D.C.',\n",
    "    'largest_city': 'New York City',\n",
    "    'cities': ['New York City', 'Los Angeles', 'Chicago', 'Memphis'],\n",
    "  },\n",
    "  'Russia': {\n",
    "    'population': 144500000,\n",
    "    'capital': 'Moscow',\n",
    "    'largest_city': 'Moscow',\n",
    "    'cities': ['Moscow', 'Saint Petersburg', 'Novosibirsk'],\n",
    "  },\n",
    "}"
   ]
  },
  {
   "cell_type": "markdown",
   "metadata": {},
   "source": [
    "In general, we usually create our dictionaries to have a standard 'shape'. Like above, all the keys are countries, all the populations are numbers, and all the cities are lists of city names. This is not required though, and sometimes it may be useful to violate this principle (though the following case is just silly)."
   ]
  },
  {
   "cell_type": "code",
   "execution_count": null,
   "metadata": {},
   "outputs": [],
   "source": [
    "almanac = {\n",
    "  'United States': {\n",
    "    'population': 328200000,\n",
    "    'capital': 'Washington, D.C.',\n",
    "    'largest_city': 'New York City',\n",
    "    'cities': ['New York City', 'Los Angeles', 'Chicago'],\n",
    "  },\n",
    "  # This 'country' is missing the 'largest_city' key, and the types of some\n",
    "  # of its values don't match with the one above.\n",
    "  'Sillyland': {\n",
    "    'population': 'banana',\n",
    "    'capital': 12,\n",
    "    'cities': ['Moscow', 'Saint Petersburg', 'Novosibirsk', 400, ['red', 'blue']],\n",
    "    'favorite_color': 'orange',\n",
    "  },\n",
    "}\n",
    "\n",
    "print(almanac)"
   ]
  },
  {
   "cell_type": "markdown",
   "metadata": {},
   "source": [
    "Remember, we can use any expression as the value of a dictionary."
   ]
  },
  {
   "cell_type": "code",
   "execution_count": null,
   "metadata": {},
   "outputs": [],
   "source": [
    "def pop_in_millions(round_value):\n",
    "  value = 328.2\n",
    "  if round_value:\n",
    "    return round(value)\n",
    "  else:\n",
    "    return value\n",
    "    \n",
    "almanac = {\n",
    "  'United States': {\n",
    "    'population': pop_in_millions(True) * 1000000,\n",
    "    'capital': 'Washington, ' + 'D.C.',\n",
    "    'largest_city': 'New York City',\n",
    "    'cities': ['New York City', 'Los Angeles', 'Chicago'][:2],\n",
    "  },\n",
    "}\n",
    "print(almanac)"
   ]
  },
  {
   "cell_type": "markdown",
   "metadata": {},
   "source": [
    "When we access the value of a key in a dictionary, we use slice notation."
   ]
  },
  {
   "cell_type": "code",
   "execution_count": null,
   "metadata": {},
   "outputs": [],
   "source": [
    "print(almanac['United States'])"
   ]
  },
  {
   "cell_type": "markdown",
   "metadata": {},
   "source": [
    "Since the value of the key `'United States'` is also a dictionary, we can slice further:"
   ]
  },
  {
   "cell_type": "code",
   "execution_count": null,
   "metadata": {},
   "outputs": [],
   "source": [
    "print(almanac['United States']['population'])"
   ]
  },
  {
   "cell_type": "markdown",
   "metadata": {},
   "source": [
    "We can slice using any expression. Usually, we would just use a string literal or a variable, though."
   ]
  },
  {
   "cell_type": "code",
   "execution_count": null,
   "metadata": {},
   "outputs": [],
   "source": [
    "country = 'United States'\n",
    "soda = 'pop'\n",
    "\n",
    "def get_rest_of_key():\n",
    "  return 'ulation'\n",
    "\n",
    "print(almanac[country][soda + get_rest_of_key()])"
   ]
  },
  {
   "cell_type": "markdown",
   "metadata": {},
   "source": [
    "Remember, trying to get the value of a key that doesn't exist is an error:\n"
   ]
  },
  {
   "cell_type": "code",
   "execution_count": null,
   "metadata": {},
   "outputs": [],
   "source": [
    "almanac['Germany']"
   ]
  },
  {
   "cell_type": "markdown",
   "metadata": {},
   "source": [
    "But we can use a dictionary reference on the left side of an assignment statement to set the value at that key."
   ]
  },
  {
   "cell_type": "code",
   "execution_count": null,
   "metadata": {},
   "outputs": [],
   "source": [
    "almanac['Germany'] = {\n",
    "    'population': 83000000,\n",
    "    'capital': 'Berlin',\n",
    "    'largest_city': 'Berlin',\n",
    "    'cities': ['Berlin', 'Hamburg', 'Munich'],\n",
    "}\n",
    "print(almanac)"
   ]
  },
  {
   "cell_type": "markdown",
   "metadata": {},
   "source": [
    "# More on Lists\n",
    "\n",
    "Remember that a list is an ordered sequence of values. Like dictionaries, the values in a list literal can be any expression."
   ]
  },
  {
   "cell_type": "code",
   "execution_count": null,
   "metadata": {},
   "outputs": [],
   "source": [
    "def get_cities():\n",
    "  return ['New York City', 'Los Angeles', 'Chicago']\n",
    "\n",
    "# Some data about the US. This is an assignment statement, where we're assigning\n",
    "# a list literal to the variable `united_states`.\n",
    "united_states = [\n",
    "  pop_in_millions(True) * 1000000,\n",
    "  'Washington, D.C.',\n",
    "  'New York City',\n",
    "  get_cities(),\n",
    "]\n",
    "\n",
    "from pprint import pprint\n",
    "pprint(united_states)"
   ]
  },
  {
   "cell_type": "markdown",
   "metadata": {},
   "source": [
    "We've already seen slice notation:"
   ]
  },
  {
   "cell_type": "code",
   "execution_count": null,
   "metadata": {},
   "outputs": [],
   "source": [
    "print('united_states[0]:', united_states[0])\n",
    "\n",
    "print('united_states[3]:', united_states[3])\n",
    "\n",
    "print('united_states[-1]:', united_states[-1])\n",
    "\n",
    "print('united_states[1:3]:', united_states[1:3])\n",
    "\n",
    "print('united_states[:-1]:', united_states[:-1])\n",
    "\n",
    "print('united_states[2:]:', united_states[2:])"
   ]
  },
  {
   "cell_type": "markdown",
   "metadata": {},
   "source": [
    "Similar to dictionaries, trying to access the data at an index that doesn't exist is an error:"
   ]
  },
  {
   "cell_type": "code",
   "execution_count": null,
   "metadata": {},
   "outputs": [],
   "source": [
    "print(united_states[100])"
   ]
  },
  {
   "cell_type": "markdown",
   "metadata": {},
   "source": [
    "We use the `append()` method to add to a list:"
   ]
  },
  {
   "cell_type": "code",
   "execution_count": null,
   "metadata": {},
   "outputs": [],
   "source": [
    "fruits = []\n",
    "fruits.append('apple')\n",
    "fruits.append('banana')\n",
    "fruits.append('cherry')\n",
    "\n",
    "print(fruits)"
   ]
  },
  {
   "cell_type": "markdown",
   "metadata": {},
   "source": [
    "And we can use `pop()` with an index to remove the item at that index."
   ]
  },
  {
   "cell_type": "code",
   "execution_count": null,
   "metadata": {},
   "outputs": [],
   "source": [
    "popped_fruit = fruits.pop(1)\n",
    "print(fruits)\n",
    "print(popped_fruit)"
   ]
  },
  {
   "cell_type": "markdown",
   "metadata": {},
   "source": [
    "# Tuples are like lists, but immutable\n",
    "\n",
    "A tuple is defined using parenthesis rather than `[]`, but otherwise functions like a list that you can't add to or remove items from."
   ]
  },
  {
   "cell_type": "code",
   "execution_count": null,
   "metadata": {},
   "outputs": [],
   "source": [
    "us_tuple = (\n",
    "  pop_in_millions(True) * 1000000,\n",
    "  'Washington, D.C.',\n",
    "  'New York City',\n",
    "  get_cities()\n",
    ")\n",
    "\n",
    "print(us_tuple)"
   ]
  },
  {
   "cell_type": "markdown",
   "metadata": {},
   "source": [
    "We can slice a tuple in the same ways we can slice a list."
   ]
  },
  {
   "cell_type": "code",
   "execution_count": null,
   "metadata": {},
   "outputs": [],
   "source": [
    "print(us_tuple[1:3])"
   ]
  },
  {
   "cell_type": "markdown",
   "metadata": {},
   "source": [
    "One strange thing. Since parenthesis are used for grouping, and can be put around any expression (even ones without operators), we have to use a trailing comma to create a tuple with one item. This makes sense if you see it, I promise."
   ]
  },
  {
   "cell_type": "code",
   "execution_count": null,
   "metadata": {},
   "outputs": [],
   "source": [
    "n = (3 + 3)\n",
    "a = 'apple'\n",
    "a_again = ('apple')\n",
    "a_tuple = ('apple',)\n",
    "fruits = ('banana', 'apple')\n",
    "\n",
    "print('n', n)\n",
    "print('a', a)\n",
    "print('a_again', a_again)\n",
    "print('a_tuple', a_tuple)\n",
    "print('fruits', fruits)"
   ]
  },
  {
   "cell_type": "markdown",
   "metadata": {},
   "source": [
    "# Sets\n",
    "\n",
    "Sets are unordered collections of unique elements. They are useful when we want to keep track of unique values. They are also much faster for looking up values than searching in a list. We can define a set with the `set()` function by passing it a list, or by passing what looks like a list to curly braces."
   ]
  },
  {
   "cell_type": "code",
   "execution_count": null,
   "metadata": {},
   "outputs": [],
   "source": [
    "fruit_set = set(['apple', 'banana', 'cherry'])\n",
    "another_fruit_set = {'apple', 'banana', 'cherry'}\n",
    "\n",
    "print(fruit_set)"
   ]
  },
  {
   "cell_type": "markdown",
   "metadata": {},
   "source": [
    "Notice that the set didn't print out the same way we defined it. The order of items in a set is not defined. That is, it doesn't have a consistent order."
   ]
  },
  {
   "cell_type": "markdown",
   "metadata": {},
   "source": [
    "If we try to add another banana, nothing happens because there's already one there."
   ]
  },
  {
   "cell_type": "code",
   "execution_count": null,
   "metadata": {},
   "outputs": [],
   "source": [
    "fruit_set.add('banana')\n",
    "print(fruit_set)\n",
    "fruit_set.remove('banana')\n",
    "print(fruit_set)"
   ]
  },
  {
   "cell_type": "markdown",
   "metadata": {},
   "source": [
    "Removing an item that is not present is an error:"
   ]
  },
  {
   "cell_type": "code",
   "execution_count": null,
   "metadata": {},
   "outputs": [],
   "source": [
    "fruit_set.remove('kiwi')"
   ]
  },
  {
   "cell_type": "markdown",
   "metadata": {},
   "source": [
    "We can check if an element is in the set by using the `in` operator (same as checking if a key is in a dictionary)."
   ]
  },
  {
   "cell_type": "code",
   "execution_count": null,
   "metadata": {},
   "outputs": [],
   "source": [
    "print('apple' in fruit_set)\n",
    "fruit_dict = {\n",
    "  'apple': 3,\n",
    "  'banana': 5,\n",
    "  'cherry': 1,\n",
    "}\n",
    "print('apple' in fruit_dict)"
   ]
  },
  {
   "cell_type": "markdown",
   "metadata": {},
   "source": [
    "We can see this if we construct a set with duplicates."
   ]
  },
  {
   "cell_type": "code",
   "execution_count": null,
   "metadata": {},
   "outputs": [],
   "source": [
    "another_set = {'United States', 'Russia', 'Germany', 'United States', 'Germany', 'Vietnam'}\n",
    "print(another_set)"
   ]
  },
  {
   "cell_type": "markdown",
   "metadata": {},
   "source": [
    "# Exercise, data\n",
    "\n",
    "Write a data model that is at least 10 lines long, that models a real world thing or things, and that contains all of the data structures we've discussed: a dictionary, a list, a tuple, and a set. Try pulling some of the data out of your model and assigning it to variables that you print out. Bonus points if you define a function (like `pop_in_millions` above) and use it for assigning some of your data."
   ]
  },
  {
   "cell_type": "code",
   "execution_count": null,
   "metadata": {},
   "outputs": [],
   "source": [
    "# Your code here, and don't use sea_creatures!\n",
    "\n",
    "sea_creatures = [\n",
    "  {\n",
    "    'creature': 'octopus',\n",
    "    'legs': 8,\n",
    "    'habitats': ['ocean', 'sea'],\n",
    "  },\n",
    "  {\n",
    "    'creature': 'squid',\n",
    "    'legs': 10,\n",
    "    'habitats': ['ocean', 'sea'],\n",
    "  },\n",
    "]"
   ]
  },
  {
   "cell_type": "markdown",
   "metadata": {},
   "source": [
    "# More on `for` loops\n",
    "\n",
    "In other languages, you often construct for loops with a **loop variable** that counts how many times you've been through the loop:\n",
    "\n",
    "(Javascript code)\n",
    "```\n",
    "for (let i = 0; i < data.length; i++) {\n",
    "    process(data[i]);\n",
    "}\n",
    "```\n",
    "\n",
    "So far, the for loops we've seen in Python simply produce the items that are in the iterable."
   ]
  },
  {
   "cell_type": "code",
   "execution_count": null,
   "metadata": {},
   "outputs": [],
   "source": [
    "fruits = ['apple', 'banana', 'cherry']\n",
    "\n",
    "for fruit in fruits:\n",
    "    print(fruit)"
   ]
  },
  {
   "cell_type": "markdown",
   "metadata": {},
   "source": [
    "However, what if the first three fruits were regular price and the next however-many were on discount? We'd need to keep track of where we are in the list. We can do that \"manually\" by defining our own loop variable."
   ]
  },
  {
   "cell_type": "code",
   "execution_count": null,
   "metadata": {},
   "outputs": [],
   "source": [
    "fruits = ['apple', 'banana', 'cherry', 'date', 'lime', 'pear']\n",
    "\n",
    "i = 0\n",
    "for fruit in fruits:\n",
    "  if i > 2:\n",
    "    print(f'Discount: {fruit}')\n",
    "  else:\n",
    "    print(fruit)\n",
    "  i += 1"
   ]
  },
  {
   "cell_type": "markdown",
   "metadata": {},
   "source": [
    "However, Python provides the built-in `enumerate` function for this purpose. The `enumerate` function wraps an iterable and produces tuples of `(index, item)`. This is slightly more succinct and much less error prone."
   ]
  },
  {
   "cell_type": "code",
   "execution_count": null,
   "metadata": {},
   "outputs": [],
   "source": [
    "fruits = ['apple', 'banana', 'cherry', 'date', 'lime', 'pear']\n",
    "\n",
    "for i, fruit in enumerate(fruits):\n",
    "  if i > 2:\n",
    "    print(f'Discount: {fruit}')\n",
    "  else:\n",
    "    print(fruit)"
   ]
  },
  {
   "cell_type": "markdown",
   "metadata": {},
   "source": [
    "The left side of the for loop above demonstrates **unpacking**, where we have multiple values in a tuple or list and we assign each of them to successive variables. That description makes it seem a lot more complicated than it is."
   ]
  },
  {
   "cell_type": "code",
   "execution_count": null,
   "metadata": {},
   "outputs": [],
   "source": [
    "x, y = (50, 500)\n",
    "print(x)\n",
    "print(y)\n",
    "\n",
    "fruits = ['lime', 'banana', 'pear']\n",
    "l, b, p = fruits\n",
    "print(l)\n",
    "print(b)\n",
    "print(p)"
   ]
  },
  {
   "cell_type": "markdown",
   "metadata": {},
   "source": [
    "If we assigned the result of enumerate to a single variable, we would see that it's a tuple."
   ]
  },
  {
   "cell_type": "code",
   "execution_count": null,
   "metadata": {},
   "outputs": [],
   "source": [
    "fruits = ['apple', 'banana', 'cherry']\n",
    "for i, fruit in enumerate(fruits):\n",
    "    print(i, fruit)"
   ]
  },
  {
   "cell_type": "markdown",
   "metadata": {},
   "source": [
    "# Exceptions\n",
    "\n",
    "Python has the concept of `Exceptions`, which interrupt program flow and represent a condition that a running program either didn't expect, or can't recover from (an error). Exceptions cover everything from incorrect program syntax, and performing operations on data types that don't support them (like, say, using slice notation on an integer), to attempting to read data from a list or dict at an index that doesn't exist or trying to read in a file that is missing.\n",
    "\n",
    "All exceptions in Python are **subclasses** of the `BaseException` class. `BaseException` has a further subclass tree starting with `Exception`. The former includes things like `SystemExit` which generally shouldn't be caught, while the latter contains things like `KeyError` which we sometimes want to catch."
   ]
  },
  {
   "cell_type": "markdown",
   "metadata": {},
   "source": [
    "What does it mean to \"catch\" an Exception anyways? Let's look at an example."
   ]
  },
  {
   "cell_type": "code",
   "execution_count": null,
   "metadata": {},
   "outputs": [],
   "source": [
    "number_strings = ('1', '2', 'x', '4')\n",
    "converted = []\n",
    "for string in number_strings:\n",
    "  converted.append(int(string))\n",
    "print('Done converting numbers')"
   ]
  },
  {
   "cell_type": "markdown",
   "metadata": {},
   "source": [
    "This code raises an exception, because the string 'x' cannot be turned into an integer. When the exception is raised, all program execution stops immediately and the interpreter looks for exception handling code. If it doesn't find any, the exception is raised to the \"top level\" of the program, where it will subsequently halt the program completely (the program \"crashes\").\n",
    "\n",
    "It is very obvious in this example that the error would be thrown, but what if the 'x' was hidden somewhere in a dirty data file? Let's see how we can catch the exception."
   ]
  },
  {
   "cell_type": "code",
   "execution_count": null,
   "metadata": {},
   "outputs": [],
   "source": [
    "number_strings = ('1', '2', 'x', '4', 'foo')\n",
    "try:\n",
    "  converted = []\n",
    "  for string in number_strings:\n",
    "    converted.append(int(string))\n",
    "except ValueError as e:\n",
    "    print(f'Could not convert some values: {e}')\n",
    "\n",
    "print('Done converting numbers')\n",
    "    \n",
    "# What does the converted list contain?  \n",
    "print(converted)"
   ]
  },
  {
   "cell_type": "markdown",
   "metadata": {},
   "source": [
    "Did you notice something about `converted`? It never got a value for `'4'`. Python skipped to the error handling code as soon as the first invalid values was processed. A possible better way to write this code, to \"filter out\" the errors, would be the following."
   ]
  },
  {
   "cell_type": "code",
   "execution_count": null,
   "metadata": {},
   "outputs": [],
   "source": [
    "number_strings = ('1', '2', 'x', '4', 'foo')\n",
    "converted = []\n",
    "rejects = []\n",
    "for string in number_strings:\n",
    "    try:\n",
    "        converted.append(int(string))\n",
    "    except ValueError:\n",
    "        rejects.append(string)\n",
    "        \n",
    "print(f'Converted {converted}, but found {len(rejects)} rejects: {rejects}')"
   ]
  },
  {
   "cell_type": "markdown",
   "metadata": {},
   "source": [
    "Generally, you should only catch exceptions if you intend to do something meaningful when they occur, even if that just means logging them. It is possible to 'swallow' exceptions:"
   ]
  },
  {
   "cell_type": "code",
   "execution_count": null,
   "metadata": {},
   "outputs": [],
   "source": [
    "my_numbers = [42, 34, 100]\n",
    "try:\n",
    "    my_num = my_numbers[5]\n",
    "except IndexError:\n",
    "    pass\n",
    "\n",
    "print(my_num)"
   ]
  },
  {
   "cell_type": "markdown",
   "metadata": {},
   "source": [
    "# The 'pass' keyword\n",
    "\n",
    "Here we introduce `pass`, a special Python keyword which means \"do nothing\" or \"no-op\". It's not possible in Python, mostly due to whitespace processing, to have an \"empty\" block. So this doesn't work:"
   ]
  },
  {
   "cell_type": "code",
   "execution_count": null,
   "metadata": {},
   "outputs": [],
   "source": [
    "def my_func():"
   ]
  },
  {
   "cell_type": "markdown",
   "metadata": {},
   "source": [
    "You need to use `pass`:"
   ]
  },
  {
   "cell_type": "code",
   "execution_count": null,
   "metadata": {},
   "outputs": [],
   "source": [
    "def my_func():\n",
    "    pass"
   ]
  },
  {
   "cell_type": "markdown",
   "metadata": {},
   "source": [
    "This is most useful when defining classes or functions that you don't know what they will do yet, or you're not ready to write their implementations."
   ]
  },
  {
   "cell_type": "markdown",
   "metadata": {},
   "source": [
    "Back to exceptions. We can catch multiple exceptions in the same except block:"
   ]
  },
  {
   "cell_type": "code",
   "execution_count": null,
   "metadata": {},
   "outputs": [],
   "source": [
    "number_strings = ('1', '2', '4')\n",
    "try:\n",
    "  converted = []\n",
    "  for string in number_strings:\n",
    "    converted.append(int(string))\n",
    "  converted[100]\n",
    "except (ValueError, IndexError) as e:\n",
    "    print(f'Could not convert some values: {e}')"
   ]
  },
  {
   "cell_type": "markdown",
   "metadata": {},
   "source": [
    "We can also have separate blocks for each exception or groups of exceptions:"
   ]
  },
  {
   "cell_type": "code",
   "execution_count": null,
   "metadata": {},
   "outputs": [],
   "source": [
    "number_strings = ('1', '2', '4')\n",
    "try:\n",
    "    my_numbers = [int(n) for n in number_strings]\n",
    "    my_numbers[100]\n",
    "except ValueError as e:\n",
    "    print(f'Could not convert some values: {e}')\n",
    "except IndexError:\n",
    "    print('One of the indexes was not valid')"
   ]
  },
  {
   "cell_type": "markdown",
   "metadata": {},
   "source": [
    "Note in the above: if we don't need to do anything with the exception message or stacktrace, we can omit the `as _` clause."
   ]
  },
  {
   "cell_type": "code",
   "execution_count": null,
   "metadata": {},
   "outputs": [],
   "source": [
    "def say_hello(name):\n",
    "  if name != 'Bob':\n",
    "    raise ValueError('Not Bob!')\n",
    "\n",
    "say_hello('Alice')"
   ]
  },
  {
   "cell_type": "markdown",
   "metadata": {},
   "source": [
    "# Re-raising exceptions\n",
    "\n",
    "We can also re-raise an exception if we've done as much as we can do to remedy the situation, but we want it to \"bubble up\" another level."
   ]
  },
  {
   "cell_type": "code",
   "execution_count": null,
   "metadata": {},
   "outputs": [],
   "source": [
    "def parse_string(s):\n",
    "    try:\n",
    "        return int(s)\n",
    "    except ValueError:\n",
    "        print('{} is not an int'.format(s))\n",
    "        raise\n",
    "        \n",
    "def parse_all_strings(strings):\n",
    "    for string in strings:\n",
    "        try:\n",
    "            parse_string(string)\n",
    "        except IndexError:\n",
    "            # This error never happens\n",
    "            print('Somehow an index error occurred')\n",
    "        # Since we don't catch the ValueError, it is passed\n",
    "        # all the way back up to main()\n",
    "        \n",
    "def main():\n",
    "    my_strings = ['42', '34', 'x', '100']\n",
    "    try:\n",
    "        numbers = parse_all_strings(my_strings)\n",
    "        print(f'Numbers are: {numbers}')\n",
    "    except ValueError as e:\n",
    "        # We can catch this exception here because it is\n",
    "        # raised from parse_all_strings()\n",
    "        print(f'Not all strings could be parsed: {e}')\n",
    "        # Error is handled, don't re-raise.\n",
    "        # raise\n",
    "        \n",
    "        \n",
    "try:\n",
    "    main()\n",
    "# Careful with this, it will catch any errors in your program logic,\n",
    "# which will make it hard to debug while writing your program.\n",
    "except Exception as e:\n",
    "    # The exception wasn't re-raised from main() so this doesn't\n",
    "    # get called\n",
    "    print('Program had errors!')\n",
    "finally:\n",
    "    print('Program done')"
   ]
  },
  {
   "cell_type": "code",
   "execution_count": null,
   "metadata": {},
   "outputs": [],
   "source": []
  },
  {
   "cell_type": "markdown",
   "metadata": {},
   "source": [
    "In the example above, the exception occurs in `parse_string`, which logs it and calls `raise` to re-raise it. It then passes straight through `parse_all_strings`, which doesn't define an exception handler for `ValueError` and is re-caught in `main()`. Notice that 'Numbers are: []' never gets printed, because the exception happens before that line.\n",
    "\n",
    "The other interesting new construct here is the `finally` clause. Any code here, after a `try` (with or without an `except`) will get executed no matter what, whether there are exceptions or not, or what kind of exceptions occur. This is most commonly used for \"clean up\" code, like if you opened a file (and didn't use a context manager, with...as) and want to make sure it gets closed even if there is an exception"
   ]
  },
  {
   "cell_type": "markdown",
   "metadata": {},
   "source": [
    "Finally (see what I did there?), we can define our own exceptions that inherit from `Exception`:"
   ]
  },
  {
   "cell_type": "code",
   "execution_count": null,
   "metadata": {},
   "outputs": [],
   "source": [
    "class PlaygroundException(Exception):\n",
    "    pass\n",
    "\n",
    "class NameNotGivenError(PlaygroundException):\n",
    "    pass\n",
    "\n",
    "class LocationMissingError(PlaygroundException):\n",
    "    pass"
   ]
  },
  {
   "cell_type": "code",
   "execution_count": null,
   "metadata": {},
   "outputs": [],
   "source": [
    "students = (\n",
    "    ('Alice', 'slide'),\n",
    "    ('Bob', 'sandbox'),\n",
    "    ('Claire', None),\n",
    "    (None, 'slide'),\n",
    ")\n",
    "\n",
    "def rollcall():\n",
    "    for student in students:\n",
    "        if student[0] is None:\n",
    "            raise NameNotGivenError('Missing name')\n",
    "        if student[1] is None:\n",
    "            raise LocationMissingError('No location')\n",
    "        print(f'{student[0]} is at the {student[1]}')\n",
    "\n",
    "try:\n",
    "    rollcall()\n",
    "except NameNotGivenError as e:\n",
    "    print(f'Error: {e}')\n",
    "except PlaygroundException as e:\n",
    "    print(f'Playground error: {e}')"
   ]
  },
  {
   "cell_type": "markdown",
   "metadata": {},
   "source": [
    "The resolution of exceptions follows the **class hierarchy** of the exceptions themselves. Here, we don't explicitly handle the `LocationMissingError`, but it is handled inside the block for `PlaygroundException` because it **is a** `PlaygroundException`. If there are multiple handlers in a try/except block that could handle an exception, they are tested in order."
   ]
  },
  {
   "cell_type": "markdown",
   "metadata": {},
   "source": [
    "# Exercise 1, catching exceptions\n",
    "\n",
    "Write a function that takes two numbers, x and y, and returns x / y. You should handle the case where y is zero, but not by using an if statement, but by using a try/except block. The Exception that this error raises is called `ZeroDivisionError`. When you catch the exception, print out the exception message as well as the value of x."
   ]
  },
  {
   "cell_type": "code",
   "execution_count": null,
   "metadata": {},
   "outputs": [],
   "source": [
    "# Your code here!\n"
   ]
  },
  {
   "cell_type": "markdown",
   "metadata": {},
   "source": [
    "# Exercise 2, re-raising exceptions\n",
    "\n",
    "Create a new copy of your code from above. This time, catch the exception and print a warning message about what happened, then **re-raise** the exception. "
   ]
  },
  {
   "cell_type": "code",
   "execution_count": null,
   "metadata": {},
   "outputs": [],
   "source": [
    "# Paste your code from above here, and modify it"
   ]
  },
  {
   "cell_type": "markdown",
   "metadata": {},
   "source": [
    "# Exercise 3, custom exceptions\n",
    "\n",
    "Write a function `calc_total` that takes a list of prices (numbers), and calculates their sum. If one of the prices is greater than 10, raise a `PriceTooHighException`, which you must first define.\n",
    "\n",
    "Then, define a `PriceWayTooHighException` that is a subclass of `PriceTooHighException`. Raise that Exception if the price is greater than 100.\n",
    "\n",
    "Now call your function, and add exception handling code that catches both exceptions in a single except block."
   ]
  },
  {
   "cell_type": "code",
   "execution_count": null,
   "metadata": {},
   "outputs": [],
   "source": [
    "# Your code here!"
   ]
  }
 ],
 "metadata": {
  "kernelspec": {
   "display_name": "PythonClass-vcBxlNeB",
   "language": "python",
   "name": "python3"
  },
  "language_info": {
   "codemirror_mode": {
    "name": "ipython",
    "version": 3
   },
   "file_extension": ".py",
   "mimetype": "text/x-python",
   "name": "python",
   "nbconvert_exporter": "python",
   "pygments_lexer": "ipython3",
   "version": "3.12.3"
  }
 },
 "nbformat": 4,
 "nbformat_minor": 2
}
