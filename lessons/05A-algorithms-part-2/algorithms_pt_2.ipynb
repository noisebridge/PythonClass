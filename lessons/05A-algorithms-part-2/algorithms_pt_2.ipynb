{
 "cells": [
  {
   "cell_type": "markdown",
   "id": "c9d0f86d",
   "metadata": {},
   "source": [
    "Welcome to lesson 5A of the Noisebridge Python class! ([Noisebridge Wiki](https://www.noisebridge.net/wiki/PyClass) | [Github](https://github.com/audiodude/PythonClass))\n",
    "\n",
    "In part 1 of our discussion on algorithms, we covered the following:\n",
    "\n",
    "* An algorithm is a set of steps for solving a problem or performing a computation.\n",
    "* Algorithms are different than the _implementation_, or specific code used to solve a problem.\n",
    "    * There can be many different ways to implement an algorithm. Different pieces of code can all solve the problem correctly.\n",
    "* When approaching a coding problem or task, it is usually helpful to write out the algorithm first, so that you know the set of steps you need to follow.\n",
    "* If you are given an algorithm for a problem, you have everything you need to code a solution!"
   ]
  },
  {
   "cell_type": "markdown",
   "id": "2542c533",
   "metadata": {},
   "source": [
    "## General instructions\n",
    "\n",
    "For the following exercises, you're asked to both design the algorithm AND write the code that solves the problem. Remember, write the algorithm first! You might even consider going through the steps of your algorithm \"by hand\", without any code, to see if it really solves the problem.\n",
    "\n",
    "For each exercise, there is a set of \"tests\" for the solutions. Once you define your function, you can run these tests to see if it works. If you run the code block with the assertions and \"nothing happens\", that means they passed and your solution is correct. If you get an `AssertionError`, something went wrong, and you should inspect the specific test case that failed and try to see where your algorithm went wrong."
   ]
  },
  {
   "cell_type": "markdown",
   "id": "984116cb",
   "metadata": {},
   "source": [
    "# Exercise: Sum of digits\n",
    "\n",
    "Design an algorithm for finding the sum of the digits in a number. So `sum_digits(123) == 6` and `sum_digits(5555) == 20`. Then write an implementation of your algorithm.\n",
    "\n",
    "Remember: write down the steps of the algorithm _before_ you start coding!"
   ]
  },
  {
   "cell_type": "markdown",
   "id": "3ca39216",
   "metadata": {},
   "source": [
    "Helpful Python features:\n",
    "\n",
    "* `str(555)` will convert the number 555 to the string '555'. `int('555')` will do the opposite. "
   ]
  },
  {
   "cell_type": "code",
   "execution_count": null,
   "id": "8db34747",
   "metadata": {},
   "outputs": [],
   "source": [
    "# Sum of digits algorithm\n",
    "# Step 1: ...\n",
    "# Step 2: ...\n",
    "\n",
    "def sum_of_digits(n):\n",
    "    pass"
   ]
  },
  {
   "cell_type": "code",
   "execution_count": null,
   "id": "b92461c0",
   "metadata": {},
   "outputs": [],
   "source": [
    "assert sum_of_digits(123) == 6\n",
    "assert sum_of_digits(55555) == 25\n",
    "assert sum_of_digits(4596) == 24"
   ]
  },
  {
   "cell_type": "markdown",
   "id": "4a56c501",
   "metadata": {},
   "source": [
    "# Exercise: Title case\n",
    "\n",
    "Design an algorithm for converting a sentence into title case. So `title_case('This is a great and good sentence.') == 'This A Great And Good Sentence.'`. Think about how you would break down the problem and work on it piece by pice. Then write an implementation of your algorithm.\n",
    "\n",
    "If that's too easy, try excluding certain words like 'a', 'an', 'if', 'of' and 'the' from the capitalization."
   ]
  },
  {
   "cell_type": "markdown",
   "id": "89f88502",
   "metadata": {},
   "source": [
    "Helpful Python features:\n",
    "\n",
    "1. You can use `split('x')` to break up a string at every occurrence of the character `'x'` and return a list of the remaining characters. So `'fooxbarxbaz'.split('x')` would evaluate to `['foo', 'bar', 'baz']`.\n",
    "1. The \"opposite\" of split is `join()`. If you do `'Z'.join(['foo', 'bar', 'baz'])`, it will evaluate to `'fooZbarZbaz'`\n",
    "1. Remember that we use `some_list.append('foo')` to add the string `'foo'` to the end of the list `some_list`.\n"
   ]
  },
  {
   "cell_type": "code",
   "execution_count": null,
   "id": "3f374f47",
   "metadata": {},
   "outputs": [],
   "source": [
    "# Title case algorithm\n",
    "# Step 1: ...\n",
    "# Step 2: ...\n",
    "\n",
    "def title_case(string):\n",
    "    pass"
   ]
  },
  {
   "cell_type": "code",
   "execution_count": null,
   "id": "8cc7b6c5",
   "metadata": {},
   "outputs": [],
   "source": [
    "assert title_case('This is a great and good sentence.') == 'This A Great And Good Sentence.'\n",
    "assert title_case('Already In Title Case') == 'Already In Title Case'\n",
    "assert title_case('The adventures of a boy named Id') == 'The Adventures Of A Boy Named Id'"
   ]
  },
  {
   "cell_type": "markdown",
   "id": "0a824f59",
   "metadata": {},
   "source": [
    "# Exercise: Remove duplicate letters\n",
    "\n",
    "How about an algorithm for removing duplicate letters from a string? So `remove_dupes('banana') == 'ban'` and `remove_dupes('toy train tracks') == 'toy raincks'`"
   ]
  },
  {
   "cell_type": "markdown",
   "id": "94926066",
   "metadata": {},
   "source": [
    "Helpful Python features:\n",
    "\n",
    "* Remember that the `set()` data structure will keep track of a number of items, but if you add a duplicate item it will only be present in the set once."
   ]
  },
  {
   "cell_type": "code",
   "execution_count": null,
   "id": "95f8135c",
   "metadata": {},
   "outputs": [],
   "source": [
    "# Remove duplicate letters algorithm\n",
    "# Step 1: ...\n",
    "# Step 2: ...\n",
    "\n",
    "def remove_dupes(string):\n",
    "    pass"
   ]
  },
  {
   "cell_type": "code",
   "execution_count": null,
   "id": "411d4517",
   "metadata": {},
   "outputs": [],
   "source": [
    "assert remove_dupes('banana') == 'ban'b\n",
    "assert remove_dupes('toy train tracks') == 'toy raincks'\n",
    "assert remove_dupes('big top') == 'big top'"
   ]
  },
  {
   "cell_type": "markdown",
   "id": "5d294a50",
   "metadata": {},
   "source": [
    "# Exercise: Narcissistic numbers\n",
    "\n",
    "A [Narcissistic number](https://en.wikipedia.org/wiki/Narcissistic_number) is a number that is the sum of its own digits, when those digits are raised to the power of the number of digits in the number. Let's look at an example:\n",
    "\n",
    "153:\n",
    "3 digits\n",
    "1^3 + 5^3 + 3^3 = 1 + 125 + 27 = 153\n",
    "\n",
    "A longer one, 548834\n",
    "6 digits\n",
    "5^6 + 4^6 + 8^6 + 8^6 + 3^6 + 4^6 = 15625 + 4096 + 262144 + 262144 + 729 + 4096 = 548834\n",
    "\n",
    "Given a number, return `True` if it is **Narcissistic** or `False` if it is not."
   ]
  },
  {
   "cell_type": "markdown",
   "id": "0c2b6fd7",
   "metadata": {},
   "source": [
    "Helpful Python features:\n",
    "\n",
    "* Remember `split()` from above.\n",
    "* We use `len(x)` to find the length of the variable x. If x is a list, this is the number of items in it. If x is a string, this is the number of characters."
   ]
  },
  {
   "cell_type": "code",
   "execution_count": null,
   "id": "98c12c43",
   "metadata": {},
   "outputs": [],
   "source": [
    "# Is number Narcissistic algorithm\n",
    "# Step 1: ...\n",
    "# Step 2: ...\n",
    "\n",
    "def is_narcissistic(n):\n",
    "    pass"
   ]
  },
  {
   "cell_type": "code",
   "execution_count": null,
   "id": "32c48f23",
   "metadata": {},
   "outputs": [],
   "source": [
    "assert(is_narcissistic(153) == True)\n",
    "assert(is_narcissistic(123) == False)\n",
    "assert(is_narcissistic(548834) == True)\n",
    "assert(is_narcissistic(9475) == False)\n",
    "assert(is_narcissistic(424242) == False)"
   ]
  }
 ],
 "metadata": {
  "kernelspec": {
   "display_name": "PythonClass-OhLRe-cl",
   "language": "python",
   "name": "python3"
  },
  "language_info": {
   "codemirror_mode": {
    "name": "ipython",
    "version": 3
   },
   "file_extension": ".py",
   "mimetype": "text/x-python",
   "name": "python",
   "nbconvert_exporter": "python",
   "pygments_lexer": "ipython3",
   "version": "3.11.9"
  }
 },
 "nbformat": 4,
 "nbformat_minor": 5
}
