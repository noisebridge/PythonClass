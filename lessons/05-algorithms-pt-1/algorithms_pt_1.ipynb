{
 "cells": [
  {
   "cell_type": "markdown",
   "id": "f7c62b1b",
   "metadata": {},
   "source": [
    "Welcome to Lesson 5 of the Noisebridge Python class! ([Noisebridge Wiki](https://www.noisebridge.net/wiki/PyClass) | [Github](https://github.com/audiodude/PythonClass))\n",
    "\n",
    "In this lesson, we will begin studying **algorithms**. An algorithm is a process or sequence of steps used to perform a task or complete a computation. We will start with basic, everyday algorithms and proceed to some more traditional \"computer science\" algorithms.\n",
    "\n",
    "We will be discussing:\n",
    "\n",
    "* An algorithm for finding the biggest of a list of numbers\n",
    "* An algorithm for counting characters in a string\n",
    "* Using the output of one algorithm as input to another\n",
    "* `while` loops"
   ]
  },
  {
   "cell_type": "markdown",
   "id": "484f0502-ed34-40a8-8c4a-a9266a024460",
   "metadata": {},
   "source": [
    "# Algorithms"
   ]
  },
  {
   "cell_type": "markdown",
   "id": "048b8159",
   "metadata": {},
   "source": [
    "Let's say we have a list of numbers:"
   ]
  },
  {
   "cell_type": "code",
   "execution_count": null,
   "id": "d386559d",
   "metadata": {},
   "outputs": [],
   "source": [
    "number_list = [10, 42, -5, 17, 23, -12, 34, 35, 8]"
   ]
  },
  {
   "cell_type": "markdown",
   "id": "c3b92f44",
   "metadata": {},
   "source": [
    "How do we find the largest number in the list?\n",
    "\n",
    "The algorithm looks something like this:\n",
    "\n",
    "1. Take the first number from the list, and assume it is the biggest.\n",
    "1. Compare it to the next number in the list. If the next number is bigger, consider that the biggest.\n",
    "1. Continue in this way, comparing to the next number in the list each time, until you reach the end of the list.\n",
    "\n",
    "So we \"walk\" or \"iterate\" through the list, comparing the current \"biggest number candidate\" to the next number, until we reach the end of the list.\n",
    "\n",
    "How would we write code for this algorithm in Python?"
   ]
  },
  {
   "cell_type": "code",
   "execution_count": null,
   "id": "981478f2",
   "metadata": {
    "hide_input": false
   },
   "outputs": [],
   "source": [
    "# Implement the biggest number algorithm\n",
    "def biggest_number(number_list):\n",
    "    pass"
   ]
  },
  {
   "cell_type": "code",
   "execution_count": null,
   "id": "e42edd68",
   "metadata": {},
   "outputs": [],
   "source": [
    "assert biggest_number(number_list) == 42\n",
    "assert biggest_number([-30, -20, -10, 0]) == 0"
   ]
  },
  {
   "cell_type": "markdown",
   "id": "2d34a54c",
   "metadata": {},
   "source": [
    "Let's try another algorithm. How would you count the number of occurrences of each letter, number, and punctuation in a string?"
   ]
  },
  {
   "cell_type": "code",
   "execution_count": null,
   "id": "c5b9b0b9",
   "metadata": {},
   "outputs": [],
   "source": [
    "# We use \\' to \"escape\" the single quote,\n",
    "# since we are using single quotes as the string delimiter\n",
    "s = 'Hello, how are you? I\\'m learning Python'"
   ]
  },
  {
   "cell_type": "markdown",
   "id": "1d5b9612",
   "metadata": {},
   "source": [
    "The steps are as follows:\n",
    "\n",
    "1. Create an empty dict that will hold the mapping between character and number of occurrences.\n",
    "1. Iterate over each character in the list, for each one:\n",
    "    1. If there is an entry in the dict for the character, increment the entry by 1.\n",
    "    1. Otherwise, create an entry in the dictionary for the character and set it to 1.\n",
    "  \n",
    "How would we write *this* algorithm in Python?"
   ]
  },
  {
   "cell_type": "code",
   "execution_count": null,
   "id": "b9213cbd",
   "metadata": {},
   "outputs": [],
   "source": [
    "# Implement the occurrences counting algorithm\n",
    "def count_occurrences(string):\n",
    "    pass"
   ]
  },
  {
   "cell_type": "code",
   "execution_count": null,
   "id": "fffa9b9f",
   "metadata": {},
   "outputs": [],
   "source": [
    "assert (count_occurrences('Hello, how are you? I\\'m learning Python') == {\n",
    " 'H': 1,\n",
    " 'e': 3,\n",
    " 'l': 3,\n",
    " 'o': 4,\n",
    " ',': 1,\n",
    " ' ': 6,\n",
    " 'h': 2,\n",
    " 'w': 1,\n",
    " 'a': 2,\n",
    " 'r': 2,\n",
    " 'y': 2,\n",
    " 'u': 1,\n",
    " '?': 1,\n",
    " 'I': 1,\n",
    " \"'\": 1,\n",
    " 'm': 1,\n",
    " 'n': 3,\n",
    " 'i': 1,\n",
    " 'g': 1,\n",
    " 'P': 1,\n",
    " 't': 1\n",
    "})"
   ]
  },
  {
   "cell_type": "markdown",
   "id": "18a8415a",
   "metadata": {},
   "source": [
    "The important thing to take away from these exercises is that **an algorithm is different than the code that implements it**. The algorithm is the abstract set of steps that lead to a solution in the general case. The code *implements* the algorithm, but it's possible there are multiple ways of implementing the same algorithm. Think especially of implementing an algorithm in different programming languages. The code is of course different but the algorithm is the same."
   ]
  },
  {
   "cell_type": "markdown",
   "id": "d240fb67",
   "metadata": {},
   "source": [
    "Sometimes the output of one algorithm can be used for a different purpose, such as implementing a different algorithm. For example, consider an **isogram**, which is a word with no repeating letters or numbers, whether in a row or not. How would we use the output of our occurrences counting algorithm to create an algorithm which determines if a given string is an isogram?"
   ]
  },
  {
   "cell_type": "markdown",
   "id": "3de7e07d",
   "metadata": {
    "hide_input": true
   },
   "source": [
    "1. Go through the steps of the occurrence counting algorithm\n",
    "2. Take the final dictionary, and check if any of the values are greater than 1"
   ]
  },
  {
   "cell_type": "markdown",
   "id": "d6274dbb",
   "metadata": {
    "hide_input": false
   },
   "source": [
    "And what would the resulting code look like?"
   ]
  },
  {
   "cell_type": "code",
   "execution_count": null,
   "id": "8e3f82e6",
   "metadata": {
    "hide_input": true
   },
   "outputs": [],
   "source": [
    "def is_isogram1(string):\n",
    "    occurrences = count_occurrences(string)\n",
    "    for v in occurrences.values():\n",
    "        if v > 1:\n",
    "            return False\n",
    "    return True\n",
    "\n",
    "def is_isogram2(string):\n",
    "    return not any([x > 1 for x in count_occurrences(string).values()])\n",
    "\n",
    "s = 'Tower'\n",
    "print(is_isogram1(s))\n",
    "print(is_isogram2(s))"
   ]
  },
  {
   "cell_type": "markdown",
   "id": "9c9d4f52",
   "metadata": {
    "hide_input": true
   },
   "source": [
    "These are two ways of implementing an algorithm for checking if a string is an isogram. Notice that both functions call the `count_occurrences` function (which we defined above). The output of that algorithm is the input to this algorithm. If you didn't have a `count_occurrences` function already defined, you could put the implementation \"inline\" inside the `is_isogram` functions: "
   ]
  },
  {
   "cell_type": "code",
   "execution_count": null,
   "id": "914dbe6e",
   "metadata": {
    "hide_input": true
   },
   "outputs": [],
   "source": [
    "def is_isogram3(string):\n",
    "    # Let's assume that this function doesn't exist\n",
    "    # occurrences = count_occurrences(string)\n",
    "    \n",
    "    # We can include its code in our is_isogram function:\n",
    "    occurrences = {}  # Empty dictionary for holding our character -> occurrences mapping\n",
    "    for char in string:\n",
    "        if char in occurrences:\n",
    "            occurrences[char] += 1 # `foo += 1` is the same as `foo = foo + 1`\n",
    "        else:\n",
    "            occurrences[char] = 1\n",
    "\n",
    "    for v in occurrences.values():\n",
    "        if v > 1:\n",
    "            return False\n",
    "    return True\n",
    "\n",
    "print(is_isogram3('Water'))"
   ]
  },
  {
   "cell_type": "markdown",
   "id": "f21e7903",
   "metadata": {},
   "source": [
    "## While loops"
   ]
  },
  {
   "cell_type": "markdown",
   "id": "840f7cfd",
   "metadata": {},
   "source": [
    "Before we move on to other algorithms, lets quickly introduce a new kind of loop. So far, we have seen the `for` loop, which iterates over a given list (or other iterable data structure), and assigns each item in the list to a \"loop variable\":"
   ]
  },
  {
   "cell_type": "code",
   "execution_count": null,
   "id": "3fc03ecf",
   "metadata": {},
   "outputs": [],
   "source": [
    "stuff = [3, 5, 2, 4]\n",
    "for s in stuff:\n",
    "    print(s)"
   ]
  },
  {
   "cell_type": "markdown",
   "id": "8543c802",
   "metadata": {},
   "source": [
    "There is also a construct called a `while` loop. A `while` loop continues executing the body of the loop over and over as long as the condition of the `while` loop evaluates to `True`. Here is an example:"
   ]
  },
  {
   "cell_type": "code",
   "execution_count": null,
   "id": "84c50d95",
   "metadata": {},
   "outputs": [],
   "source": [
    "x = ''\n",
    "while len(x) < 30:\n",
    "    x += 'hello '\n",
    "print(x)"
   ]
  },
  {
   "cell_type": "markdown",
   "id": "c278004a",
   "metadata": {},
   "source": [
    "The most important thing in a `while` loop is that you have to update the data that leads to it ending. That means in the above example, the loops ends based on the length of x, and the body of the loop makes x bigger every time. If your loop body does not influence the *condition* being tested, you could end up with an **infinite loop**, which is a common programming error where you program just \"hangs\" and runs forever."
   ]
  },
  {
   "cell_type": "code",
   "execution_count": null,
   "id": "bdff03de",
   "metadata": {},
   "outputs": [],
   "source": [
    "idx = 0\n",
    "while idx < len(stuff):\n",
    "    print(stuff[idx])\n",
    "    # This is an infinite loop. It will print the item at stuff[0] forever\n",
    "    # What we need is an assignment statement for `idx` so that it grows\n",
    "    # every time and eventually is not less than the length of `stuff`.\n",
    "    # idx += 1"
   ]
  },
  {
   "cell_type": "markdown",
   "id": "faf47eab",
   "metadata": {},
   "source": [
    "On the other hand, often while loops are used for retrying or redoing work over and over until a success condition is met. Here we intentionally create an infinite loop, but when our condition is met we use the `break` keyword (the same as is used in for loops) to end the loop."
   ]
  },
  {
   "cell_type": "code",
   "execution_count": null,
   "id": "a1e47fcf",
   "metadata": {},
   "outputs": [],
   "source": [
    "import random\n",
    "\n",
    "def get_random_number():\n",
    "    n = random.randint(1, 10)\n",
    "    print(f'Random number: {n}')\n",
    "    return n\n",
    "\n",
    "while True:\n",
    "    r = get_random_number()\n",
    "    if r == 5:\n",
    "        break"
   ]
  },
  {
   "cell_type": "markdown",
   "id": "4cef72d5",
   "metadata": {},
   "source": [
    "## Conclusion\n",
    "\n",
    "Most interesting programs contain some implementations of algorithms, big and small. The important thing to remember is that the algorithm is the abstract set of steps used to solve a problem, and the implementation is the code that does the job. When writing your programs, try to think about the full set of steps (the algorithm) that you need, before you start writing code. That way you will at least be confident that once you figure out the right lines to put down, you have a finished solution. Otherwise, you will be writing code, that may itself be buggy, and not know if you're any closer to solving the problem."
   ]
  }
 ],
 "metadata": {
  "kernelspec": {
   "display_name": "PythonClass-OhLRe-cl",
   "language": "python",
   "name": "python3"
  },
  "language_info": {
   "codemirror_mode": {
    "name": "ipython",
    "version": 3
   },
   "file_extension": ".py",
   "mimetype": "text/x-python",
   "name": "python",
   "nbconvert_exporter": "python",
   "pygments_lexer": "ipython3",
   "version": "3.11.9"
  }
 },
 "nbformat": 4,
 "nbformat_minor": 5
}
