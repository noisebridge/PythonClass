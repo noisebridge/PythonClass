{
 "cells": [
  {
   "cell_type": "markdown",
   "id": "f7c62b1b",
   "metadata": {},
   "source": [
    "Welcome to Lesson 5 of the Noisebridge Python class! ([Noisebridge Wiki](https://www.noisebridge.net/wiki/PyClass) | [Github](https://github.com/audiodude/PythonClass))\n",
    "\n",
    "In this lesson, we will begin studying **algorithms**. An algorithm is a process or sequence of steps used to perform a task or complete a computation. We will start with basic, everyday algorithms and proceed to some more traditional \"computer science\" algorithms.\n",
    "\n",
    "We will be discussing:\n",
    "\n",
    "* An algorithm for finding the biggest of a list of numbers\n",
    "* An algorithm for counting characters in a string\n",
    "* Using the output of one algorithm as input to another\n",
    "* `while` loops"
   ]
  },
  {
   "cell_type": "markdown",
   "id": "484f0502-ed34-40a8-8c4a-a9266a024460",
   "metadata": {},
   "source": [
    "# Algorithms"
   ]
  },
  {
   "cell_type": "markdown",
   "id": "048b8159",
   "metadata": {},
   "source": [
    "Let's say we have a list of numbers:"
   ]
  },
  {
   "cell_type": "code",
   "execution_count": null,
   "id": "d386559d",
   "metadata": {},
   "outputs": [],
   "source": [
    "number_list = [10, 42, -5, 17, 23, -12, 34, 35, 8]"
   ]
  },
  {
   "cell_type": "markdown",
   "id": "c3b92f44",
   "metadata": {},
   "source": [
    "How do we find the largest number in the list?\n",
    "\n",
    "The algorithm looks something like this:\n",
    "\n",
    "1. Take the first number from the list, and assume it is the biggest.\n",
    "1. Compare it to the next number in the list. If the next number is bigger, consider that the biggest.\n",
    "1. Continue in this way, comparing to the next number in the list each time, until you reach the end of the list.\n",
    "\n",
    "So we \"walk\" or \"iterate\" through the list, comparing the current \"biggest number candidate\" to the next number, until we reach the end of the list.\n",
    "\n",
    "How would we write code for this algorithm in Python?"
   ]
  },
  {
   "cell_type": "code",
   "execution_count": null,
   "id": "981478f2",
   "metadata": {
    "hide_input": false
   },
   "outputs": [],
   "source": [
    "# Implement the biggest number algorithm"
   ]
  },
  {
   "cell_type": "markdown",
   "id": "52ed012c",
   "metadata": {},
   "source": [
    "Here, on line 1, we assign the first number in the list (`numbers[0]`) to the variable `biggest`. On line 2, we create a for loop for iterating over the rest of the numbers (`numbers[1:]`, starting from index 1 to the end). Remember from a previous lesson that a for loop assigns each element in the list to the loop variable (`n`) in order.\n",
    "\n",
    "Now, taking each number `n` in order, we compare it to our candidate biggest. If it is bigger than our candidate, it becomes the new candidate for biggest (line 4)."
   ]
  },
  {
   "cell_type": "markdown",
   "id": "2d34a54c",
   "metadata": {},
   "source": [
    "Let's try another algorithm. How would you count the number of occurrences of each letter, number, and punctuation in a string?"
   ]
  },
  {
   "cell_type": "code",
   "execution_count": null,
   "id": "c5b9b0b9",
   "metadata": {},
   "outputs": [],
   "source": [
    "# We use \\' to \"escape\" the single quote,\n",
    "# since we are using single quotes as the string delimiter\n",
    "s = 'Hello, how are you? I\\'m learning Python'"
   ]
  },
  {
   "cell_type": "markdown",
   "id": "1d5b9612",
   "metadata": {},
   "source": [
    "The steps are as follows:\n",
    "\n",
    "1. Create an empty dict that will hold the mapping between character and number of occurrences.\n",
    "1. Iterate over each character in the list, for each one:\n",
    "    1. If there is an entry in the dict for the character, increment the entry by 1.\n",
    "    1. Otherwise, create an entry in the dictionary for the character and set it to 1.\n",
    "  \n",
    "How would we write *this* algorithm in Python?"
   ]
  },
  {
   "cell_type": "code",
   "execution_count": null,
   "id": "b9213cbd",
   "metadata": {},
   "outputs": [],
   "source": [
    "# Implement the occurrences counting algorithm"
   ]
  },
  {
   "cell_type": "markdown",
   "id": "18a8415a",
   "metadata": {},
   "source": [
    "The important thing to take away from these exercises is that **an algorithm is different than the code that implements it**. The algorithm is the abstract set of steps that lead to a solution in the general case. The code *implements* the algorithm, but it's possible there are multiple ways of implementing the same algorithm. Think especially of implementing an algorithm in different programming languages. The code is of course different but the algorithm is the same."
   ]
  },
  {
   "cell_type": "markdown",
   "id": "d240fb67",
   "metadata": {},
   "source": [
    "Sometimes the output of one algorithm can be used for a different purpose, such as implementing a different algorithm. For example, consider an **isogram**, which is a word with no repeating letters or numbers, whether in a row or not. How would we use the output of our occurrences counting algorithm to create an algorithm which determines if a given string is an isogram?"
   ]
  },
  {
   "cell_type": "markdown",
   "id": "3de7e07d",
   "metadata": {
    "hide_input": true
   },
   "source": [
    "1. Go through the steps of the occurrence counting algorithm\n",
    "2. Take the final dictionary, and check if any of the values are greater than 1"
   ]
  },
  {
   "cell_type": "markdown",
   "id": "d6274dbb",
   "metadata": {
    "hide_input": false
   },
   "source": [
    "And what would the resulting code look like?"
   ]
  },
  {
   "cell_type": "code",
   "execution_count": null,
   "id": "8e3f82e6",
   "metadata": {
    "hide_input": true
   },
   "outputs": [],
   "source": [
    "def is_isogram1(string):\n",
    "    occurrences = count_occurrences(string)\n",
    "    for v in occurrences.values():\n",
    "        if v > 1:\n",
    "            return False\n",
    "    return True\n",
    "\n",
    "def is_isogram2(string):\n",
    "    return not any([x > 1 for x in count_occurrences(string).values()])\n",
    "\n",
    "s = 'Tower'\n",
    "print(is_isogram1(s))\n",
    "print(is_isogram2(s))"
   ]
  },
  {
   "cell_type": "markdown",
   "id": "9c9d4f52",
   "metadata": {
    "hide_input": true
   },
   "source": [
    "These are two ways of implementing an algorithm for checking if a string is an isogram. Notice that both functions call the `count_occurrences` function (which we defined above). The output of that algorithm is the input to this algorithm. If you didn't have a `count_occurrences` function already defined, you could put the implementation \"inline\" inside the `is_isogram` functions: "
   ]
  },
  {
   "cell_type": "code",
   "execution_count": null,
   "id": "914dbe6e",
   "metadata": {
    "hide_input": true
   },
   "outputs": [],
   "source": [
    "def is_isogram3(string):\n",
    "    # Let's assume that this function doesn't exist\n",
    "    # occurrences = count_occurrences(string)\n",
    "    \n",
    "    # We can include its code in our is_isogram function:\n",
    "    occurrences = {}  # Empty dictionary for holding our character -> occurrences mapping\n",
    "    for char in string:\n",
    "        if char in occurrences:\n",
    "            occurrences[char] += 1 # `foo += 1` is the same as `foo = foo + 1`\n",
    "        else:\n",
    "            occurrences[char] = 1\n",
    "\n",
    "    for v in occurrences.values():\n",
    "        if v > 1:\n",
    "            return False\n",
    "    return True\n",
    "\n",
    "print(is_isogram3('Water'))"
   ]
  },
  {
   "cell_type": "markdown",
   "id": "f21e7903",
   "metadata": {},
   "source": [
    "## While loops"
   ]
  },
  {
   "cell_type": "markdown",
   "id": "840f7cfd",
   "metadata": {},
   "source": [
    "Before we move on to other algorithms, lets quickly introduce a new kind of loop. So far, we have seen the `for` loop, which iterates over a given list (or other iterable data structure), and assigns each item in the list to a \"loop variable\":"
   ]
  },
  {
   "cell_type": "code",
   "execution_count": null,
   "id": "3fc03ecf",
   "metadata": {},
   "outputs": [],
   "source": [
    "stuff = [3, 5, 2, 4]\n",
    "for s in stuff:\n",
    "    print(s)"
   ]
  },
  {
   "cell_type": "markdown",
   "id": "8543c802",
   "metadata": {},
   "source": [
    "There is also a construct called a `while` loop. A `while` loop continues executing the body of the loop over and over as long as the condition of the `while` loop evaluates to `True`. Here is an example:"
   ]
  },
  {
   "cell_type": "code",
   "execution_count": null,
   "id": "84c50d95",
   "metadata": {},
   "outputs": [],
   "source": [
    "x = ''\n",
    "while len(x) < 30:\n",
    "    x += 'hello '\n",
    "print(x)"
   ]
  },
  {
   "cell_type": "markdown",
   "id": "c278004a",
   "metadata": {},
   "source": [
    "The most important thing in a `while` loop is that you have to update the data that leads to it ending. That means in the above example, the loops ends based on the length of x, and the body of the loop makes x bigger every time. If your loop body does not influence the *condition* being tested, you could end up with an **infinite loop**, which is a common programming error where you program just \"hangs\" and runs forever."
   ]
  },
  {
   "cell_type": "code",
   "execution_count": null,
   "id": "bdff03de",
   "metadata": {},
   "outputs": [],
   "source": [
    "idx = 0\n",
    "while idx < len(stuff):\n",
    "    print(stuff[idx])\n",
    "    # This is an infinite loop. It will print the item at stuff[0] forever\n",
    "    # What we need is an assignment statement for `idx` so that it grows\n",
    "    # every time and eventually is not less than the length of `stuff`.\n",
    "    # idx += 1"
   ]
  },
  {
   "cell_type": "markdown",
   "id": "b48f6585",
   "metadata": {},
   "source": [
    "## Toy Problem - Candles\n",
    "\n",
    "Let's say you have a number of candles, `c`, which each burn for an hour. After a certain number of candles, `x`, has burned, you can reuse them to make 1 new candle. Write a function that takes the number of candles `c` and the number of leftover candles to make one new candle, `x`, and returns the number of hours of candlelight you can have.\n",
    "\n",
    "For example:\n",
    "\n",
    "c = 5\n",
    "\n",
    "x = 3\n",
    "\n",
    "The first candle burns for one hour, leaving hours = 1 and c = 4. The next candle burns, and hours = 2, c = 3. Same for the next, with hours = 3, but now we have 3 leftover candles that can be combined into a new candle, so c still equals 3. These 3 candles burn for three more hours, hours = 6, and they produce one new candle, which burns on its own for a total of hours = 7."
   ]
  },
  {
   "cell_type": "markdown",
   "id": "fe0fe2e0",
   "metadata": {},
   "source": [
    "How will we know if we wrote our function correctly? Are we getting the right answers? We can use a **test suite** with answers that we know are right to check if our function is doing the right thing. In Python, there are different test frameworks available, from the built in [unittest](https://docs.python.org/3/library/unittest.html) to [pytest](https://pytest.org).\n",
    "\n",
    "However, we don't need to use either of these for our modest purposes. We can simply use the built in `assert` statement. It takes an expression that should evaluate to `True` and throws an exception if it doesn't.\n",
    "\n",
    "Try writing your function, name it `hours_of_light`, and then run the assertions to see if you've gotten the right answers."
   ]
  },
  {
   "cell_type": "code",
   "execution_count": null,
   "id": "e99e515b",
   "metadata": {},
   "outputs": [],
   "source": [
    "def hours_of_light(candles, to_recycle):\n",
    "  pass"
   ]
  },
  {
   "cell_type": "code",
   "execution_count": null,
   "id": "143355a1",
   "metadata": {},
   "outputs": [],
   "source": [
    "assert hours_of_light(5, 3) == 7\n",
    "assert hours_of_light(15, 3) == 22\n",
    "assert hours_of_light(7, 2) == 13\n",
    "assert hours_of_light(21, 4) == 27\n",
    "assert hours_of_light(1376, 7) == 1605"
   ]
  },
  {
   "cell_type": "markdown",
   "id": "4cef72d5",
   "metadata": {},
   "source": [
    "## Conclusion\n",
    "\n",
    "Most interesting programs contain some implementations of algorithms, big and small. The important thing to remember is that the algorithm is the abstract set of steps used to solve a problem, and the implementation is the code that does the job. When writing your programs, try to think about the full set of steps (the algorithm) that you need, before you start writing code. That way you will at least be confident that once you figure out the right lines to put down, you have a finished solution. Otherwise, you will be writing code, that may itself be buggy, and not know if you're any closer to solving the problem."
   ]
  },
  {
   "cell_type": "markdown",
   "id": "4aef672e-2574-46e3-9f0d-86c2f3b68f35",
   "metadata": {},
   "source": [
    "---"
   ]
  },
  {
   "cell_type": "markdown",
   "id": "2d8743ae-61aa-4e06-baf7-0ebcc515bcb0",
   "metadata": {},
   "source": [
    "# Appendix: *args and **kwargs\n",
    "\n",
    "Python provides the special parameters `*args` and `**kwargs`, that capture all of the remaining positional (`*args`) and keyword (`**kwargs`) arguments to a function. Let's see this in practice."
   ]
  },
  {
   "cell_type": "code",
   "execution_count": null,
   "id": "236afb28",
   "metadata": {},
   "outputs": [],
   "source": [
    "def color_them(color, *args):\n",
    "    for arg in args:\n",
    "        print('%s: %s' % (color, arg))\n",
    "        \n",
    "color_them('red', 1, 2, 3)"
   ]
  },
  {
   "cell_type": "markdown",
   "id": "75647ddb-ea1b-4e83-b126-f579d5529308",
   "metadata": {},
   "source": [
    "The first argument, `'red'` is assigned to the argument `color`. Then the next positional arguments, as many as we want, are assigned to `args`, which is a list. Notice that when referring to `args` in the code, we omit the asterisk (`*`), which is only used in the function definition to indicate that `args` is a special variable that is capturing all of the remaining positional arguments.\n",
    "\n",
    "We can define keyword arguments after `*args` if we like."
   ]
  },
  {
   "cell_type": "code",
   "execution_count": null,
   "id": "fdb9aa54",
   "metadata": {},
   "outputs": [],
   "source": [
    "def color_them2(color, *args, print_twice=False):\n",
    "    for arg in args:\n",
    "        i = 1\n",
    "        if print_twice:\n",
    "            i = 2\n",
    "        # We use a single underscore, '_', to indicate that\n",
    "        # we're not using a variable. It doesn't have any\n",
    "        # special meaning, it's just a convention.\n",
    "        for _ in range(i):\n",
    "            print('%s: %s' % (color, arg))\n",
    "            \n",
    "color_them2('blue', 10, 20, 30, 40, 50, print_twice=True)"
   ]
  },
  {
   "cell_type": "markdown",
   "id": "654286ea-2248-4fb0-99d8-cb10040473e6",
   "metadata": {},
   "source": [
    "What if we want to use a variable length list of `*args` to call a function that can take a variable length list of `*args`?"
   ]
  },
  {
   "cell_type": "code",
   "execution_count": null,
   "id": "8d59b033",
   "metadata": {},
   "outputs": [],
   "source": [
    "def color_with_header(color, *args):\n",
    "    print('=== %s ===' % color)\n",
    "    color_them(color, *args)\n",
    "    \n",
    "color_with_header('green', 100, 150, 200, 250)"
   ]
  },
  {
   "cell_type": "markdown",
   "id": "ee25a0fc-46e9-428e-bd15-e830160f207c",
   "metadata": {},
   "source": [
    "Here, we again using the asterisk (`*`) but it has a different meaning. When we use it on line 5 above in our call to `color_them`, we are using it as the **unpacking operator**. This means, take an actual list of items, and extract each one, rather than just passing it as a list.\n",
    "\n",
    "You may be wondering why we would use `*args` instead of just passing a single item that represents a list. We'll get back to that, promise."
   ]
  },
  {
   "cell_type": "code",
   "execution_count": null,
   "id": "8b418172",
   "metadata": {},
   "outputs": [],
   "source": [
    "def color_them3(color, things):\n",
    "    for thing in things:\n",
    "        print('%s: %s' % (color, thing))\n",
    "\n",
    "color_them3('yellow', [3, 5, 7])"
   ]
  },
  {
   "cell_type": "markdown",
   "id": "ab2100d9-ffeb-492c-9f18-22b487ac5ce3",
   "metadata": {},
   "source": [
    "Just like we have a way to capture any variable number of positional args, we can also capture keyword args using `**kwargs`."
   ]
  },
  {
   "cell_type": "code",
   "execution_count": null,
   "id": "8ef472bb",
   "metadata": {},
   "outputs": [],
   "source": [
    "def print_prices(header, multiplier=1, **kwargs):\n",
    "    print(header)\n",
    "    for thing, price in kwargs.items():\n",
    "        print('%s costs %s' % (thing, price * multiplier))\n",
    "        \n",
    "print_prices('The prices:', apple=1.29, orange=1.59, banana=0.89)"
   ]
  },
  {
   "cell_type": "markdown",
   "id": "535962f4-a980-4a6c-b787-85fe6e50be36",
   "metadata": {},
   "source": [
    "We can pass literally any valid python identifier to the `print_prices` function, and they will all be captured in the dictionary `kwargs`. Notice that there is still a positional argument (we can have as many of those as we like) and a named keyword argument (`multiplier`) that can be specified as well and will be captured outside of `kwargs` (so `multiplier` won't be part of the `kwargs` dictionary)."
   ]
  },
  {
   "cell_type": "code",
   "execution_count": null,
   "id": "c2774bc6",
   "metadata": {},
   "outputs": [],
   "source": [
    "print_prices('Toy prices:', train=5.50, multiplier=2, blocks=1.00)"
   ]
  },
  {
   "cell_type": "markdown",
   "id": "23eefbdd-2c7d-499e-8e30-85615ecaa317",
   "metadata": {},
   "source": [
    "Like `*args`, we can use the dictionary destruction operator `**` to pass a dictionary to a function as keyword arguments."
   ]
  },
  {
   "cell_type": "code",
   "execution_count": null,
   "id": "be92022b",
   "metadata": {},
   "outputs": [],
   "source": [
    "def turn_the_car(direction='left', speed=30):\n",
    "    print(direction, speed)\n",
    "    \n",
    "my_kwargs = {'direction': 'right'}\n",
    "turn_the_car(**my_kwargs)"
   ]
  },
  {
   "cell_type": "markdown",
   "id": "e448986f-5f24-4cb1-a138-7dd0ee066970",
   "metadata": {},
   "source": [
    "It's important to note that you can't call the function `turn_the_car` with an arbitrary destructured dictionary, because it's not set up to accept arbitrary keyword arguments."
   ]
  },
  {
   "cell_type": "code",
   "execution_count": null,
   "id": "4a732d61",
   "metadata": {},
   "outputs": [],
   "source": [
    "my_kwargs2 = {'direction': 'up', 'brake': True, 'foo': 'bar'}\n",
    "turn_the_car(**my_kwargs2)"
   ]
  },
  {
   "cell_type": "markdown",
   "id": "fe2e00ec-7823-4f28-afdd-f0fb1a292017",
   "metadata": {},
   "source": [
    "So what's the point of all this? The main reason to capture `*args` and `**kwargs` is so that you can confidently delegate to or wrap helper functions. Let's say we had a function that performs some task. Maybe we want to print out a logging message before and after the task."
   ]
  },
  {
   "cell_type": "code",
   "execution_count": null,
   "id": "b9fb3531",
   "metadata": {},
   "outputs": [],
   "source": [
    "def perform_task(data, instruction, preference=False, num_rows=100):\n",
    "    # Doesn't actually do anything, left to your imagination\n",
    "    print(data, instruction, preference, num_rows)\n",
    "\n",
    "def log_perform_task(*args, **kwargs):\n",
    "    print('About to run perform_task')\n",
    "    perform_task(*args, **kwargs)\n",
    "    print('Done with perform_task')\n",
    "    \n",
    "perform_task([1,2,3], 'foo')\n",
    "log_perform_task([4,5,6], 'bar', num_rows=50)"
   ]
  },
  {
   "cell_type": "markdown",
   "id": "2121b3ba-7dc9-4cc7-a4af-e66ff34e86a7",
   "metadata": {},
   "source": [
    "Here, what we're basicially saying is: \"Whatever positional arguments and keyword arguments were passed to this function, pass those same arguments to the function we're calling\". So the `*args` and `**kwargs` arguments in the definition of `log_perform_task` capture the positional and keyword arguments, which are then **destructured** and passed as the positional and keyword arguments of `perform_task`.\n",
    "\n",
    "We could also modify or remove parameters:"
   ]
  },
  {
   "cell_type": "code",
   "execution_count": null,
   "id": "eb7f442a",
   "metadata": {},
   "outputs": [],
   "source": [
    "def perform_twice_as_many_rows(*args, **kwargs):\n",
    "    if 'num_rows' in kwargs:\n",
    "        kwargs['num_rows'] *= 2\n",
    "    perform_task(*args, **kwargs)\n",
    "    \n",
    "perform_twice_as_many_rows([1,2,3], 'foo', num_rows=500)"
   ]
  },
  {
   "cell_type": "markdown",
   "id": "97bde14e-2612-411d-bf84-dde1ad24e166",
   "metadata": {},
   "source": [
    "We could have also explicitly defined the necessary parameters for our utility function:"
   ]
  },
  {
   "cell_type": "code",
   "execution_count": null,
   "id": "8d369ee4",
   "metadata": {},
   "outputs": [],
   "source": [
    "def log_perform_task_worse(data, instruction, preference=False, num_rows=100):\n",
    "    print('About to run perform_task')\n",
    "    perform_task(data, instruction, preference=preference, num_rows=num_rows)\n",
    "    print('Done with perform_task')"
   ]
  },
  {
   "cell_type": "markdown",
   "id": "8439077f-3903-4851-871b-e274b6ef5886",
   "metadata": {},
   "source": [
    "The problem with that approach is that we have to update all of our utility functions (and we already have two of them!) whenever the definition of `perform_task` updates. So if we add a new parameter to `perform_task`, the function `log_perfrom_task_worse` will also need to be updated."
   ]
  },
  {
   "cell_type": "code",
   "execution_count": null,
   "id": "e9484dde",
   "metadata": {},
   "outputs": [],
   "source": [
    "def perform_task(data, instruction, preference=False, num_rows=100, capture=True):\n",
    "    print(data, instruction, preference, num_rows, capture)\n",
    "    \n",
    "def log_perform_task_worse(data, instruction, preference=False, num_rows=100, capture=True):\n",
    "    print('About to run perform_task')\n",
    "    perform_task(data, instruction, preference=preference, num_rows=num_rows, capture=capture)\n",
    "    print('Done with perform_task')"
   ]
  },
  {
   "cell_type": "markdown",
   "id": "bdf9ce47-c276-4e47-be2a-0857f4f40a03",
   "metadata": {},
   "source": [
    "Instead, the `*args`/`**kwargs` approach let's us basically say \"We don't care what the arguments to the delegated function are, pass them\"."
   ]
  }
 ],
 "metadata": {
  "kernelspec": {
   "display_name": "Python 3 (ipykernel)",
   "language": "python",
   "name": "python3"
  },
  "language_info": {
   "codemirror_mode": {
    "name": "ipython",
    "version": 3
   },
   "file_extension": ".py",
   "mimetype": "text/x-python",
   "name": "python",
   "nbconvert_exporter": "python",
   "pygments_lexer": "ipython3",
   "version": "3.12.0"
  }
 },
 "nbformat": 4,
 "nbformat_minor": 5
}
