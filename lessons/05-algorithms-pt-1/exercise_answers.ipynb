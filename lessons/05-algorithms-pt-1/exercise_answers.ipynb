{
 "cells": [
  {
   "cell_type": "markdown",
   "metadata": {},
   "source": [
    "Answer to the first exercise, finding the biggest number in a list:"
   ]
  },
  {
   "cell_type": "code",
   "execution_count": null,
   "metadata": {},
   "outputs": [],
   "source": [
    "def find_biggest(numbers):\n",
    "    biggest = numbers[0]\n",
    "    for n in numbers[1:]:\n",
    "        if n > biggest:\n",
    "            biggest = n\n",
    "    return biggest\n",
    "\n",
    "print(find_biggest(number_list))"
   ]
  },
  {
   "cell_type": "markdown",
   "metadata": {},
   "source": [
    "Answer to the second exercise, finding the number of occurrences of each character in a string:"
   ]
  },
  {
   "cell_type": "code",
   "execution_count": null,
   "metadata": {},
   "outputs": [],
   "source": [
    "from pprint import pprint\n",
    "\n",
    "def count_occurrences(string):\n",
    "    answer = {}  # Empty dictionary for holding our character -> occurrences mapping\n",
    "    for char in string:\n",
    "        if char in answer:\n",
    "            answer[char] += 1 # `foo += 1` is the same as `foo = foo + 1`\n",
    "        else:\n",
    "            answer[char] = 1\n",
    "    return answer\n",
    "\n",
    "pprint(count_occurrences(s))"
   ]
  },
  {
   "cell_type": "markdown",
   "metadata": {},
   "source": [
    "Here's a solution to the candles problem:"
   ]
  },
  {
   "cell_type": "code",
   "execution_count": null,
   "metadata": {},
   "outputs": [],
   "source": [
    "def hours_of_light(candles, to_recycle):\n",
    "  hours = 0\n",
    "  while candles >= to_recycle:\n",
    "    candles -= to_recycle\n",
    "    hours += to_recycle\n",
    "    candles += 1\n",
    "  hours += candles\n",
    "  return hours"
   ]
  }
 ],
 "metadata": {
  "kernelspec": {
   "display_name": "venv",
   "language": "python",
   "name": "python3"
  },
  "language_info": {
   "name": "python",
   "version": "3.12.0"
  }
 },
 "nbformat": 4,
 "nbformat_minor": 2
}
