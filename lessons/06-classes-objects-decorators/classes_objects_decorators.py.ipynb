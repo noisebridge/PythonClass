{
 "cells": [
  {
   "cell_type": "markdown",
   "id": "04a5c483",
   "metadata": {},
   "source": [
    "Welcome to lesson 6 of the Noisebridge Python class! ([Noisebridge Wiki](https://www.noisebridge.net/wiki/PyClass) | [Github](https://github.com/audiodude/PythonClass))\n",
    "\n",
    "In this lesson, we will learn about Object Oriented Programming and how classes and objects work in Python. We will also discuss decorators.\n",
    "\n",
    "You will learn:\n",
    "\n",
    "* How to define a class, and instantiate an object of that class\n",
    "* What a constructor is in OOP\n",
    "* Proper uses of the Python `self` variable\n",
    "* How object properties are stored and calculated\n",
    "* Basic inheritance/class hierarchies\n",
    "* How to use and define decorators\n",
    "\n",
    "Let's go!"
   ]
  },
  {
   "cell_type": "markdown",
   "id": "04854fe2",
   "metadata": {},
   "source": [
    "An **object** is a data structure that encapsulates data (**instance variables**) and functions that operate on that data (**methods**). An object is created by **instantiating** a **class**, where the class can be thought of as the template for the object."
   ]
  },
  {
   "cell_type": "code",
   "execution_count": 7,
   "id": "99487817",
   "metadata": {},
   "outputs": [
    {
     "name": "stdout",
     "output_type": "stream",
     "text": [
      "In Fruit constructor __init__\n",
      "apple is $1.49\n",
      "apple is $1.19\n",
      "60.0\n"
     ]
    }
   ],
   "source": [
    "class Fruit:\n",
    "  store = 'Safeway'\n",
    "  \n",
    "  def __init__(self, name, price):\n",
    "    print('In Fruit constructor __init__')\n",
    "    self.name = name\n",
    "    self.price = price\n",
    "\n",
    "  def display(self):\n",
    "    print(f'{self.name} is ${self.price:.2f}')\n",
    "\n",
    "  def discount(self, percent):\n",
    "    self.price *= (1 - (percent / 100))\n",
    "    if not hasattr(self, 'discount_percent'):\n",
    "      self.discount_percent = percent\n",
    "    else:\n",
    "      self.discount_percent = self.discount_percent + (100 - self.discount_percent) * (1 - (percent/100))\n",
    "\n",
    "  def double_discount(self, percent):\n",
    "    self.discount(percent * 2)\n",
    "\n",
    "apple = Fruit('apple', 1.49)\n",
    "apple.display()\n",
    "apple.discount(20)\n",
    "apple.display()\n",
    "apple.discount(50)\n",
    "print(apple.discount_percent)\n",
    "apple.in_stock = True"
   ]
  },
  {
   "cell_type": "markdown",
   "id": "0fa1df47",
   "metadata": {},
   "source": [
    "We've already seen a few of the features of classes and objects:\n",
    "\n",
    "* Objects are created (or \"instantiated\") by \"calling\" their class objects (`Fruit()`)\n",
    "* Objects can have properties (or \"instance variables\"), such as `a.name`\n",
    "* In Python, the first argument to an instance method (a method on the class that operates on an object of that class) is always `self`, which can be used to access the other properties and methods of the object.\n",
    "* Properties can be added to objects, and they don't need to be defined ahead of time.\n",
    "\n",
    "Let's consider each of these points"
   ]
  },
  {
   "cell_type": "markdown",
   "id": "5af4cbe7",
   "metadata": {},
   "source": [
    "## Constructors"
   ]
  },
  {
   "cell_type": "markdown",
   "id": "e04b7317",
   "metadata": {},
   "source": [
    "In OOP (Object Oriented Programming), a constructor is a method that is used to construct, or instantiate, a member of the class (an object). So in the above example, `Fruit` is the *class*, `a` is the *object*, and it is constructed using the syntax `Fruit('apple', 1.49)`. When a class is called in this way and an object is constructed, the special `__init__` (double underscore init) method is called. This method is the constructor, which is similar in purpose to constructors in other OOP languages.\n",
    "\n",
    "Constructors are where you \"set up\" your object. In this example, our objects need a name and a price. Luckily, both of those are passed in as arguments to the constructor, so we simply assign them using the syntax `self.name = name` (same for price).\n",
    "\n",
    "Constructors can have any number of positional or keyword arguments, just like regular functions, though the first positional argument is always `self`."
   ]
  },
  {
   "cell_type": "markdown",
   "id": "5a9d0aa2",
   "metadata": {},
   "source": [
    "In many cases, a constructor will be where the properties, or instance variables, of an object are initialized, such as we just did with `name` and `price`."
   ]
  },
  {
   "cell_type": "markdown",
   "id": "5920b109",
   "metadata": {},
   "source": [
    "## `self`\n",
    "\n",
    "Python passes the object itself as the first argument to every instance method. It is almost universally implemented to assign this to a parameter named `self`, though technically the name could be anything. The `self` parameter operates very similarly to `this` in other OOP languages. It allows you to access member variables and methods of the \"current\" object.\n",
    "\n",
    "So the call a.discount(20) calls the `discount` method of the `Fruit` object, with `self == a` essentially. Also, in the `double_discount` method, we can use the `self` variable to call other methods of the object, like `discount`."
   ]
  },
  {
   "cell_type": "markdown",
   "id": "c3980767",
   "metadata": {},
   "source": [
    "## Properties"
   ]
  },
  {
   "cell_type": "markdown",
   "id": "f128a28b",
   "metadata": {},
   "source": [
    "We have already seen some examples of object properties in our Python code. It might help to understand properties if we refer to them by their other name: instance variables. Basically, they are variables that are \"scoped\" to a specific instance of an object. So we can have two different fruit objects, both with a `price` property, but the prices can be different. Changing one will not affect the other.\n",
    "\n",
    "Also note that properties do not have to be \"declared\" or \"defined\" anywhere. This is different from other OOP languages like Java, where you have to state upfront \"Objects of this class will have a property 'name' which is a String\" or whatever. While we will often add properties to objects in their constructors, it is not strictly necessary. Objects don't need to have the same set of properties defined during their lifetime, and we have already seen an example of this. The `Fruit` objects we defined only have an `discount_percent` property if the `discount` method has been called on them. We can check for the existence of a property on an object using the built in `hasattr`:"
   ]
  },
  {
   "cell_type": "code",
   "execution_count": null,
   "id": "a8461963",
   "metadata": {},
   "outputs": [],
   "source": [
    "name = 'Pedro'\n",
    "print(hasattr(name, 'startswith'))\n",
    "print(hasattr(name, 'party'))\n",
    "# This kind of works like the dict `get` method.\n",
    "print(getattr(name, '__class__'))\n",
    "print(getattr(name, '__name__', '--does not exist--'))"
   ]
  },
  {
   "cell_type": "markdown",
   "id": "daf116e1",
   "metadata": {},
   "source": [
    "\n",
    "\n",
    "In fact, in Python, you can add any properties you like to any object without raising an error. Though doing so will likely make your code hard to read and debug. It is especially error prone to overwrite attributes, like `name`, `price` and `discount_percent` that are used by the class methods, since those methods might make certain assumptions about the values of those attributes. In this case, for example, the Fruit class assumes that `discount_percent` is a running total of how much has been discounted from the price, and uses it to calculate its next value."
   ]
  },
  {
   "cell_type": "code",
   "execution_count": null,
   "id": "653408a1",
   "metadata": {},
   "outputs": [],
   "source": [
    "a_fruit = Fruit('generic', 5.00)\n",
    "\n",
    "a_fruit.why = 1\n",
    "a_fruit.would = 2\n",
    "a_fruit.you = 3\n",
    "a_fruit.do = 4\n",
    "a_fruit.this = 5\n",
    "\n",
    "print(a_fruit.you)"
   ]
  },
  {
   "cell_type": "markdown",
   "id": "a14a611f",
   "metadata": {},
   "source": [
    "In Python, we can use `hasattr` to check if a property exists on an object, as we did above. We can also use `getattr` and `setattr` in the case that we want to get or set a property, but the name is dynamic (not known when we are writing the code)."
   ]
  },
  {
   "cell_type": "code",
   "execution_count": null,
   "id": "3e649200",
   "metadata": {},
   "outputs": [],
   "source": [
    "import time\n",
    "\n",
    "assert hasattr(a_fruit, 'name')\n",
    "assert getattr(a_fruit, 'price')\n",
    "\n",
    "# This has no practical purpose, except to demonstrate that the\n",
    "# property name is effectively random and we don't know it ahead\n",
    "# of time.\n",
    "prop = 'quantity%.0f' % time.time()\n",
    "print(prop)\n",
    "\n",
    "setattr(a_fruit, prop, 10)\n",
    "print(getattr(a_fruit, prop))"
   ]
  },
  {
   "cell_type": "markdown",
   "id": "a058d336",
   "metadata": {},
   "source": [
    "Classes can also feature instance variables that are initialized to the same value no matter the object, by placing these variables at the \"top level\" of the class definition (alongside the methods)."
   ]
  },
  {
   "cell_type": "code",
   "execution_count": null,
   "id": "508471d7",
   "metadata": {},
   "outputs": [],
   "source": [
    "class Tool:\n",
    "  workbench = 'Home'\n",
    "\n",
    "  def __init__(self, name, use):\n",
    "    self.name = name\n",
    "    self.use = use\n",
    "\n",
    "  def get_workbench(self):\n",
    "    return self.workbench\n",
    "\n",
    "hammer = Tool('hammer', 'pounding')\n",
    "screwdriver = Tool('screwdriver', 'screwing')\n",
    "\n",
    "print(f'{hammer.name} workbench is {hammer.get_workbench()}')\n",
    "print(f'{screwdriver.name} workbench is {screwdriver.get_workbench()}')\n",
    "\n",
    "hammer.workbench = 'Garage'\n",
    "\n",
    "print(f'{hammer.name} workbench is {hammer.get_workbench()}')\n",
    "print(f'{screwdriver.name} workbench is {screwdriver.get_workbench()}')"
   ]
  },
  {
   "cell_type": "markdown",
   "id": "aa826b82",
   "metadata": {},
   "source": [
    "## Inheritance\n",
    "\n",
    "While it is very useful to encapsulate logic into a class/object, another useful feature of OOP is class **inheritance** or **class hierarchies**. Let's look at an example."
   ]
  },
  {
   "cell_type": "code",
   "execution_count": null,
   "id": "86c10c48",
   "metadata": {},
   "outputs": [],
   "source": [
    "class MultiFruit(Fruit):\n",
    "    def __init__(self, name, price, quantity):\n",
    "        print('In MultiFruit constructor __init__')\n",
    "        super().__init__(name, price)\n",
    "        print('Back in MultiFruit constructor')\n",
    "        self.quantity = quantity\n",
    "        \n",
    "    def per_item_price(self):\n",
    "        return round(self.price / self.quantity, 2)\n",
    "    \n",
    "grapes = MultiFruit('grapes', 0.89, 10)\n",
    "print(grapes.per_item_price())\n",
    "grapes.discount(10)\n",
    "print('Grapes cost %s, or %s per grape' % (grapes.price, grapes.per_item_price()))"
   ]
  },
  {
   "cell_type": "markdown",
   "id": "438bb553",
   "metadata": {},
   "source": [
    "Here, we've created an \"is a\" relationship between `MultiFruit` and `Fruit`. Any object that is a MultiFruit, \"is a\" Fruit (but the opposite is not true!). The `MultiFruit` is said to **inherit** the definitions of `discount` and `double_discount` from it's **superclass** (the class that's directly \"above\" it in the class hierarchy, as if we were drawing a tree diagram). Because of this inheritance, we can call `grapes.discount()` on `grapes` just like on any Fruit (because it \"is a\" Fruit).\n",
    "\n",
    "The `per_item_price()` method exists on `MultiFruit`, but not on Fruit. This reinforces the idea that a `MultiFruit` is a `Fruit` but a `Fruit` is not necessarily a `MultiFruit`. It wouldn't make sense for `Fruit` to have a `per_item_price()` method, since it doesn't have a quantity.\n",
    "\n",
    "Also notice the use of `super()` in the constructor. Here, we want to initialize our `MultiFruit` with a name and price, just like we do for regular `Fruit`. In this simple example, we could have just initialized those properties directly and skipped the call to the superclass constructor:"
   ]
  },
  {
   "cell_type": "code",
   "execution_count": null,
   "id": "2e88e8d2",
   "metadata": {},
   "outputs": [],
   "source": [
    "class MultiFruit2(Fruit):\n",
    "    def __init__(self, name, price, quantity):\n",
    "        print('In MultiFruit2 constructor __init__')\n",
    "        self.name = name\n",
    "        self.price = price\n",
    "        self.quantity = quantity"
   ]
  },
  {
   "cell_type": "markdown",
   "id": "89d4b41e",
   "metadata": {},
   "source": [
    "However, it's usually a good practice to try to use the superclass constructor in **subclasses**, since we might later update the `Fruit` constructor to, say, calculate ripeness on initialization, and it could introduce bugs (fruit flies??) if `MultiFruit` was being initialized in a totally separate way."
   ]
  },
  {
   "cell_type": "markdown",
   "id": "e202aa04",
   "metadata": {},
   "source": [
    "When we define a subclass, we can **inherit** methods or **override** them. In our `MultiFruit2` example, we override the constructor in the fruit class. When we instantiate a `MultiFruit2`, the constructor in the `MultiFruit2` class definition is called *instead* of the one in the `Fruit` class definition. However, when we call `display()`, we inherit that method from the `Fruit` class and that is the method that is called. "
   ]
  },
  {
   "cell_type": "code",
   "execution_count": null,
   "id": "5942d577",
   "metadata": {},
   "outputs": [],
   "source": [
    "cherries = MultiFruit2('cherries', 2.99, 20)\n",
    "cherries.display()"
   ]
  },
  {
   "cell_type": "markdown",
   "id": "ebd3fbec",
   "metadata": {},
   "source": [
    "In `MultiFruit3`, we inherit the constructor from Fruit, which means we can't specify the quantity when we construct a `MultiFruit3`. We add the quantity later using property assignment (`strawberries.quantity = 12`). We also override the display method and print out that we can't display a MultiFruit3 (for whatever reason)."
   ]
  },
  {
   "cell_type": "code",
   "execution_count": null,
   "id": "80291cfd",
   "metadata": {},
   "outputs": [],
   "source": [
    "class MultiFruit3(Fruit):\n",
    "    def per_item_price(self):\n",
    "        return round(self.price / self.quantity, 2)\n",
    "    \n",
    "    def display(self):\n",
    "        print('No, cannot display MultiFruit3')\n",
    "strawberries = MultiFruit3('strawberry', 3.79)\n",
    "strawberries.quantity = 12\n",
    "strawberries.display()\n",
    "print(strawberries.per_item_price())"
   ]
  },
  {
   "cell_type": "markdown",
   "id": "f3d15b82",
   "metadata": {},
   "source": [
    "We could also use the `super()` function in other methods of our class. For instance, if we want to calculate the \"per item\" discount on a `MultiFruit`, we could override the `discount()` method to do our extra calculation, before we call the method in the `Fruit` **super**class. "
   ]
  },
  {
   "cell_type": "code",
   "execution_count": null,
   "id": "ccb75111",
   "metadata": {},
   "outputs": [],
   "source": [
    "class MultiFruit2(Fruit):\n",
    "    def __init__(self, name, price, quantity):\n",
    "        print('In MultiFruit2 constructor __init__')\n",
    "        self.name = name\n",
    "        self.price = price\n",
    "        self.quantity = quantity\n",
    "\n",
    "    def discount(self, percent):\n",
    "        if not hasattr(self, 'per_item_discount_percent'):\n",
    "            self.per_item_discount_percent = percent / self.quantity\n",
    "        else:\n",
    "            self.per_item_discount_percent = self.per_item_discount_percent + (100 - self.per_item_discount_percent) * (1 - (percent/100/self.quantity))\n",
    "        super().discount(percent)\n",
    "\n",
    "\n",
    "grapes = MultiFruit2('grapes', 0.89, 10)\n",
    "print(grapes.price)\n",
    "grapes.discount(20)\n",
    "print(grapes.price)\n",
    "print(grapes.per_item_discount_percent)"
   ]
  },
  {
   "cell_type": "markdown",
   "id": "0fe439a4",
   "metadata": {},
   "source": [
    "Another powerful feature of inheritance is that since a `MultiFruit` \"is a\" `Fruit`, you can use the former anywhere the latter is required."
   ]
  },
  {
   "cell_type": "code",
   "execution_count": null,
   "id": "b0fc5561",
   "metadata": {},
   "outputs": [],
   "source": [
    "def make_fruit_basket(fruits):\n",
    "    names = [fruit.name for fruit in fruits]\n",
    "    total_price = sum(fruit.price for fruit in fruits)\n",
    "    return 'I made you a fruit basket with %s. It costs %.2f.' % (', '.join(names), total_price)\n",
    "\n",
    "print(make_fruit_basket([apple, grapes]))"
   ]
  },
  {
   "cell_type": "markdown",
   "id": "9263840e",
   "metadata": {},
   "source": [
    "The fruit basket method just cares about the name and price, which all fruits (including multifruits) have. It doesn't matter that grapes also have a quantity."
   ]
  },
  {
   "cell_type": "markdown",
   "id": "a679bb78",
   "metadata": {},
   "source": [
    "## `isinstance`\n",
    "\n",
    "Sometimes, you will get passed a fruit, and you will have different logic depending on if it is a `Fruit` or a `MultiFruit`. While not exactly encouraged, you can use an `isinstance` check to make a determination."
   ]
  },
  {
   "cell_type": "code",
   "execution_count": null,
   "id": "cdaa24d2",
   "metadata": {},
   "outputs": [],
   "source": [
    "assert isinstance(apple, Fruit)\n",
    "assert not isinstance(apple, MultiFruit)\n",
    "assert isinstance(grapes, Fruit)\n",
    "assert isinstance(grapes, MultiFruit)"
   ]
  },
  {
   "cell_type": "markdown",
   "id": "8d31931f",
   "metadata": {},
   "source": [
    "Although there are superior ways of designing your OOP programs, it's good to know that `isinstance` is there if we absolutely need it. It's far better than checking the property `.__class__` or using the built-in `type()` directly, because it inspects class hierarchies."
   ]
  },
  {
   "cell_type": "code",
   "execution_count": null,
   "id": "12eef7bc",
   "metadata": {},
   "outputs": [],
   "source": [
    "print(type(grapes))\n",
    "print(grapes.__class__)"
   ]
  },
  {
   "cell_type": "markdown",
   "id": "960942f2",
   "metadata": {},
   "source": [
    "# Exercise - Implementing a class\n",
    "\n",
    "TBD"
   ]
  },
  {
   "cell_type": "markdown",
   "id": "2e469066",
   "metadata": {},
   "source": [
    "# Appendix - Decorators\n",
    "\n",
    "Technically, a decorator is a function that is passed a function and returns a function. However, they look more like \"annotations\" in other languages, which is generally what they're used for. Decorators will be a fairly big part of our class on Web Apps with Flask, so let's discuss them now.\n",
    "\n",
    "In our `MultiFruit` class, the per_item_price depends solely on the price and quantity of the object. We can use a decorator to mark it as a property, and then have the ability to access it without \"calling\" it (though the underlying function will still be called). Let's see that in action."
   ]
  },
  {
   "cell_type": "code",
   "execution_count": 13,
   "id": "2349f37f",
   "metadata": {},
   "outputs": [
    {
     "name": "stdout",
     "output_type": "stream",
     "text": [
      "In Fruit constructor __init__\n",
      "True\n",
      "0.41\n"
     ]
    }
   ],
   "source": [
    "class MultiFruit3(Fruit):\n",
    "    def __init__(self, name, price, quantity):\n",
    "        super().__init__(name, price)\n",
    "        self.quantity = quantity\n",
    "    \n",
    "    def on_sale(self):\n",
    "        return True\n",
    "\n",
    "    @property\n",
    "    def per_item_price(self):\n",
    "        return round(self.price / self.quantity, 2)\n",
    "    \n",
    "pears = MultiFruit3('pear', 1.65, 4)\n",
    "print(pears.on_sale())\n",
    "print(pears.per_item_price)"
   ]
  },
  {
   "cell_type": "code",
   "execution_count": null,
   "id": "9e011441",
   "metadata": {},
   "outputs": [
    {
     "name": "stdout",
     "output_type": "stream",
     "text": [
      "Replacing print_hello...\n",
      "About to say hello...\n",
      "Goodbye!!!\n"
     ]
    }
   ],
   "source": [
    "def first_decorator(func):\n",
    "  print('Replacing print_hello...')\n",
    "  def fooled_you_but_still_said_it():\n",
    "    func()\n",
    "  return fooled_you_but_still_said_it\n",
    "\n",
    "print_hello = @first_decorator(\n",
    "def print_hello():\n",
    "  print('Hello')\n",
    ")\n",
    "\n",
    "print('About to say hello...')\n",
    "print_hello()"
   ]
  },
  {
   "cell_type": "markdown",
   "id": "9e85e410",
   "metadata": {},
   "source": [
    "What's going on here? The Python interpreter saw the **decorator** called `property`(the @ sign is just how the decorator is invoked) and extended the behavior of the decorated function in some way. In this case, it created a property on the object that has the same name as the function that was decorated. There are lots of built-in Python decorators for various tasks. And we can write our own!\n",
    "\n",
    "Let's say we wanted to print a message before and after one of our Fruit methods was called. We could copy paste print statements into each method body, but that's repetitive and error-prone. What happens when we want to change the message, but forget to change it everywhere.\n",
    "\n",
    "Instead, we can use a decorator. Let's see how our decorator would look before we implement it."
   ]
  },
  {
   "cell_type": "code",
   "execution_count": null,
   "id": "83287c9a",
   "metadata": {},
   "outputs": [],
   "source": [
    "class Fruit3:\n",
    "    def __init__(self, name, price):\n",
    "        self.name = name\n",
    "        self.price = price\n",
    "    \n",
    "    @log\n",
    "    def discount(self, amount=.20):\n",
    "        self.price = round(self.price * (1 - amount), 2)\n",
    "    \n",
    "    @log\n",
    "    def double_default_discount(self):\n",
    "        self.discount()\n",
    "        self.discount()"
   ]
  },
  {
   "cell_type": "markdown",
   "id": "d9a41f85",
   "metadata": {},
   "source": [
    "Now we need to implement the `log` decorator. The syntax for defining a decorator is nothing special, recalling that a decorator is simply a function that is passed a function and returns a function. The function that is passed is the function that was decorated. The funcion we return is what will get called in its place."
   ]
  },
  {
   "cell_type": "code",
   "execution_count": null,
   "id": "26c7cf6a",
   "metadata": {},
   "outputs": [],
   "source": [
    "def log(func):  # It takes the original function\n",
    "    def func_with_log(*args, **kwargs):\n",
    "        # This is the function that will actually\n",
    "        # get called. We take in *args and **kwargs so\n",
    "        # we can pass them through to the original.\n",
    "        print(f'About to call {func.__name__}')\n",
    "        func(*args, **kwargs)\n",
    "        print(f'Done calling {func.__name__}')\n",
    "    return func_with_log  # Return a function"
   ]
  },
  {
   "cell_type": "code",
   "execution_count": null,
   "id": "da81954b",
   "metadata": {},
   "outputs": [],
   "source": [
    "f = Fruit3('banana', 0.89)\n",
    "f.discount()"
   ]
  }
 ],
 "metadata": {
  "kernelspec": {
   "display_name": "PythonClass-vcBxlNeB",
   "language": "python",
   "name": "python3"
  },
  "language_info": {
   "codemirror_mode": {
    "name": "ipython",
    "version": 3
   },
   "file_extension": ".py",
   "mimetype": "text/x-python",
   "name": "python",
   "nbconvert_exporter": "python",
   "pygments_lexer": "ipython3",
   "version": "3.11.6"
  }
 },
 "nbformat": 4,
 "nbformat_minor": 5
}
