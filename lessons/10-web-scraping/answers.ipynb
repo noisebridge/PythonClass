{
 "cells": [
  {
   "cell_type": "markdown",
   "metadata": {},
   "source": [
    "Here is an implmenetation of `scrape_movie`:"
   ]
  },
  {
   "cell_type": "code",
   "execution_count": null,
   "metadata": {},
   "outputs": [],
   "source": [
    "def scrape_movie(url):\n",
    "    scraped_data = {}\n",
    "\n",
    "    resp = requests.get(url)\n",
    "    resp.raise_for_status()\n",
    "\n",
    "    soup = BeautifulSoup(resp.text, 'lxml')\n",
    "\n",
    "    scraped_data['title'] = soup.find('h1', slot='titleIntro').find('span').text\n",
    "    scraped_data['rating'] = soup.find('rt-text', slot='ratingsCode').text\n",
    "    scraped_data['release_date'] = soup.find('rt-text', slot='releaseDate').text\n",
    "    scraped_data['runtime'] = soup.find('rt-text', slot='duration').text\n",
    "    scraped_data['critics_score'] = soup.find('rt-button', slot='criticsScore').find('rt-text').text\n",
    "    scraped_data['audience_score'] = soup.find('rt-button', slot='audienceScore').find('rt-text').text\n",
    "\n",
    "    return scraped_data"
   ]
  }
 ],
 "metadata": {
  "language_info": {
   "name": "python"
  }
 },
 "nbformat": 4,
 "nbformat_minor": 2
}
