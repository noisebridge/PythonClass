{
 "cells": [
  {
   "cell_type": "code",
   "execution_count": null,
   "metadata": {},
   "outputs": [],
   "source": [
    "# Give an example of an integer literal\n",
    "n = \n",
    "# Give an example of a string literal\n",
    "s = \n",
    "# Give an example of a boolean literal\n",
    "b =\n",
    "# Give an example of a None literal\n",
    "x =\n",
    "# Give an example of a list literal\n",
    "l =\n",
    "# Give an example of a dictionary literal\n",
    "d =\n",
    "# Give an example of a tuple literal\n",
    "t =\n",
    "\n",
    "# Give an example of a nested literal that uses at least one of each of\n",
    "# the literals above. You can use your existing variables if you like.\n",
    "compound = "
   ]
  },
  {
   "cell_type": "code",
   "execution_count": null,
   "metadata": {},
   "outputs": [],
   "source": [
    "# How do you find the length of a list?\n",
    "\n",
    "# How do you find the length of a string?\n",
    "\n",
    "# Given a list, how do you find the first element? The last element?\n",
    "\n",
    "# How do you find the value associated with the key 'foo' in a dictionary? What if it doesn't exist?\n",
    "\n",
    "# How do you iterate over a list with a for loop?\n",
    "\n",
    "# How do you iterate over a dictionary with a for loop?\n",
    "\n",
    "# How do you define a function that takes no arguments and always returns 42?"
   ]
  },
  {
   "cell_type": "code",
   "execution_count": null,
   "metadata": {},
   "outputs": [],
   "source": [
    "# Write a function that takes a string and returns the length of the string.\n",
    "\n",
    "# Given the following color_mappings dictionary, write a function that takes\n",
    "# a fruit name as a string and returns the color of the fruit.\n",
    "# What should the function do/return if the fruit is not in the dictionary?\n",
    "color_mappings = {\n",
    "  'apple': 'red',\n",
    "  'banana': 'yellow',\n",
    "  'pear': 'green',\n",
    "}\n",
    "\n",
    "# Update your function from above to take a default_color keword argument\n",
    "# that defaults to 'unknown'. If the fruit is not in the dictionary,\n",
    "# return the default_color.\n",
    "\n",
    "# Write a class for a Fruit, which has a name and a price. These values\n",
    "# should be set in the constructor. The class should have a method\n",
    "# `is_expensive` that returns True if the price is greater than 1.00.\n",
    "# Write a few lines of code that demonstrate using this class.\n",
    "\n",
    "# Update your color mapping function to take a fruit object instead of a string."
   ]
  }
 ],
 "metadata": {
  "language_info": {
   "name": "python"
  }
 },
 "nbformat": 4,
 "nbformat_minor": 2
}
