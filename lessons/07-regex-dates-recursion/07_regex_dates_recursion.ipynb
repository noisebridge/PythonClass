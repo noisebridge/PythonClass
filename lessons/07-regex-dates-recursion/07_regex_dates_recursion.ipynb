{
 "cells": [
  {
   "cell_type": "markdown",
   "metadata": {},
   "source": [
    "Welcome to lesson 7 of the Noisebridge Python class! ([Noisebridge Wiki](https://www.noisebridge.net/wiki/PyClass) | [Github](https://github.com/audiodude/PythonClass))\n",
    "\n",
    "In this lesson, we will talk about a few unrelated but useful topics for a programmer: Regular expressions (regex), date and time handling, and recursion.\n",
    "\n",
    "You will learn:\n",
    "\n",
    "1. What a regex is\n",
    "1. Regex operators: ? + |\n",
    "\n",
    "Let's get started!"
   ]
  },
  {
   "cell_type": "markdown",
   "metadata": {},
   "source": [
    "## Regular Expressions (regex)\n",
    "\n",
    "Somewhere on the internet or in academia there is a formal definition of regex. It has something to do with \"regular\" languages, which are defined by certain \"grammars\", which is a Computer Science-y way of talking about text generation, text processing and computation.\n",
    "\n",
    "We'll spare you the boring details.\n",
    "\n",
    "In practice, regex that are implemented by programming languages like Perl, Python and Javascript -- as well as command line tools like sed and grep -- are not always fully compliant with the academic definition. And they don't have to be, they're perfectly useful anyways.\n",
    "\n",
    "For our purposes a regular expression is a **pattern that allows for searching or matching a piece of text (a string)**.\n",
    "\n",
    "Let's look at one of the simplest possible regexes (that's the plural) and see what it matches. First, we will import `re`, the Python [regular expression library](https://docs.python.org/3/library/re.html)."
   ]
  },
  {
   "cell_type": "code",
   "execution_count": null,
   "metadata": {},
   "outputs": [],
   "source": [
    "import re\n",
    "\n",
    "simple_regex = 'a'\n",
    "\n",
    "assert re.match(simple_regex, 'a')\n",
    "assert re.match(simple_regex, 'abc')\n",
    "assert not re.match(simple_regex, 'b')\n",
    "# In these two, the a doesn't appear at the beginning of the line\n",
    "assert not re.match(simple_regex, 'cba')\n",
    "assert not re.match(simple_regex, 'christmas')"
   ]
  },
  {
   "cell_type": "markdown",
   "metadata": {},
   "source": [
    "In this example, the **pattern** is simply `a`. Any string that starts with that character, and that character only, is considered a **match**.\n",
    "\n",
    "This is useful, but not very interesting. We could do the same with the built-in string method `startswith()`."
   ]
  },
  {
   "cell_type": "code",
   "execution_count": null,
   "metadata": {},
   "outputs": [],
   "source": [
    "import re\n",
    "\n",
    "pattern = 'a'\n",
    "\n",
    "assert 'a'.startswith(pattern)\n",
    "assert 'abc'.startswith(pattern)\n",
    "assert not 'b'.startswith(pattern)\n",
    "assert not 'cba'.startswith(pattern)\n",
    "assert not 'christmas'.startswith(pattern)"
   ]
  },
  {
   "cell_type": "markdown",
   "metadata": {},
   "source": [
    "One important property of regular expressions is that if *R* is a regular expression and *S* is a regular expression, then concatenating them also gives a regular expression, *RS*. Remember that concatenation roughly means \"combining\" for strings and is done in Python with the `+` operator."
   ]
  },
  {
   "cell_type": "code",
   "execution_count": null,
   "metadata": {},
   "outputs": [],
   "source": [
    "happy = 'happy'\n",
    "birthday = 'birthday'\n",
    "greeting = happy + ' ' + birthday\n",
    "\n",
    "print(greeting)"
   ]
  },
  {
   "cell_type": "markdown",
   "metadata": {},
   "source": [
    "### Operators: ?\n",
    "\n",
    "Things get much more interesting however when we start using **operators**. A simple operator is `?` (question mark). It allows us to specify that a character (or in reality, an entire regular expression -- we'll get to that) either appears or doesn't appear. It has to occur 0 times or 1 time. This will be easier to demonstrate."
   ]
  },
  {
   "cell_type": "code",
   "execution_count": null,
   "metadata": {},
   "outputs": [],
   "source": [
    "import re\n",
    "\n",
    "exists = 'ab?'\n",
    "\n",
    "assert re.match(exists, 'a')\n",
    "assert re.match(exists, 'abc')\n",
    "assert re.match(exists, 'acd')\n",
    "assert re.match(exists, 'abbacus')\n",
    "assert not re.match(exists, 'b')\n",
    "assert not re.match(exists, 'cba')\n",
    "assert not re.match(exists, 'fourth of july')"
   ]
  },
  {
   "cell_type": "markdown",
   "metadata": {},
   "source": [
    "We can use the question mark as many times as we like, and we can also use parenthesis to **group** characters into what are known as **sub expressions**."
   ]
  },
  {
   "cell_type": "code",
   "execution_count": null,
   "metadata": {},
   "outputs": [],
   "source": [
    "import re\n",
    "\n",
    "exists_2 = '(black)?cat'\n",
    "\n",
    "assert re.match(exists_2, 'cat')\n",
    "assert re.match(exists_2, 'catch')  # Remember, we only have to match the beginning of the line.\n",
    "assert re.match(exists_2, 'blackcat')\n",
    "assert not re.match(exists_2, 'orangecat')\n",
    "assert not re.match(exists_2, 'orangecat and blackcat') # This is kind of annoying"
   ]
  },
  {
   "cell_type": "markdown",
   "metadata": {},
   "source": [
    "The question mark applies to the entire sub expression (which is, itself, a regular expression, remember) of `black`. The last line gives us pause though. It probably would be useful to be able to find `blackcat` or `cat` anywhere in the string. For this we can use a complementary method called `search()`."
   ]
  },
  {
   "cell_type": "code",
   "execution_count": null,
   "metadata": {},
   "outputs": [],
   "source": [
    "assert re.search(exists_2, 'orangecat and blackcat')\n",
    "assert re.search(exists_2, 'yellowmonkey and a random cat-like creature')"
   ]
  },
  {
   "cell_type": "markdown",
   "metadata": {},
   "source": [
    "Before we continue introducing new concepts, let's try something just a little crazy. Can you provide 3 different examples of strings that match each of the following regex?"
   ]
  },
  {
   "cell_type": "code",
   "execution_count": null,
   "metadata": {},
   "outputs": [],
   "source": [
    "import re\n",
    "\n",
    "not_crazy = 'hall?owe?en' # (possible teacher's note: allow for 2nd grade spelling mistakes)\n",
    "\n",
    "assert re.match(not_crazy, 'your')\n",
    "assert re.match(not_crazy, 'strings')\n",
    "assert re.match(not_crazy, 'go here')\n",
    "\n",
    "# Bonus: are there any other ways to write the 'not_crazy' regex?\n",
    "\n",
    "crazy = '(x(ab)?)(y(ab?)(z(a?b)))'\n",
    "\n",
    "assert re.match(crazy, 'your strings')\n",
    "assert re.match(crazy, 'go')\n",
    "assert re.match(crazy, 'here')"
   ]
  },
  {
   "cell_type": "markdown",
   "metadata": {},
   "source": [
    "## Operators: + and *\n",
    "\n",
    "Two more similar operators are `+` and `*`.\n",
    "\n",
    "The `+` operator matches 1 or more occurrences (so there has to be at least once, but there can be as many as you like)."
   ]
  },
  {
   "cell_type": "code",
   "execution_count": null,
   "metadata": {},
   "outputs": [],
   "source": [
    "import re\n",
    "\n",
    "plus = 'al+ my love'\n",
    "\n",
    "assert re.match(plus, 'all my love')\n",
    "assert re.match(plus, 'allllllll my love')\n",
    "assert re.match(plus, 'al my love')\n",
    "\n",
    "# Note that if we introduce a character before the character that\n",
    "# is operated on by the '+', that character is still required.\n",
    "# The two `l` characters in this example are not \"combined\" in any way.\n",
    "\n",
    "plus_2 = 'all+ my love'\n",
    "\n",
    "# This no longer matches\n",
    "assert not re.match(plus_2, 'al my love')\n",
    "\n",
    "# Here's a more obvious example\n",
    "\n",
    "plus_3 = 'axe+l my love'\n",
    "\n",
    "assert re.match(plus_3, 'axel my love')\n",
    "assert re.match(plus_3, 'axeeeeeel my love')\n",
    "assert not re.match(plus_3, 'axl my love')"
   ]
  },
  {
   "cell_type": "markdown",
   "metadata": {},
   "source": [
    "The `*` is kind of any \"any amount\" operator because it matches 0 or more occurrences (so it can be there any number of times, including none at all!)."
   ]
  },
  {
   "cell_type": "code",
   "execution_count": null,
   "metadata": {},
   "outputs": [],
   "source": [
    "import readline\n",
    "\n",
    "star = 'A*B*C* XXX A*B*C*'\n",
    "\n",
    "assert re.match(star, 'ABC XXX ABC')\n",
    "assert re.match(star, 'B XXX BBBBBBBBBC')\n",
    "assert re.match(star, 'AC XXX AAAABBBBCCCC')\n",
    "assert re.match(star, ' XXX ')\n",
    "\n",
    "# Important point: This is any number of A's, followed\n",
    "# by any number of B's followed by any number of C's.\n",
    "# It does NOT mean any number of any combination of ABC:\n",
    "\n",
    "assert not re.match(star, 'ABCABC XXX ABC')\n",
    "assert not re.match(star, 'ABACBCAB XXX ABC')"
   ]
  },
  {
   "cell_type": "markdown",
   "metadata": {},
   "source": [
    "Let's try writing some more regex matches. Can you write 5 strings that match this regex? Note that ax axx axxx axxxx axxxxx doesn't really count."
   ]
  },
  {
   "cell_type": "code",
   "execution_count": null,
   "metadata": {},
   "outputs": [],
   "source": [
    "import re\n",
    "\n",
    "exercise_2 = 'te+n spi(ri)*t'"
   ]
  },
  {
   "cell_type": "markdown",
   "metadata": {},
   "source": [
    "Now let's try writing our own patterns. Can you write the most succinct regex that matches against all of these strings?"
   ]
  },
  {
   "cell_type": "code",
   "execution_count": null,
   "metadata": {},
   "outputs": [],
   "source": [
    "import re\n",
    "\n",
    "first_regex = 'your regex goes here'\n",
    "\n",
    "assert re.match(first_regex, 'ac unit')\n",
    "assert re.match(first_regex, 'ace unlit')\n",
    "assert re.match(first_regex, 'race unlittttttttt')\n",
    "\n",
    "# But doesn't match\n",
    "\n",
    "assert not re.match(first_regex, 'race unllliiilllll')"
   ]
  },
  {
   "cell_type": "markdown",
   "metadata": {},
   "source": [
    "Oh no!\n",
    "\n",
    "Unfortunately **this lesson isn't finished**!\n",
    "\n",
    "Other things that were covered in the live lesson:\n",
    "\n",
    "* `|` operator\n",
    "* `.` for matching anything\n",
    "* Character groupings/ranges/classes: '[]'\n",
    "    * a-zA-Z0-9 \\w \\W \\s \\S \\d \\D\n",
    "* `MatchData` objects and capturing sub-expressions\n",
    "* Substitutions with regular expressions"
   ]
  }
 ],
 "metadata": {
  "kernelspec": {
   "display_name": "venv",
   "language": "python",
   "name": "python3"
  },
  "language_info": {
   "codemirror_mode": {
    "name": "ipython",
    "version": 3
   },
   "file_extension": ".py",
   "mimetype": "text/x-python",
   "name": "python",
   "nbconvert_exporter": "python",
   "pygments_lexer": "ipython3",
   "version": "3.12.0"
  }
 },
 "nbformat": 4,
 "nbformat_minor": 2
}
