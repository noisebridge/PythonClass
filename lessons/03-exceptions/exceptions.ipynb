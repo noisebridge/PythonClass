{
 "cells": [
  {
   "cell_type": "markdown",
   "metadata": {},
   "source": [
    "Welcome to week 3 of the Noisebridge Python Class ([Noisebridge Wiki](https://www.noisebridge.net/wiki/PyClass) | [Github](https://github.com/audiodude/PythonClass))\n",
    "\n",
    "This week, we will learn about **exceptions**. Let's face it, the world is messy, and sometimes things will go wrong. We are all familiar with the basic concept of a \"computer error\". In Python, we use exceptions to more precisely define, reason about, and handle errors.\n",
    "\n",
    "We will learn about:\n",
    "\n",
    "* Exception types, including built-in Exceptions\n",
    "* What happens when an exception occurs\n",
    "* Catching exceptions\n",
    "* Ignoring exceptions (!)\n",
    "* Defining our own exceptions\n",
    "\n",
    "That's what we'll learn, no exceptions, unless I've made an error....\n",
    "\n",
    "---"
   ]
  },
  {
   "cell_type": "markdown",
   "metadata": {},
   "source": [
    "Python has the concept of `Exceptions`, which interrupt program flow and represent a condition that a running program either didn't expect, or can't recover from (an error). Exceptions cover everything from incorrect program syntax, and performing operations on data types that don't support them (like, say, using slice notation on an integer), to attempting to read data from a list or dict at an index that doesn't exist or trying to read in a file that is missing.\n",
    "\n",
    "All exceptions in Python are **subclasses** of the `BaseException` class. `BaseException` has a further subclass tree starting with `Exception`. The former includes things like `SystemExit` which generally shouldn't be caught, while the latter contains things like `KeyError` which we sometimes want to catch."
   ]
  },
  {
   "cell_type": "markdown",
   "metadata": {},
   "source": [
    "What does it mean to \"catch\" an Exception anyways? Let's look at an example."
   ]
  },
  {
   "cell_type": "code",
   "execution_count": null,
   "metadata": {},
   "outputs": [],
   "source": [
    "number_strings = ('1', '2', 'x', '4')\n",
    "my_numbers = [int(n) for n in number_strings]\n",
    "print('Done converting numbers')"
   ]
  },
  {
   "cell_type": "markdown",
   "metadata": {},
   "source": [
    "This code raises an exception, because the string 'x' cannot be turned into an integer. When the exception is raised, all program execution stops immediately and the interpreter looks for exception handling code. If it doesn't find any, the exception is raised to the \"top level\" of the program, where it will subsequently halt the program completely (the program \"crashes\").\n",
    "\n",
    "It is very obvious in this example that the error would be thrown, but what if the 'x' was hidden somewhere in a dirty data file? Let's see how we can catch the exception."
   ]
  },
  {
   "cell_type": "code",
   "execution_count": null,
   "metadata": {},
   "outputs": [],
   "source": [
    "number_strings = ('1', '2', 'x', '4', 'foo')\n",
    "try:\n",
    "    my_numbers = [int(n) for n in number_strings]\n",
    "except ValueError as e:\n",
    "    print('Could not convert some values: %s' % e)\n",
    "\n",
    "print('Done converting numbers')\n",
    "    \n",
    "# What does the my_numbers list contain?  \n",
    "# print(my_numbers)"
   ]
  },
  {
   "cell_type": "markdown",
   "metadata": {},
   "source": [
    "Did you notice something about `my_numbers`? It never actually gets populated. Even though we \"caught\" the exception, Python stopped processing the list comprehension, and `my_numbers` never got assigned a value. A possible better way to write this code is without a list comprehension (gasp!)."
   ]
  },
  {
   "cell_type": "code",
   "execution_count": null,
   "metadata": {},
   "outputs": [],
   "source": [
    "number_strings = ('1', '2', 'x', '4', 'foo')\n",
    "my_numbers = []\n",
    "rejects = []\n",
    "for string in number_strings:\n",
    "    try:\n",
    "        my_numbers.append(int(string))\n",
    "    except ValueError:\n",
    "        rejects.append(string)\n",
    "        \n",
    "print(f'Converted {my_numbers}, but found {len(rejects)} rejects: {rejects}')"
   ]
  },
  {
   "cell_type": "markdown",
   "metadata": {},
   "source": [
    "Generally, you should only catch exceptions if you intend to do something meaningful when they occur, even if that just means logging them. It is possible to 'swallow' exceptions:"
   ]
  },
  {
   "cell_type": "code",
   "execution_count": null,
   "metadata": {},
   "outputs": [],
   "source": [
    "my_numbers = [42, 34, 100]\n",
    "try:\n",
    "    x = my_numbers[5]\n",
    "except IndexError:\n",
    "    pass"
   ]
  },
  {
   "cell_type": "markdown",
   "metadata": {},
   "source": [
    "Here we introduce `pass`, a special Python keyword which means \"do nothing\" or \"no-op\". It's not possible in Python, mostly due to whitespace processing, to have an \"empty\" block. So this doesn't work:"
   ]
  },
  {
   "cell_type": "code",
   "execution_count": null,
   "metadata": {},
   "outputs": [],
   "source": [
    "def my_func():"
   ]
  },
  {
   "cell_type": "markdown",
   "metadata": {},
   "source": [
    "You need to use `pass`:"
   ]
  },
  {
   "cell_type": "code",
   "execution_count": null,
   "metadata": {},
   "outputs": [],
   "source": [
    "def my_func():\n",
    "    pass"
   ]
  },
  {
   "cell_type": "markdown",
   "metadata": {},
   "source": [
    "This is most useful when defining classes or functions that you don't know what they will do yet, or you're not ready to write their implementations."
   ]
  },
  {
   "cell_type": "markdown",
   "metadata": {},
   "source": [
    "Back to exceptions. We can catch multiple exceptions in the same except block:"
   ]
  },
  {
   "cell_type": "code",
   "execution_count": null,
   "metadata": {},
   "outputs": [],
   "source": [
    "number_strings = ('1', '2', '4')\n",
    "try:\n",
    "    my_numbers = [int(n) for n in number_strings]\n",
    "    my_numbers[100]\n",
    "except (ValueError, IndexError) as e:\n",
    "    print('Could not convert some values: %s' % e)"
   ]
  },
  {
   "cell_type": "markdown",
   "metadata": {},
   "source": [
    "We can also have separate blocks for each exception or groups of exceptions:"
   ]
  },
  {
   "cell_type": "code",
   "execution_count": null,
   "metadata": {},
   "outputs": [],
   "source": [
    "number_strings = ('1', '2', '4')\n",
    "try:\n",
    "    my_numbers = [int(n) for n in number_strings]\n",
    "    my_numbers[100]\n",
    "except ValueError as e:\n",
    "    print('Could not convert some values: %s' % e)\n",
    "except IndexError:\n",
    "    print('One of the indexes was not valid')"
   ]
  },
  {
   "cell_type": "markdown",
   "metadata": {},
   "source": [
    "Note in the above: if we don't need to do anything with the exception message or stacktrace, we can omit the `as _` clause.\n",
    "\n",
    "We can also re-raise an exception if we've done as much as we can do to remedy the situation, but we want it to \"bubble up\" another level."
   ]
  },
  {
   "cell_type": "code",
   "execution_count": null,
   "metadata": {},
   "outputs": [],
   "source": [
    "def parse_string(s):\n",
    "    try:\n",
    "        return int(s)\n",
    "    except ValueError:\n",
    "        print('{} is not an int'.format(s))\n",
    "        raise\n",
    "        \n",
    "def parse_all_strings(strings):\n",
    "    for string in strings:\n",
    "        try:\n",
    "            parse_string(string)\n",
    "        except IndexError:\n",
    "            # This error never happens\n",
    "            print('Somehow an index error occurred')\n",
    "        # Since we don't catch the ValueError, it is passed\n",
    "        # all the way back up to main()\n",
    "        \n",
    "def main():\n",
    "    my_strings = ['42', '34', 'x', '100']\n",
    "    try:\n",
    "        numbers = parse_all_strings(my_strings)\n",
    "        print(f'Numbers are: {numbers}')\n",
    "    except ValueError as e:\n",
    "        # We can catch this exception here because it is\n",
    "        # raised from parse_all_strings()\n",
    "        print('Not all strings could be parsed: %s' % e)\n",
    "        \n",
    "        \n",
    "try:\n",
    "    main()\n",
    "# Careful with this, it will catch any errors in your program logic,\n",
    "# which will make it hard to debug while writing your program.\n",
    "except Exception as e:\n",
    "    # The exception wasn't re-raised from main() so this doesn't\n",
    "    # get called\n",
    "    print('Program had errors!')\n",
    "finally:\n",
    "    print('Program done')"
   ]
  },
  {
   "cell_type": "markdown",
   "metadata": {},
   "source": [
    "In the example above, the exception occurs in `parse_string`, which logs it and calls `raise` to re-raise it. It then passes straight through `parse_all_strings`, which doesn't define an exception handler for `ValueError` and is re-caught in `main()`. Notice that 'Numbers are: []' never gets printed, because the exception happens before that line.\n",
    "\n",
    "The other interesting new construct here is the `finally` clause. Any code here, after a `try` (with or without an `except`) will get executed no matter what, whether there are exceptions or not, or what kind of exceptions occur. This is most commonly used for \"clean up\" code, like if you opened a file (and didn't use a context manager, with...as) and want to make sure it gets closed even if there is an exception"
   ]
  },
  {
   "cell_type": "markdown",
   "metadata": {},
   "source": [
    "Finally (see what I did there?), we can define our own exceptions that inherit from `Exception`:"
   ]
  },
  {
   "cell_type": "code",
   "execution_count": null,
   "metadata": {},
   "outputs": [],
   "source": [
    "class PlaygroundException(Exception):\n",
    "    pass\n",
    "\n",
    "class NameNotGivenError(PlaygroundException):\n",
    "    pass\n",
    "\n",
    "class LocationMissingError(PlaygroundException):\n",
    "    pass"
   ]
  },
  {
   "cell_type": "code",
   "execution_count": null,
   "metadata": {},
   "outputs": [],
   "source": [
    "students = (\n",
    "    ('Alice', 'slide'),\n",
    "    ('Bob', 'sandbox'),\n",
    "    ('Claire', None),\n",
    "    (None, 'slide'),\n",
    ")\n",
    "\n",
    "def rollcall():\n",
    "    for student in students:\n",
    "        if student[0] is None:\n",
    "            raise NameNotGivenError('Missing name')\n",
    "        if student[1] is None:\n",
    "            raise LocationMissingError('No location')\n",
    "        print(f'{student[0]} is at the {student[1]}')\n",
    "\n",
    "try:\n",
    "    rollcall()\n",
    "except NameNotGivenError as e:\n",
    "    print('Error: %s' % e)\n",
    "except PlaygroundException as e:\n",
    "    print('Playground error: %s' % e)"
   ]
  },
  {
   "cell_type": "markdown",
   "metadata": {},
   "source": [
    "The resolution of exceptions follows the **class hierarchy** of the exceptions themselves. Here, we don't explicitly handle the `LocationMissingError`, but it is handled inside the block for `PlaygroundException` because it **is a** `PlaygroundException`. If there are multiple handlers in a try/except block that could handle an exception, they are tested in order."
   ]
  }
 ],
 "metadata": {
  "kernelspec": {
   "display_name": "venv",
   "language": "python",
   "name": "python3"
  },
  "language_info": {
   "codemirror_mode": {
    "name": "ipython",
    "version": 3
   },
   "file_extension": ".py",
   "mimetype": "text/x-python",
   "name": "python",
   "nbconvert_exporter": "python",
   "pygments_lexer": "ipython3",
   "version": "3.12.0"
  }
 },
 "nbformat": 4,
 "nbformat_minor": 2
}
