{
 "cells": [
  {
   "cell_type": "markdown",
   "id": "30d7afcf",
   "metadata": {},
   "source": [
    "Welcome to week 8 part 1 of the [Noisebridge Python Class](https://github.com/audiodude/PythonClass)!\n",
    "\n",
    "This class will be a little different. It covers the basics of web app development, using the excellent Flask package. However, Flask can't run inside a Jupyter notebook. Therefore, the different sets of code for this class are inside of the different folders in this directory. The code must be run using a local Python installation and the command line, which we will cover briefly.\n",
    "\n",
    "[Here](https://python.land/installing-python) are some instructions for installing Python on Windows, macOS, or Linux.\n",
    "\n",
    "In this lesson, you will learn:\n",
    "\n",
    "* Setting up a Python development environment with virtualenv\n",
    "* A basic \"hello world\" Flask app and how to run it\n",
    "* Context on old school (CGI) web apps\n",
    "* Using HTML templates with your Flask app, including template inheritance\n",
    "\n",
    "In part 2, we will cover:\n",
    "\n",
    "* *Setting up an SQL schema for use with the app (repeat of SQL lesson)*\n",
    "* *Receiving input from the URL and URL matching*\n",
    "* *Receiving user input from a `<form>` and creating a new row in a database*\n",
    "* *Using templating to display a list of the data added to the app*\n",
    "\n",
    "Let's get started!"
   ]
  },
  {
   "cell_type": "markdown",
   "id": "4b0499dc",
   "metadata": {},
   "source": [
    "First, we must set up a [virtualenv](https://docs.python.org/3/library/venv.html) for our code. A virtualenv allows us to install certain Python libraries/packages in an isolated environment. Suppose you're working on multiple Python projects on your computer. You don't want the libraries from one app to be included in a different app, especially if they have different required versions."
   ]
  },
  {
   "cell_type": "markdown",
   "id": "ecef4941",
   "metadata": {},
   "source": [
    "We can create a virtualenv very simply in Python 3. First we create a directory for our app (this has already been done in this repo):\n",
    "\n",
    "```\n",
    "mkdir intro-flask\n",
    "```\n",
    "\n",
    "Then we switch into that directory and create a virtualenv (this is required, because the virtualenv is never checked into source control directly):\n",
    "\n",
    "```\n",
    "cd intro-flask\n",
    "python -m venv venv\n",
    "```\n",
    "\n",
    "In case you're wondering, the `-m venv` argument tells python to run the `venv` module, and the first and only argument to that module is also the string `venv`.\n",
    "\n",
    "Then we can activate our virtualenv:\n",
    "\n",
    "```\n",
    "source venv/bin/activate\n",
    "```\n",
    "\n",
    "We must repeat this command in every new shell/command/terminal window once we are inside the `intro-flask` directory, to make sure we are using our virtualenv. You might notice that your shell prompt now starts with `(venv)` to tell you that you're using the virtualenv. If you need to stop using it for any reason (maybe to start using a different one) you can use simply use the command:\n",
    "\n",
    "```\n",
    "deactivate\n",
    "```"
   ]
  },
  {
   "cell_type": "markdown",
   "id": "acd7cc88",
   "metadata": {},
   "source": [
    "Once we've created and activated our virtualenv, we can install the `flask` package using `pip`, the Python package manager. The `pip` command will automatically install any additional packages that are needed for the package you requested:\n",
    "\n",
    "```bash\n",
    "pip install flask\n",
    "```\n",
    "\n",
    "You should see a bunch of text fly by as Python downloads and installs the necessary package(s).\n",
    "\n",
    "Finally, it is common to save a snapshot of the packages you are using, so that others who wish to use your code, or perhaps yourself in the future, can easily re-install the exact versions that were known to be working with your code. To do this, we use `pip freeze`. First, run `pip freeze` on its own, to see the output:\n",
    "\n",
    "```\n",
    "$ pip freeze\n",
    "blinker==1.6.2\n",
    "click==8.1.6\n",
    "Flask==2.3.2\n",
    "importlib-metadata==6.8.0\n",
    "itsdangerous==2.1.2\n",
    "Jinja2==3.1.2\n",
    "MarkupSafe==2.1.3\n",
    "Werkzeug==2.3.6\n",
    "zipp==3.16.2\n",
    "```\n",
    "\n",
    "Then you can redirect the output of the command to a file (a common command line/bash operation). We will call this file `requirements.txt` as is common in the Python world.\n",
    "\n",
    "```\n",
    "pip freeze > requirements.txt\n",
    "cat requirements.txt\n",
    "```\n",
    "\n",
    "When we run `cat` on requirements.txt, we see it's content, which should be the same as when we ran `pip freeze`.\n",
    "\n",
    "When you need to install your requirements again, use the `-r` flag to pip install:\n",
    "\n",
    "```\n",
    "pip install -r requirements.txt\n",
    "```"
   ]
  },
  {
   "cell_type": "markdown",
   "id": "0207b0d0",
   "metadata": {},
   "source": [
    "---"
   ]
  },
  {
   "cell_type": "markdown",
   "id": "c95d0997",
   "metadata": {},
   "source": [
    "It is finally time to write our first \"hello world\" web app. In Flask, this is as simple as the following code, which you can find in `intro-flask/01-hello-world/main.py`. *Note that this code will do nothing in the Jupyter notebook.*"
   ]
  },
  {
   "cell_type": "code",
   "execution_count": 1,
   "id": "c719ba47",
   "metadata": {},
   "outputs": [],
   "source": [
    "import flask\n",
    "\n",
    "app = flask.Flask(__name__)\n",
    "\n",
    "@app.route('/')\n",
    "def index():\n",
    "    return 'Hello World!'"
   ]
  },
  {
   "cell_type": "markdown",
   "id": "4db7e0e0",
   "metadata": {},
   "source": [
    "If you recall from the lesson on web scraping, web sites run from applications known as **servers**. The server is always running, and waits for a **request** from a client, usually a web browser. When the server receives a request, it responds with whatever it's been programmed or configured to send back to the client. In this example, the server will always send back the plain text `Hello World!`.\n",
    "\n",
    "The code above imports the flask library, then creates a new Flask app using `__name__` as its name, where `__name__` is a special Python variable which represents the name of the currently running module.\n",
    "\n",
    "Next, the code uses the **decorator** `@app.route('/')` to modify the function right below it (`def index():`). This decorator tells Flask that the `index` function should be called when a request is made for the server path `/`, which is the root of the server and the path clients request when they visit the website without any path specified. So, for example, when you request `https://en.wikipedia.org` in your web browser, you are actually requesting the path `/` on the server `en.wikipedia.org`."
   ]
  },
  {
   "cell_type": "markdown",
   "id": "396fb98c",
   "metadata": {},
   "source": [
    "Let's start our server. First change into the directory containing the above code:\n",
    "\n",
    "```\n",
    "cd intro-flask/01-hello-world\n",
    "```\n",
    "\n",
    "Then, we use the `flask` command to start an HTTP server with our hello world Flask app:\n",
    "\n",
    "```\n",
    "FLASK_APP=main flask run\n",
    "```\n",
    "\n",
    "The portion `FLASK_APP=main` sets an [environment variable](https://www.digitalocean.com/community/tutorials/how-to-read-and-set-environmental-and-shell-variables-on-linux) which is a variable that is availble to all code running in the current shell. Since we specified it immediately before our command, it is only set and active for that one command.\n",
    "\n",
    "The portion `flask run` starts the `flask` command with the argument `run`. The `flask` command is available in your environment via pip and the virtualenv you installed. If you get an error like `flask: command not found`, it is likely that your virtualenv is not set up correctly or you haven't installed flask. "
   ]
  },
  {
   "cell_type": "markdown",
   "id": "a2fa675e",
   "metadata": {},
   "source": [
    "If your `flask` command runs successfully, you should see the following:\n",
    "\n",
    "```\n",
    "$ FLASK_APP=main flask run\n",
    " * Serving Flask app 'main'\n",
    " * Debug mode: off\n",
    "WARNING: This is a development server. Do not use it in a production deployment. Use a production WSGI server instead.\n",
    " * Running on http://127.0.0.1:5000\n",
    "Press CTRL+C to quit\n",
    "```\n",
    "\n",
    "Now let's open a web browser and check out our new web app! Open a new browser window and use either the URL that the Flask printed out (`http://127.0.0.1:5000`) or the equivalent shortcut `http://localhost:5000`. Web app developers generally use `localhost` because it is shorter and easier to type, but it is equivalent to `127.0.0.1`.\n",
    "\n",
    "You should see:\n",
    "\n",
    "![Screenshot of web app display 'Hello World!' in a browser window](https://pxscdn.com/public/m/_v2/588554065884192073/c51ea9690-856390/F9rl3ISqzW8l/BgUbbihwvrj2QakNzCUjOF75ODDFv54iJRaPWayl.png)"
   ]
  },
  {
   "cell_type": "markdown",
   "id": "6b958e09",
   "metadata": {},
   "source": [
    "The text in the browser is the text that we setup in our `index` function.\n",
    "\n",
    "You may also have noticed some print out in your terminal:\n",
    "\n",
    "```\n",
    "127.0.0.1 - - [06/Aug/2023 09:42:03] \"GET / HTTP/1.1\" 200\n",
    "```\n",
    "\n",
    "This a **log** of the request that was made by your browser, and indicates that a successful response of 200 was sent back (recall from a previous lesson that 200 represents success in HTTP)."
   ]
  },
  {
   "cell_type": "markdown",
   "id": "dff36622",
   "metadata": {},
   "source": [
    "---"
   ]
  },
  {
   "cell_type": "markdown",
   "id": "bab942f0",
   "metadata": {},
   "source": [
    "The concept of a \"web app\" is not new. Since the mid-90s, programmers have used things such as [CGI](https://en.wikipedia.org/wiki/Common_Gateway_Interface) scripts written in the [Perl](https://en.wikipedia.org/wiki/Perl) language to create dynamic websites. Many oif these applications responded to user input and stored data. CGI (Common Gateway Interface) is a standard specifying how the web server ([Apache](https://en.wikipedia.org/wiki/Apache_HTTP_Server), [nginx](https://en.wikipedia.org/wiki/Nginx)) can pass necessary variables to the script, while reading the output of the script and sending the data back to the client.\n",
    "\n",
    "It may be important to recognize how much simpler the Python/Flask approach to this problem is. Python uses a standard called [WSGI](https://www.toptal.com/python/pythons-wsgi-server-application-interface) (Web Server Gateway Interface) that allows it to separate the concerns of serving web pages from serving dynamic script content. Notice that we don't have to do things like parse the incoming file path directly and route our request accordingly, we just include the `@app.route` decorator. Additionally, common HTTP headers and status codes are handled automatically and we can focus on the parts of our application that really matter, such as rendering the output content."
   ]
  },
  {
   "cell_type": "markdown",
   "id": "5a63c72a",
   "metadata": {},
   "source": [
    "---"
   ]
  },
  {
   "cell_type": "markdown",
   "id": "51464883",
   "metadata": {},
   "source": [
    "Recall that the \"source code\" of the web is HTML. HTML is represented as **documents** which are served to the browser. In some cases, you can have a **static** HTML document, that exists as a file on the server. So when you go to `https://www.nasa.gov/kidsclub/index.html`, the server looks for a file called `index.html` in the `kidsclub` directory and serves it directly to the browser.\n",
    "\n",
    "However, for web apps, we create HTML documents **dynamically**. The document doesn't exist as a file. In fact, it doesn't exist at all until the browser request is handled by the server. Then, the server constructs the document and returns it to the browser. This is how, for example, all Wordpress sites operate (except that the programming language used is [PHP](https://www.php.net/) not Python).\n",
    "\n",
    "For our \"hello world\" example, we didn't return an HTML document. We returned plain text, which the browser interpreted and displayed appropriately. The basic skeleton of an HTML document is the following:\n",
    "\n",
    "```\n",
    "<!DOCTYPE html>\n",
    "<html>\n",
    "<head>\n",
    "  <title>Hello world website</title>\n",
    "</head>\n",
    "<body>\n",
    "  Hello World!\n",
    "</body>\n",
    "</html>\n",
    "```\n",
    "\n",
    "The `<!DOCTYPE` declaration informs the browser which version of HTML we are using. In modern times, we always use `<!DOCTYPE html>` to indicate the latest version of HTML.\n",
    "\n",
    "The `<body>` tag is where we put the content that will be displayed in the browser.\n",
    "\n",
    "What if we didn't want to always say hello, but also wanted to print the current time?"
   ]
  },
  {
   "cell_type": "code",
   "execution_count": 2,
   "id": "4635c175",
   "metadata": {},
   "outputs": [],
   "source": [
    "import datetime\n",
    "\n",
    "import flask\n",
    "\n",
    "app = flask.Flask(__name__)\n",
    "\n",
    "@app.route('/')\n",
    "def index():\n",
    "    return 'Hello World! ' + str(datetime.datetime.now())"
   ]
  },
  {
   "cell_type": "markdown",
   "id": "b648206a",
   "metadata": {},
   "source": [
    "![Screenshot of hello world application with time displayed](https://pxscdn.com/public/m/_v2/588554065884192073/c51ea9690-856390/sXxD1TtoRkVL/C1owtRyIAo6snhgptYaJh8zPzHmfzCRKnyPebJPk.png)"
   ]
  },
  {
   "cell_type": "markdown",
   "id": "878e921c",
   "metadata": {},
   "source": [
    "Now our hello world web app is truly dynamic, it changes every time the page is refreshed!\n",
    "\n",
    "Imagine though, that we want to serve an HTML version of this data. We could use string formatting to achieve the result."
   ]
  },
  {
   "cell_type": "code",
   "execution_count": 3,
   "id": "db4ab331",
   "metadata": {},
   "outputs": [],
   "source": [
    "import datetime\n",
    "\n",
    "import flask\n",
    "\n",
    "app = flask.Flask(__name__)\n",
    "\n",
    "@app.route('/')\n",
    "def index():\n",
    "  return ('''<!DOCTYPE html>\n",
    "    <html>\n",
    "    <head>\n",
    "      <title>Hello World website</title>\n",
    "    </head>\n",
    "    <body>\n",
    "      Hello World! %s\n",
    "    </body>\n",
    "    </html>''' % str(datetime.datetime.now()))"
   ]
  },
  {
   "cell_type": "markdown",
   "id": "e889f10c",
   "metadata": {},
   "source": [
    "*(See this example in 02-hello-datetime)*"
   ]
  },
  {
   "cell_type": "markdown",
   "id": "f6dedc1f",
   "metadata": {},
   "source": [
    "But what if we also wanted to specify a \"Goodbye\" page? The most obvious way is the following (where we use a `@app.route('/goodbye')` decorator to indicate that the Goodbye should be shown when the url `/goodbye` is requested):"
   ]
  },
  {
   "cell_type": "code",
   "execution_count": null,
   "id": "712eb350",
   "metadata": {},
   "outputs": [],
   "source": [
    "import flask\n",
    "\n",
    "app = flask.Flask(__name__)\n",
    "\n",
    "@app.route('/')\n",
    "def index():\n",
    "  return ('''<!DOCTYPE html>\n",
    "    <html>\n",
    "    <head>\n",
    "      <title>Hello World website</title>\n",
    "    </head>\n",
    "    <body>\n",
    "      Hello World! %s\n",
    "    </body>\n",
    "    </html>''' % str(datetime.datetime.now()))\n",
    "\n",
    "@app.route('/goodbye')\n",
    "def goodbye():\n",
    "  return ('''<!DOCTYPE html>\n",
    "    <html>\n",
    "    <head>\n",
    "      <title>Hello World website</title>\n",
    "    </head>\n",
    "    <body>\n",
    "      Goodbye! %s\n",
    "    </body>\n",
    "    </html>''' % str(datetime.datetime.now()))"
   ]
  },
  {
   "cell_type": "markdown",
   "id": "62974a87",
   "metadata": {},
   "source": [
    "![Screenshot of web app showing Goodbye and the time](https://pxscdn.com/public/m/_v2/588554065884192073/c51ea9690-856390/Nk5YduPx9ZBX/O10nIHwVaTa3UkGsneBEvg1DlTKLx04n6Do14cY8.png)"
   ]
  },
  {
   "cell_type": "markdown",
   "id": "06283795",
   "metadata": {},
   "source": [
    "We see now that we have a lot of duplicate code! Maybe we can refactor it a bit:"
   ]
  },
  {
   "cell_type": "code",
   "execution_count": 4,
   "id": "44c5b273",
   "metadata": {},
   "outputs": [],
   "source": [
    "import datetime\n",
    "\n",
    "import flask\n",
    "\n",
    "app = flask.Flask(__name__)\n",
    "\n",
    "def get_document(greeting, time_value):\n",
    "  return f'''<!DOCTYPE html>\n",
    "    <html>\n",
    "    <head>\n",
    "      <title>Hello World website</title>\n",
    "    </head>\n",
    "    <body>\n",
    "      {greeting} {time_value}\n",
    "    </body>\n",
    "    </html>'''\n",
    "\n",
    "@app.route('/')\n",
    "def index():\n",
    "  return get_document('Hello World!', datetime.datetime.now())\n",
    "\n",
    "@app.route('/goodbye')\n",
    "def goodbye():\n",
    "  return get_document('Goodbye!', datetime.datetime.now())"
   ]
  },
  {
   "cell_type": "markdown",
   "id": "bb32474f",
   "metadata": {},
   "source": [
    "*(See example in 03-inferior-templating)*"
   ]
  },
  {
   "cell_type": "markdown",
   "id": "f40890cf",
   "metadata": {},
   "source": [
    "One thing to note about this approach is that `get_document` is just a normal Python function. We can define those alongside our web app or in separate modules that we import."
   ]
  },
  {
   "cell_type": "markdown",
   "id": "ca7d0ad0",
   "metadata": {},
   "source": [
    "Using a helper function like this is the idea behind **templates** or **templating**. Most of the HTML document stays the same, but we have a few sections that we'd like to specify as variables. Luckily, Flask supports a powerful templating system, using [Jinja2](https://jinja.palletsprojects.com/en/3.1.x/). We can use Flask's templating system to keep our HTML templates in their own files, separate from our code, which makes them easier to edit and keeps our app logic cleaner.\n",
    "\n",
    "First, we create a directory alongside our main module called `templates`:\n",
    "\n",
    "```\n",
    "mkdir templates\n",
    "```\n",
    "\n",
    "Then we create a file inside the templates directory, named `greeting.html`:\n",
    "\n",
    "```\n",
    "<!DOCTYPE html>\n",
    "<html>\n",
    "  <head>\n",
    "    <title>Hello World website</title>\n",
    "  </head>\n",
    "  <body>\n",
    "    {{ greeting }} {{ time_value }}\n",
    "  </body>\n",
    "</html>\n",
    "```\n",
    "\n",
    "The name of the template doesn't matter, we will refer to it directly in code.\n",
    "\n",
    "Finally we update our application logic:"
   ]
  },
  {
   "cell_type": "code",
   "execution_count": 5,
   "id": "fab2a3fa",
   "metadata": {},
   "outputs": [],
   "source": [
    "import datetime\n",
    "\n",
    "import flask\n",
    "\n",
    "app = flask.Flask(__name__)\n",
    "\n",
    "@app.route('/')\n",
    "def index():\n",
    "  return flask.render_template(\n",
    "    'greeting.html',\n",
    "    greeting='Hello World!',\n",
    "    time_value=datetime.datetime.now())\n",
    "\n",
    "@app.route('/goodbye')\n",
    "def goodbye():\n",
    "  return flask.render_template(\n",
    "    'greeting.html',\n",
    "    greeting='Goodbye!',\n",
    "    time_value=datetime.datetime.now())"
   ]
  },
  {
   "cell_type": "markdown",
   "id": "950b3ce4",
   "metadata": {},
   "source": [
    "This is great, now our app logic is very simple and clean, and all of the HTML boilerplate that is repeated between the two documents is isolated in the template."
   ]
  },
  {
   "cell_type": "markdown",
   "id": "7e8c7d81",
   "metadata": {},
   "source": [
    "---"
   ]
  },
  {
   "cell_type": "markdown",
   "id": "4cbfc3ea",
   "metadata": {},
   "source": [
    "These concepts will be discussed further and expanded on in Part 2 of this lesson, where we will build a fully functioning web app."
   ]
  }
 ],
 "metadata": {
  "kernelspec": {
   "display_name": "Python 3 (ipykernel)",
   "language": "python",
   "name": "python3"
  },
  "language_info": {
   "codemirror_mode": {
    "name": "ipython",
    "version": 3
   },
   "file_extension": ".py",
   "mimetype": "text/x-python",
   "name": "python",
   "nbconvert_exporter": "python",
   "pygments_lexer": "ipython3",
   "version": "3.9.7"
  }
 },
 "nbformat": 4,
 "nbformat_minor": 5
}
