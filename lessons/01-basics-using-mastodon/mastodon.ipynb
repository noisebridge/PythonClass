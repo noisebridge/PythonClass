{
 "cells": [
  {
   "cell_type": "markdown",
   "id": "966fad0c",
   "metadata": {},
   "source": [
    "Welcome to lesson 1 of the Noisebridge Python class (https://github.com/audiodude/PythonClass)!\n",
    "\n",
    "In this lesson, we'll look at a script which posts \"toots\" to the [Mastodon](https://en.wikipedia.org/wiki/Mastodon_(social_network)) social network. By inspecting how this script operates, we will learn about the following:\n",
    "\n",
    "* Variables\n",
    "* Dictionaries\n",
    "* Basic string formatting\n",
    "* Function definitions and usage\n",
    "* Lists\n",
    "* Import statements (using internal and external libraries)\n",
    "* Reading data from a file\n",
    "\n",
    "As part of the lesson, we will experiment with modifying the script to change its behavior, and discussing those modifications.\n",
    "\n",
    "Here is the script. If you'd like, you can modify the values of `MASTODON_HOST` and `MASTODON_TOKEN` to match your server. When you run it (which you can do from within sfpythonlab.com), it will post a toot with the contents of \"Toot posted via the API, please ignore\"."
   ]
  },
  {
   "cell_type": "code",
   "execution_count": null,
   "id": "12f4c515",
   "metadata": {},
   "outputs": [],
   "source": [
    "from pprint import pprint\n",
    "\n",
    "import requests\n",
    "\n",
    "MASTODON_HOST = 'https://mastodon.social'\n",
    "MASTODON_TOKEN = 'dv2DCBcBpxcl1ceenbv6-KhL3a3ICOrjiHY_XmUgPJ0'\n",
    "\n",
    "template = '{thing} posted via the api, please {action}'\n",
    "\n",
    "data = {'status': 'Toot posted via the API, please really ignore'}\n",
    "\n",
    "url = f'{MASTODON_HOST}/api/v1/statuses'\n",
    "r = requests.post(url, \n",
    "                  data=data, \n",
    "                  headers={'Authorization': f'Bearer {MASTODON_TOKEN}'})\n",
    "response_data = r.json()\n",
    "\n",
    "pprint(response_data)"
   ]
  },
  {
   "cell_type": "markdown",
   "id": "be1981aa",
   "metadata": {},
   "source": [
    "The key piece of this code that is doing most of the work is line 11, where we call the `post` function of the requests library (which was imported on line 2!). This performs an HTTP POST request against the URL specified in line 10. Line 14 retrieves the data that the API responded with, and line 16 \"pretty prints\" that data."
   ]
  },
  {
   "cell_type": "markdown",
   "id": "7d431599",
   "metadata": {},
   "source": [
    "# Dictionaries\n",
    "Line 8 defines the toot that we're going to post. It is a Python dictionary, which is an important **data structure**."
   ]
  },
  {
   "cell_type": "code",
   "execution_count": null,
   "id": "84386b13",
   "metadata": {},
   "outputs": [],
   "source": [
    "data = {'status': 'Toot posted via the API, please ignore'}"
   ]
  },
  {
   "cell_type": "markdown",
   "id": "f867a235",
   "metadata": {},
   "source": [
    "Dictionaries are an example of a **key value store**. This dictionary has one key value pair, where the key is `'status'` and the value is a string which contains the toot we wish to post.\n",
    "\n",
    "Here's another example of a dictionary:"
   ]
  },
  {
   "cell_type": "code",
   "execution_count": null,
   "id": "aa5f007d",
   "metadata": {},
   "outputs": [],
   "source": [
    "fruit_prices = {\n",
    "    'apple': 1.79,\n",
    "    'banana': 0.89,\n",
    "    'bag of grapes': 2.89\n",
    "}"
   ]
  },
  {
   "cell_type": "markdown",
   "id": "c1946fac",
   "metadata": {},
   "source": [
    "The entire dictionary is defined using curly braces `{}` and the key value pairs inside are separated by commas. Once we've defined the dictionary (make sure you 'Run' the cell above), we can access any of its values using the corresponding key."
   ]
  },
  {
   "cell_type": "code",
   "execution_count": null,
   "id": "11d00498",
   "metadata": {},
   "outputs": [],
   "source": [
    "fruit_prices['apple']"
   ]
  },
  {
   "cell_type": "code",
   "execution_count": null,
   "id": "3453ab98",
   "metadata": {},
   "outputs": [],
   "source": [
    "# This is wrong, it's looking for a variable named apple.\n",
    "fruit_prices[apple]  "
   ]
  },
  {
   "cell_type": "code",
   "execution_count": null,
   "id": "9c6e46a7",
   "metadata": {},
   "outputs": [],
   "source": [
    "a = 'apple'\n",
    "print(fruit_prices[a])\n",
    "\n",
    "# What does this print out?\n",
    "apple = 'banana'\n",
    "print(fruit_prices[apple])"
   ]
  },
  {
   "cell_type": "code",
   "execution_count": null,
   "id": "14b7c03b",
   "metadata": {},
   "outputs": [],
   "source": [
    "print('The price of a banana is', fruit_prices['banana'])"
   ]
  },
  {
   "cell_type": "markdown",
   "id": "8b1cfeaa",
   "metadata": {},
   "source": [
    "We can also access the contents of a dictionary using **variables**. The Mastodon post script uses several variables like `data`, `url` and `r`. When you see a variable used in a Python expression, you can think of the variable as being \"replaced\" by its value. We use the equal sign `=` to assign a value to a variable. In Python, variables are \"declared\" when they are first assigned to. We don't need to do `int x;` to declare an integer variable like in some languages like Java."
   ]
  },
  {
   "cell_type": "code",
   "execution_count": null,
   "id": "ea927963",
   "metadata": {},
   "outputs": [],
   "source": [
    "fruit = 'apple'\n",
    "print(f'The price of {fruit} is {fruit_prices[fruit]}')"
   ]
  },
  {
   "cell_type": "markdown",
   "id": "1a27d88d",
   "metadata": {},
   "source": [
    "You can also assign a new value to a given key in a dictionary:"
   ]
  },
  {
   "cell_type": "code",
   "execution_count": null,
   "id": "e95b0436",
   "metadata": {},
   "outputs": [],
   "source": [
    "# Apples are on sale!\n",
    "fruit_prices['apple'] = 0.99\n",
    "print(fruit_prices)\n",
    "\n",
    "b = 'banana'\n",
    "fruit_prices[b] = 0.49\n",
    "print(fruit_prices)"
   ]
  },
  {
   "cell_type": "markdown",
   "id": "72f00266",
   "metadata": {},
   "source": [
    "If you assign to a key that isn't yet present in the dictionary, it will be added."
   ]
  },
  {
   "cell_type": "code",
   "execution_count": null,
   "id": "d2e308b7",
   "metadata": {},
   "outputs": [],
   "source": [
    "fruit_prices['kiwi'] = 2.29\n",
    "print(fruit_prices)"
   ]
  },
  {
   "cell_type": "code",
   "execution_count": null,
   "id": "67564130",
   "metadata": {},
   "outputs": [],
   "source": [
    "print(fruit_prices)\n",
    "del fruit_prices['bag of grapes']\n",
    "print(fruit_prices)"
   ]
  },
  {
   "cell_type": "markdown",
   "id": "915c67e4",
   "metadata": {},
   "source": [
    "\n",
    "However, accessing a non-existing key is an error."
   ]
  },
  {
   "cell_type": "code",
   "execution_count": null,
   "id": "cd5fb82c",
   "metadata": {},
   "outputs": [],
   "source": [
    "# This is an error\n",
    "guava_price = fruit_prices['guava']\n",
    "print(guava_price)\n"
   ]
  },
  {
   "cell_type": "markdown",
   "id": "64d64373",
   "metadata": {},
   "source": [
    "If we'd like to retrieve the value of a key that we're not sure exists, we can use the `.get()` method. This also allows us to declare a default value to use if the key is not in the dictionary."
   ]
  },
  {
   "cell_type": "code",
   "execution_count": null,
   "id": "8237c536",
   "metadata": {},
   "outputs": [],
   "source": [
    "# If the 'guava' key is in the dictionary, get it's value.\n",
    "# Otherwise, use 2.99 as the default.\n",
    "guava_price = fruit_prices.get('guava', 2.99)\n",
    "print(f'The price of a guava is {guava_price}')"
   ]
  },
  {
   "cell_type": "markdown",
   "id": "7408b83e",
   "metadata": {},
   "source": [
    "We can also declare an empty dictionary, with no keys or values. This is useful if we are going to start collecting or processing data."
   ]
  },
  {
   "cell_type": "code",
   "execution_count": null,
   "id": "cad3f98d",
   "metadata": {},
   "outputs": [],
   "source": [
    "empty_dictionary = {}"
   ]
  },
  {
   "cell_type": "markdown",
   "id": "fe147da2",
   "metadata": {},
   "source": [
    "# Formatting with f-strings\n",
    "\n",
    "The guava example above uses **string formatting**. This is a method that lets us replace part of a string with a variable or expression. There are at [least three separate ways](https://docs.python.org/3/tutorial/inputoutput.html#fancier-output-formatting) to do string formatting in Python, but the most commonly used in modern code is **f-strings**. An f-string is a normal string (`'This is a string'` and `\"This is also a string\"`) with a single `f` character before the opening quote. Inside of an f-string, anything in curly braces will be evaluated as Python code (most commonly, a single value) and converted to a string, which gets \"replaced\" in the string exactly where the braces were."
   ]
  },
  {
   "cell_type": "code",
   "execution_count": null,
   "id": "e6bf6e8b",
   "metadata": {},
   "outputs": [],
   "source": [
    "print(f\"Apple price: {fruit_prices['apple']}\")"
   ]
  },
  {
   "cell_type": "markdown",
   "id": "b9098025",
   "metadata": {},
   "source": [
    "*(Note that we have to use single quotes `'apple'` inside the braces. If we used double quotes, which we're using for the f-string itself, it would be syntax error.)*"
   ]
  },
  {
   "cell_type": "markdown",
   "id": "1c0f2b9b",
   "metadata": {},
   "source": [
    "Here's some examples of old and new style string formatting. This should become second nature, and will be used extensively throughout these lessons."
   ]
  },
  {
   "cell_type": "code",
   "execution_count": null,
   "id": "57b7e3d8",
   "metadata": {},
   "outputs": [],
   "source": [
    "x = 100\n",
    "y = 20\n",
    "print(f'{x} + {y} == {x + y}')\n",
    "print('%s + %s == %s' % (x, y, x + y))\n",
    "print('{} + {} == {}'.format(x, y, x + y))\n",
    "\n",
    "print(f'x is {x}, which is why I like {x} so much, because it\\'s {x}')\n",
    "print('the number is {num}, which is why I like {num} so much, because it\\'s {num}'.format(num=y))\n",
    "print('the number is %(num)s, which is why I like %(num)s so much, because it\\'s %(num)s' % {'num': y})"
   ]
  },
  {
   "cell_type": "markdown",
   "id": "2064d5e4",
   "metadata": {},
   "source": [
    "## Exercise: a fictious person\n",
    "\n",
    "Let's try writing our own code! It might sound a bit scary, but you have to start somewhere, and it will get easier the more you do it.\n",
    "\n",
    "Create a variable called `person` and **assign** a dictionary to it. The dictionary can have as many keys and values as you want, but at the very least should contain keys for the following: `'name'`, `'age'`, `'country'`. Finally use an **f-string** to print out a sentence like: `Alice is 15 and lives in Argentina`, except using the values from your dictionary."
   ]
  },
  {
   "cell_type": "code",
   "execution_count": null,
   "id": "627215d5",
   "metadata": {},
   "outputs": [],
   "source": [
    "# Your code here!"
   ]
  },
  {
   "cell_type": "markdown",
   "id": "d56b01cd",
   "metadata": {},
   "source": [
    "# Using functions\n",
    "\n",
    "Let's try turning our Mastodon toot posting code into a **function**. As a reminder, a function is a piece of code that accepts various **parameters** and provides a **return value**. Functions are inspired by functions in math:\n",
    "\n",
    "f(x) = 5x + 2\n",
    "\n",
    "In python:"
   ]
  },
  {
   "cell_type": "code",
   "execution_count": null,
   "id": "05cad1b7",
   "metadata": {},
   "outputs": [],
   "source": [
    "def f(x):\n",
    "  return 5 * x + 2"
   ]
  },
  {
   "cell_type": "markdown",
   "id": "5319d2a4",
   "metadata": {},
   "source": [
    "Notice that the above didn't \"do anything\". The code in a function doesn't run until we **call** it, by passing it a parameter, and do something with its return value."
   ]
  },
  {
   "cell_type": "code",
   "execution_count": null,
   "id": "4c1046f9",
   "metadata": {},
   "outputs": [],
   "source": [
    "print(f(10))\n",
    "print(f(20))"
   ]
  },
  {
   "cell_type": "markdown",
   "id": "7887df10",
   "metadata": {},
   "source": [
    "If we were to write a function called `post_to_mastodon`, what would be a logical parameter for it to take?"
   ]
  },
  {
   "cell_type": "code",
   "execution_count": null,
   "id": "c1fa1acb",
   "metadata": {},
   "outputs": [],
   "source": [
    "def post_to_mastodon(text):\n",
    "    # data = {'status': 'Toot posted via the API, please really ignore'}\n",
    "    data = {'status': text}\n",
    "\n",
    "    url = f'{MASTODON_HOST}/api/v1/statuses'\n",
    "    r = requests.post(url, \n",
    "                      data=data, \n",
    "                      headers={'Authorization': f'Bearer {MASTODON_TOKEN}'})\n",
    "    return r.json()"
   ]
  },
  {
   "cell_type": "markdown",
   "id": "31a036c2",
   "metadata": {},
   "source": [
    "When we ran the first code block in this notebook, the one that posts to Mastodon, the interpreter ran through each line of the code block and executed it immediately as it was visited. So the lines in the code were executed one after another. When we run this code, however, nothing happens (no toot gets posted). That's because we're simply defining the function, but not yet calling (using) it."
   ]
  },
  {
   "cell_type": "code",
   "execution_count": null,
   "id": "6da2c41a",
   "metadata": {},
   "outputs": [],
   "source": [
    "post_to_mastodon('Hello, I am using functions!')"
   ]
  },
  {
   "cell_type": "markdown",
   "id": "2363556a",
   "metadata": {},
   "source": [
    "This code should post the text in parentheses as a Mastodon toot. When it is run, it calls the `post_to_mastodon` function with a string (`'Hello, I am using functions!'`). This string is then assigned to the **parameter** `text`. At that time, the `post_to_mastdon` function runs and the code within it is executed. Since we used the value of `text` in our `data` dictionary, that is the value that gets posted. Our function returns the API data, which Jupyter Notebook displays verbatim (without pretty printing, so it looks different than in the first code block)."
   ]
  },
  {
   "cell_type": "markdown",
   "id": "013f14b3",
   "metadata": {},
   "source": [
    "# Imports\n",
    "\n",
    "Another thing to be aware of in our code is the use of **import** statements. Some functions and data structures in Python are **built-in** and you can use them without importing anything. However, often we want to use libraries and code that have been provided by the **standard library**, or even that come from third parties (like `requests`). To do this, we must import that library using an `import` statement.\n",
    "\n",
    "When we use an import statement, the library is initialized (any code that it needs is run and defined) and the symbol we used to import it is made available to our code. Since we imported `requests`, we can use `requests.post`. The library name acts as a variable of sorts. For pprint, we imported a specific symbol from the main `pprint` module. Here the symbol we imported happens to have the same name as the module. The following two programs are equivalent:"
   ]
  },
  {
   "cell_type": "code",
   "execution_count": null,
   "id": "9f26a828",
   "metadata": {},
   "outputs": [],
   "source": [
    "from pprint import pprint\n",
    "d = {\n",
    "  'name': 'Mateo',\n",
    "  'age': 22,\n",
    "  'country': 'Mexico',\n",
    "}\n",
    "pprint(d)"
   ]
  },
  {
   "cell_type": "code",
   "execution_count": null,
   "id": "0722ca66",
   "metadata": {},
   "outputs": [],
   "source": [
    "import pprint\n",
    "d = {\n",
    "  'name': 'Mateo',\n",
    "  'age': 22,\n",
    "  'country': 'Mexico',\n",
    "}\n",
    "pprint.pprint(d)"
   ]
  },
  {
   "cell_type": "markdown",
   "id": "b447cb27",
   "metadata": {},
   "source": [
    "We can also use the `as` keyword to rename a symbol or module when we import it. This is mostly used to avoid name conflicts (`from math import sin` and `from advmathlib import sin as adv_sin`), but it can also be used to create shortcuts for library names."
   ]
  },
  {
   "cell_type": "code",
   "execution_count": null,
   "id": "5f0f5337",
   "metadata": {},
   "outputs": [],
   "source": [
    "from pprint import pprint as pp\n",
    "import requests as r\n",
    "resp = r.get('https://en.wikipedia.org')\n",
    "pp(resp.text)"
   ]
  },
  {
   "cell_type": "markdown",
   "id": "11fafb5e",
   "metadata": {},
   "source": [
    "# Using data from a file\n",
    "\n",
    "So far, we have used only \"hardcoded\" values to post toots. In the very first code block at the top where we made our first post, the toot was defined as part of the program ('Toot posted via the API, please ignore'). Even when we defined the `post_to_mastodon` function, we used what's called a **literal** string to specify the actual text. With the power of Python, we can do so much more!"
   ]
  },
  {
   "cell_type": "markdown",
   "id": "18a37c08",
   "metadata": {},
   "source": [
    "Alongside this Jupyter notebook is a file called 'proverbs.txt'. It contains a number of proverbs/aphorisms, each on its own line. What if we could read the proverbs from this file and post a random one to Mastodon? We can use our `post_to_mastodon` function with the text of the proverb."
   ]
  },
  {
   "cell_type": "code",
   "execution_count": 84,
   "id": "23df2888",
   "metadata": {},
   "outputs": [],
   "source": [
    "with open('proverbs.txt', 'r') as file:\n",
    "    # File is open here\n",
    "    text = file.read()\n",
    "# File is closed here"
   ]
  },
  {
   "cell_type": "markdown",
   "id": "3d18b446",
   "metadata": {},
   "source": [
    "The above code uses what's called a **context manager** to open a file named `proverbs.txt` and read its entire contents into a variable named `text`. The whole with...as statement is what invokes the context manager. You don't have to worry too much about context managers at the moment, just understand that the point of this code is to make sure that within the lines under the context manager, the file is open, and when those lines end, the file is automatically closed. This is useful because even if there is an error or exception in our code, the file gets closed at the end (which is an important operation from an OS perspective)."
   ]
  },
  {
   "cell_type": "markdown",
   "id": "93ff8dcc",
   "metadata": {},
   "source": [
    "To be clear, `with...as` is how you should be reading files, but for now it can operate as sort of \"magic code\" where you just follow the pattern."
   ]
  },
  {
   "cell_type": "markdown",
   "id": "d808db37",
   "metadata": {},
   "source": [
    "# Lists and slice notation\n",
    "\n",
    "Lists are a powerful and common **data structure** in Python, which are used to manage sequenced values. Think of a literal list of grocery items in a shopping list, or a list of email addresses that should receive a newsletter. In other languages, similar data structures are also referred to as \"arrays\"."
   ]
  },
  {
   "cell_type": "code",
   "execution_count": null,
   "id": "c3d4d830",
   "metadata": {},
   "outputs": [],
   "source": [
    "grocery_list = ['apples', 'bananas', 'grapes', 'paper towels', 'beans']"
   ]
  },
  {
   "cell_type": "markdown",
   "id": "15e5fe57",
   "metadata": {},
   "source": [
    "Unlike other languages however, Python lists do **not** need to all contain the same \"type\" of value. So you can mix numbers, strings, even other lists or dictionaries."
   ]
  },
  {
   "cell_type": "code",
   "execution_count": 85,
   "id": "62d9294d",
   "metadata": {},
   "outputs": [],
   "source": [
    "books = [\n",
    "  'The Great Gatsby',\n",
    "  'The Catcher in the Rye',\n",
    "  1984,\n",
    "  ['Brave New World', 'Fahrenheit 451'],\n",
    "  {'title': 'Animal Farm', 'author': 'George Orwell'},\n",
    "  'To Kill a Mockingbird',\n",
    "]"
   ]
  },
  {
   "cell_type": "markdown",
   "id": "66719e83",
   "metadata": {},
   "source": [
    "We can access specific elements of a list using **slice notation**. To do so, we provide an index or range of indexes that we want to extract from the list. List indexes begin at 0, so the first item of the list is at 0, the second item is at 1, etc."
   ]
  },
  {
   "cell_type": "code",
   "execution_count": null,
   "id": "bd627f66",
   "metadata": {},
   "outputs": [],
   "source": [
    "parts = ['a', '1', 'b', 'c', '2']\n",
    "\n",
    "print(parts[0])\n",
    "print(parts[3])\n",
    "print(parts[-1])\n",
    "print(parts[1:3])\n",
    "print(parts[:-1])\n",
    "print(parts[2:])\n",
    "# print(parts[100]) # error!"
   ]
  },
  {
   "cell_type": "markdown",
   "id": "28210c91",
   "metadata": {},
   "source": [
    "Once we have the contents of the file, we can use the python `split` method to transform the entire file into a **list** of proverbs. Since the proverbs are defined one per line, we know that a \"newline\" character separates each one. First, let's look at split."
   ]
  },
  {
   "cell_type": "code",
   "execution_count": null,
   "id": "d8c8045f",
   "metadata": {},
   "outputs": [],
   "source": [
    "parts = 'a:1:b:c:2'.split(':')\n",
    "print(parts)"
   ]
  },
  {
   "cell_type": "markdown",
   "id": "87bc1628",
   "metadata": {},
   "source": [
    "Lets split our file data (`text`) based on the newline character (`\\n`) to produce a list of proverbs. The built-in `len` function tells us the \"length\" of the list, aka how many items are in it/how many proverbs there are."
   ]
  },
  {
   "cell_type": "code",
   "execution_count": null,
   "id": "9b46715f",
   "metadata": {},
   "outputs": [],
   "source": [
    "proverbs = text.split('\\n')\n",
    "print(len(proverbs))\n",
    "print(proverbs[12:15])"
   ]
  },
  {
   "cell_type": "markdown",
   "id": "27d5c400",
   "metadata": {},
   "source": [
    "Now let's choose a random proverb from the list. We will **import** the random module to help with this. (Can you think of another way we could have imported/referred to the `choice` function?)"
   ]
  },
  {
   "cell_type": "code",
   "execution_count": null,
   "id": "94f544a0",
   "metadata": {},
   "outputs": [],
   "source": [
    "import random\n",
    "p = random.choice(proverbs)\n",
    "print(p)"
   ]
  },
  {
   "cell_type": "markdown",
   "id": "d092286d",
   "metadata": {},
   "source": [
    "Every time you run the cell above, it should display a different proverb. Now that we have that, how would we post a random proverb to Mastodon?"
   ]
  },
  {
   "cell_type": "code",
   "execution_count": null,
   "id": "84064e33",
   "metadata": {},
   "outputs": [],
   "source": [
    "post_to_mastodon(random.choice(proverbs))"
   ]
  },
  {
   "cell_type": "markdown",
   "id": "64e009ca",
   "metadata": {},
   "source": [
    "# Python and whitespace\n",
    "\n",
    "In almost every programming language, code is laid out line by line in a text file. Programmers use **whitespace** (spaces, tabs, and newlines primarily) to separate the logical parts of a function. In some languages, like C++ and Java, you can have as much or as little whitespace as you want, the language doesn't care.\n",
    "\n",
    "You may have heard that in Python, \"whitespace matters\". If you've been editing the code examples in these notebooks, or writing code in a Replit, you might have already come across an `IndentationError` or two.\n",
    "\n",
    "In Python, **every new statement needs to be on it's own line**. This isn't that hard, because it's mostly common sense. The difficult part is that **every line within the same block has to be indented the same amount** and **outdenting closes a block**.\n",
    "\n",
    "The rule in Python, in general, is that additional levels of indention are used to define increasingly nested blocks of code. Inside a given \"block\", all of the lines that comprise the block must have the same indentation, ie the same number of tabs or spaces.\n",
    "\n",
    "What does this mean? A block is introduced by a colon (`:`). We've seen them already in our functions, where the main code or **body** of the function is in a block under the function definition. "
   ]
  },
  {
   "cell_type": "code",
   "execution_count": null,
   "id": "5ce67f6c",
   "metadata": {},
   "outputs": [],
   "source": [
    "# Doesn't work\n",
    "a = 42 print(a)"
   ]
  },
  {
   "cell_type": "code",
   "execution_count": null,
   "id": "68b0e08f",
   "metadata": {},
   "outputs": [],
   "source": [
    "def looking_at_whitespace():\n",
    "  unused_variable = 42\n",
    "  print('Yup, there is whitespace')\n",
    "print('outdent')"
   ]
  },
  {
   "cell_type": "markdown",
   "id": "ffdd1119",
   "metadata": {},
   "source": [
    "If we mess with the whitespace, the code won't run and we'll get an **exception** (more on exceptions later, but basically an \"error\", the program crashes)."
   ]
  },
  {
   "cell_type": "code",
   "execution_count": null,
   "id": "b0c6546a",
   "metadata": {},
   "outputs": [],
   "source": [
    "def looking_at_whitespace():\n",
    "  unused_variable = 42\n",
    "       print('Nope, this will not work')"
   ]
  },
  {
   "cell_type": "markdown",
   "id": "07c5f63f",
   "metadata": {},
   "source": [
    "Note that the amount of whitespace (number of spaces/tabs) in a block doesn't matter, as long as it is consistent within the block. Don't worry, there are plenty of ways you can mess up whitespace (/sarcasm)."
   ]
  },
  {
   "cell_type": "code",
   "execution_count": null,
   "id": "4c75b36f",
   "metadata": {},
   "outputs": [],
   "source": [
    "def looking_at_whitespace():\n",
    "   # 5 spaces. (Note: this comment doesn't participate in whitespace calculations)  \n",
    "     unused_variable = 42\n",
    "     print('Yup, there is whitespace')\n",
    "  # Exception because there is no open block with two spaces.\n",
    "print('outside function')"
   ]
  },
  {
   "cell_type": "code",
   "execution_count": null,
   "id": "42fed79e",
   "metadata": {},
   "outputs": [],
   "source": [
    "# Top level psuedo-block (not actually a block), no indentation\n",
    "x = 42\n",
    "y = x * 2\n",
    "if y > x:\n",
    "    # The colon above starts a block, inside the if statement\n",
    "    print('y is greater')\n",
    "    z = y * 2\n",
    "    # Note that every line of code in this block aligns\n",
    "    \n",
    "for i in range(x):\n",
    "    if i > 39 and i % 2 == 0:\n",
    "        # A second block requires a new level of indentation\n",
    "        print('%s is over 39 and even' % i)\n",
    "        continue\n",
    "\n",
    "    # Blank lines don't matter\n",
    "    if i % 17 == 0:\n",
    "            # The indentation of a block doesn't need to match\n",
    "            # the indentation of other sibling blocks. It just\n",
    "            # needs to be internally consistent\n",
    "            print('%s is divisible by 17' % i)\n",
    "            x2 = i + 10\n",
    "            \n",
    "    # Outdenting means the end of the block. This line runs after\n",
    "    # each of the if statements above\n",
    "    y2 = x - i\n",
    "    # This is an IndentationError, because there's no new block,\n",
    "    # but the indentation of the next line doesn't match the previous\n",
    "    #  y3 = y2 * 3"
   ]
  },
  {
   "cell_type": "markdown",
   "id": "fb510ddd",
   "metadata": {},
   "source": [
    "# Conclusion\n",
    "\n",
    "You can read more about lists and dictionaries in the [Python docs](https://docs.python.org/3/tutorial/datastructures.html). Import statements are covered [in great detail here](https://docs.python.org/3/reference/import.html) though you probably don't need to know that much about them at this point."
   ]
  },
  {
   "cell_type": "markdown",
   "id": "e402af41",
   "metadata": {},
   "source": [
    "Finally, here is a complete version of the program to post a random proverb to Mastodon. Remember to modify it to use your `MASTODON_HOST` and `MASTODON_TOKEN` if you wish to post to your own account. This script can also be copy and pasted into a `mastodon.py` script on your local computer and run that way (make sure you also have the list of proverbs!)."
   ]
  },
  {
   "cell_type": "code",
   "execution_count": null,
   "id": "8db94da1",
   "metadata": {},
   "outputs": [],
   "source": [
    "from pprint import pprint\n",
    "import random\n",
    "\n",
    "import requests\n",
    "\n",
    "MASTODON_HOST = 'https://mastodon.social'\n",
    "MASTODON_TOKEN = 'dv2DCBcBpxcl1ceenbv6-KhL3a3ICOrjiHY_XmUgPJ0'\n",
    "\n",
    "def post_to_mastodon(text):\n",
    "    data = {'status': text}\n",
    "\n",
    "    url = '%s/api/v1/statuses' % MASTODON_HOST\n",
    "    r = requests.post(url, \n",
    "                      data=data, \n",
    "                      headers={'Authorization': 'Bearer %s' % MASTODON_TOKEN})\n",
    "    return r.json()\n",
    "\n",
    "with open('proverbs.txt', 'r') as file:\n",
    "    text = file.read()\n",
    "proverbs = text.split('\\n')\n",
    "\n",
    "post_to_mastodon(random.choice(proverbs))"
   ]
  },
  {
   "cell_type": "markdown",
   "id": "3deb6b4b",
   "metadata": {},
   "source": [
    "If you wanted to run this code on your computer, outside of sfpythonlab.com, you would need to:\n",
    "\n",
    "1. Install Python\n",
    "2. Save the code from the above into a file, like `mastodon.py`\n",
    "3. Run the code using the Python interpreter: `$ python mastodon.py`\n",
    "\n",
    "You might also be able to run the code directly from [VSCode](https://code.visualstudio.com/), which is highly recommended, runs on many platforms, and features a built-in terminal. "
   ]
  }
 ],
 "metadata": {
  "kernelspec": {
   "display_name": "PythonClass-vcBxlNeB",
   "language": "python",
   "name": "python3"
  },
  "language_info": {
   "codemirror_mode": {
    "name": "ipython",
    "version": 3
   },
   "file_extension": ".py",
   "mimetype": "text/x-python",
   "name": "python",
   "nbconvert_exporter": "python",
   "pygments_lexer": "ipython3",
   "version": "3.11.6"
  }
 },
 "nbformat": 4,
 "nbformat_minor": 5
}
