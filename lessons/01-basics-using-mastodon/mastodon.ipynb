{
 "cells": [
  {
   "cell_type": "markdown",
   "id": "966fad0c",
   "metadata": {},
   "source": [
    "Welcome to lesson 1 of the Noisebridge Python class (https://github.com/audiodude/PythonClass)!\n",
    "\n",
    "In this lesson, we'll look at a script which posts \"toots\" to the [Mastodon](https://en.wikipedia.org/wiki/Mastodon_(social_network) social network. By inspecting how this script operates, we will learn about the following:\n",
    "\n",
    "* Variables\n",
    "* Dictionaries\n",
    "* Basic string formatting\n",
    "* Function definitions and usage\n",
    "* Lists\n",
    "* Import statements (using internal and external libraries)\n",
    "* Reading data from a file\n",
    "\n",
    "As part of the lesson, we will experiment with modifying the script to change its behavior, and discussing those modifications.\n",
    "\n",
    "Here is the script. If you'd like, you can modify the values of `MASTODON_HOST` and `MASTODON_TOKEN` to match your server. When you run it (which you can do from within sfpythonlab.com), it will post a toot with the contents of \"Toot posted via the API, please ignore\"."
   ]
  },
  {
   "cell_type": "code",
   "execution_count": null,
   "id": "12f4c515",
   "metadata": {},
   "outputs": [],
   "source": [
    "from pprint import pprint\n",
    "\n",
    "import requests\n",
    "\n",
    "MASTODON_HOST = 'https://mastodon.social'\n",
    "MASTODON_TOKEN = 'dv2DCBcBpxcl1ceenbv6-KhL3a3ICOrjiHY_XmUgPJ0'\n",
    "\n",
    "data = {'status': 'Toot posted via the API, please ignore'}\n",
    "\n",
    "url = f'{MASTODON_HOST}/api/v1/statuses'\n",
    "r = requests.post(url, \n",
    "                  data=data, \n",
    "                  headers={'Authorization': f'Bearer {MASTODON_TOKEN}'})\n",
    "response_data = r.json()\n",
    "\n",
    "pprint(response_data)"
   ]
  },
  {
   "cell_type": "markdown",
   "id": "be1981aa",
   "metadata": {},
   "source": [
    "The key piece of this code that is doing most of the work is line 11, where we call the `post` function of the requests library (which was imported on line 2!). This performs an HTTP POST request against the URL specified in line 10. Line 14 retrieves the data that the API responded with, and line 16 \"pretty prints\" that data."
   ]
  },
  {
   "cell_type": "markdown",
   "id": "7d431599",
   "metadata": {},
   "source": [
    "# Dictionaries\n",
    "Line 8 defines the toot that we're going to post. It is a Python dictionary, which is an important **data structure**."
   ]
  },
  {
   "cell_type": "code",
   "execution_count": null,
   "id": "84386b13",
   "metadata": {},
   "outputs": [],
   "source": [
    "data = {'status': 'Toot posted via the API, please ignore'}"
   ]
  },
  {
   "cell_type": "markdown",
   "id": "f867a235",
   "metadata": {},
   "source": [
    "Dictionaries are an example of a **key value store**. This dictionary has one key value pair, where the key is `'status'` and the value is a string which contains the toot we wish to post.\n",
    "\n",
    "Here's another example of a dictionary:"
   ]
  },
  {
   "cell_type": "code",
   "execution_count": 3,
   "id": "aa5f007d",
   "metadata": {},
   "outputs": [],
   "source": [
    "fruit_prices = {\n",
    "    'apple': 1.79,\n",
    "    'banana': 0.89,\n",
    "    'bag of grapes': 2.99,\n",
    "}"
   ]
  },
  {
   "cell_type": "markdown",
   "id": "c1946fac",
   "metadata": {},
   "source": [
    "The entire dictionary is defined using curly braces `{}` and the key value pairs inside are separated by commas. Once we've defined the dictionary (make sure you 'Run' the cell above), we can access any of its values using the corresponding key."
   ]
  },
  {
   "cell_type": "code",
   "execution_count": null,
   "id": "c05b854c",
   "metadata": {},
   "outputs": [],
   "source": [
    "print('The price of a banana is', fruit_prices['banana'])"
   ]
  },
  {
   "cell_type": "markdown",
   "id": "8b1cfeaa",
   "metadata": {},
   "source": [
    "We can also access the contents of a dictionary using **variables**. The Mastodon post script uses several variables like `data`, `url` and `r`. When you see a variable used in a Python expression, you can think of the variable as being \"replaced\" by its value. We use the equal sign `=` to assign a value to a variable. In Python, variables are declared when they are first assigned to."
   ]
  },
  {
   "cell_type": "code",
   "execution_count": null,
   "id": "ea927963",
   "metadata": {},
   "outputs": [],
   "source": [
    "fruit = 'apple'\n",
    "print(f'The price of {fruit} is {fruit_prices[fruit]}')"
   ]
  },
  {
   "cell_type": "markdown",
   "id": "1a27d88d",
   "metadata": {},
   "source": [
    "You can also assign a new value to a given key in a dictionary:"
   ]
  },
  {
   "cell_type": "code",
   "execution_count": null,
   "id": "e95b0436",
   "metadata": {},
   "outputs": [],
   "source": [
    "# Apples are on sale!\n",
    "fruit_prices['apple'] = 1.29\n",
    "print(fruit_prices)"
   ]
  },
  {
   "cell_type": "markdown",
   "id": "72f00266",
   "metadata": {},
   "source": [
    "If you assign to a key that isn't yet present in the dictionary, it will be added."
   ]
  },
  {
   "cell_type": "code",
   "execution_count": null,
   "id": "fde8e405",
   "metadata": {},
   "outputs": [],
   "source": [
    "fruit_prices['kiwi'] = 2.29\n",
    "print(fruit_prices)"
   ]
  },
  {
   "cell_type": "markdown",
   "id": "fe147da2",
   "metadata": {},
   "source": [
    "# Formatting with f-strings\n",
    "\n",
    "The above two examples also use **string formatting**. This is a method that lets us replace part of a string with a variable or expression. There are at [least three separate ways](https://docs.python.org/3/tutorial/inputoutput.html#fancier-output-formatting) to do string formatting in Python, but the most commonly used in modern code is **f-strings**. An f-string is a normal string (`'This is a string'` and `\"This is also a string\"`) with a single `f` character before the opening quote. Inside of an f-string, anything in curly braces will be evaluated as Python code (most commonly, a single value) and converted to a string, which gets \"replaced\" in the string exactly where the braces were."
   ]
  },
  {
   "cell_type": "code",
   "execution_count": null,
   "id": "57b7e3d8",
   "metadata": {},
   "outputs": [],
   "source": [
    "x = 1\n",
    "y = 2\n",
    "print(f'{x} + {y} = {x + y}')"
   ]
  },
  {
   "cell_type": "markdown",
   "id": "2064d5e4",
   "metadata": {},
   "source": [
    "## Exercise: a fictious person\n",
    "\n",
    "Let's try writing our own code! It might sound a bit scary, but you have to start somewhere, and it will get easier the more you do it.\n",
    "\n",
    "Create a variable called `person` and **assign** a dictionary to it. The dictionary can have as many keys and values as you want, but at the very least should contain keys for the following: `'name'`, `'age'`, `'country'`. Finally use an **f-string** to print out a sentence like: `Alice is 15 and lives in Argentina`, except using the values from your dictionary."
   ]
  },
  {
   "cell_type": "code",
   "execution_count": 14,
   "id": "627215d5",
   "metadata": {},
   "outputs": [],
   "source": [
    "# Your code here!\n",
    "\n"
   ]
  },
  {
   "cell_type": "markdown",
   "id": "d56b01cd",
   "metadata": {},
   "source": [
    "# Using functions\n",
    "\n",
    "Let's try turning our posting code into a **function**. As a reminder, a function is a piece of code that accepts various **parameters** and provides a **return value**. Functions are inspired by functions in math:\n",
    "\n",
    "f(x) = 5x + 2\n",
    "\n",
    "In python:"
   ]
  },
  {
   "cell_type": "code",
   "execution_count": 10,
   "id": "05cad1b7",
   "metadata": {},
   "outputs": [],
   "source": [
    "def f(x):\n",
    "  return 5 * x + 2"
   ]
  },
  {
   "cell_type": "markdown",
   "id": "5319d2a4",
   "metadata": {},
   "source": [
    "Notice that the above didn't \"do anything\". The code in a function doesn't run until we **call** it, by passing it a parameter, and do something with its return value."
   ]
  },
  {
   "cell_type": "code",
   "execution_count": null,
   "id": "4c1046f9",
   "metadata": {},
   "outputs": [],
   "source": [
    "print(f(10))"
   ]
  },
  {
   "cell_type": "markdown",
   "id": "7887df10",
   "metadata": {},
   "source": [
    "If we were to write a function called `post_to_mastodon`, what would be a logical parameter for it to take?"
   ]
  },
  {
   "cell_type": "code",
   "execution_count": null,
   "id": "c1fa1acb",
   "metadata": {},
   "outputs": [],
   "source": [
    "def post_to_mastodon(text):\n",
    "    data = {'status': text}\n",
    "\n",
    "    url = '%s/api/v1/statuses' % MASTODON_HOST\n",
    "    r = requests.post(url, \n",
    "                      data=data, \n",
    "                      headers={'Authorization': 'Bearer %s' % MASTODON_TOKEN})\n",
    "    return r.json()"
   ]
  },
  {
   "cell_type": "markdown",
   "id": "31a036c2",
   "metadata": {},
   "source": [
    "When we ran the first code block in this notebook, the one that posts to Mastodon, the interpreter ran through each line of the code block and executed it immediately as it was visited. So the lines in the code were executed one after another. When we run this code, however, nothing happens (no toot gets posted). That's because we're simply defining the function, but not yet calling (using) it."
   ]
  },
  {
   "cell_type": "code",
   "execution_count": null,
   "id": "6da2c41a",
   "metadata": {},
   "outputs": [],
   "source": [
    "post_to_mastodon('Hello, I am using functions!')"
   ]
  },
  {
   "cell_type": "markdown",
   "id": "2363556a",
   "metadata": {},
   "source": [
    "This code should post the text in parentheses as a Mastodon toot. When it is run, it calls the `post_to_mastodon` function with a string (`'Hello, I am using functions!'`). This string is then assigned to the **parameter** `text`. At that time, the `post_to_mastdon` function runs and the code within it is executed. Since we used the value of `text` in our `data` dictionary, that is the value that gets posted. Our function returns the API data, which Jupyter Notebook displays verbatim (without pretty printing, so it looks different than in the code block above)."
   ]
  },
  {
   "cell_type": "markdown",
   "id": "013f14b3",
   "metadata": {},
   "source": [
    "# Imports\n",
    "\n",
    "Another thing to be aware of in our code is the use of **import** statements. Some functions and data structures in Python are **built-in** and you can use them without importing anything. However, often we want to use libraries and code that have been provided by the **standard library**, or even that come from third parties (like `requests`). To do this, we must import that library using an `import` statement.\n",
    "\n",
    "When we use an import statement, the library is initialized (any code that it needs is run and defined) and the symbol we used to import it is made available to our code. Since we imported `requests`, we can use `requests.post`. The library name acts as a variable of sorts. For pprint, we imported a specific symbol from the main `pprint` module. Here the symbol we imported happens to have the same name as the module. The following two programs are equivalent:"
   ]
  },
  {
   "cell_type": "code",
   "execution_count": null,
   "id": "9f26a828",
   "metadata": {},
   "outputs": [],
   "source": [
    "from pprint import pprint\n",
    "pprint('foo')"
   ]
  },
  {
   "cell_type": "code",
   "execution_count": null,
   "id": "5f0f5337",
   "metadata": {},
   "outputs": [],
   "source": [
    "import pprint\n",
    "pprint.pprint('foo')"
   ]
  },
  {
   "cell_type": "markdown",
   "id": "11fafb5e",
   "metadata": {},
   "source": [
    "# Using data from a file\n",
    "\n",
    "So far, we have used only \"hardcoded\" values to post toots. In the very first code block at the top where we made our first post, the toot was defined as part of the program ('Toot posted via the API, please ignore'). Even when we defined the `post_to_mastodon` function, we used what's called a **literal** string to specify the actual text. With the power of Python, we can do so much more!"
   ]
  },
  {
   "cell_type": "markdown",
   "id": "18a37c08",
   "metadata": {},
   "source": [
    "Alongside this Jupyter notebook is a file called 'proverbs.txt'. It contains a number of proverbs/aphorisms, each on its own line. What if we could read the proverbs from this file and post a random one to Mastodon? We can use our `post_to_mastodon` function with the text of the proverb."
   ]
  },
  {
   "cell_type": "code",
   "execution_count": null,
   "id": "23df2888",
   "metadata": {},
   "outputs": [],
   "source": [
    "with open('proverbs.txt', 'r') as file:\n",
    "    # File is open here\n",
    "    text = file.read()\n",
    "# File is closed here"
   ]
  },
  {
   "cell_type": "markdown",
   "id": "3d18b446",
   "metadata": {},
   "source": [
    "The above code uses what's called a **context manager** to open a file named `proverbs.txt` and read its entire contents into a variable named `text`. The whole with...as statement is what invokes the context manager. You don't have to worry too much about context managers at the moment, just understand that the point of this code is to make sure that within the lines under the context manager, the file is open, and when those lines end, the file is automatically closed. This is useful because even if there is an error or exception in our code, the file gets closed at the end (which is an important operation from an OS perspective)."
   ]
  },
  {
   "cell_type": "markdown",
   "id": "0cd891c4",
   "metadata": {},
   "source": [
    "Once we have the contents of the file, we can use the python `split` method to transform the entire file into a **list** of proverbs. Since the proverbs are defined one per line, we know that a \"newline\" character separates each one. First, let's look at split."
   ]
  },
  {
   "cell_type": "code",
   "execution_count": null,
   "id": "7b8e05f1",
   "metadata": {},
   "outputs": [],
   "source": [
    "parts = 'a:1:b:c:2'.split(':')\n",
    "print(parts)"
   ]
  },
  {
   "cell_type": "markdown",
   "id": "d808db37",
   "metadata": {},
   "source": [
    "# Lists and slice notation\n",
    "\n",
    "This code gives us a list (everything in between the `[]` brackets, separated by commas) of each item that is between a ':', which is the argument we gave to `split`. Lists are a powerful and common **data structure** in Python, which are used to manage sequenced values. in other languages, similar data structures are also referred to as \"arrays\"."
   ]
  },
  {
   "cell_type": "markdown",
   "id": "66719e83",
   "metadata": {},
   "source": [
    "We can access specific elements of a list using **slice notation**. To do so, we provide an index or range of indexes that we want to extract from the list. List indexes begin at 0."
   ]
  },
  {
   "cell_type": "code",
   "execution_count": null,
   "id": "bd627f66",
   "metadata": {},
   "outputs": [],
   "source": [
    "print(parts[0])\n",
    "print(parts[3])\n",
    "print(parts[-1])\n",
    "print(parts[1:3])"
   ]
  },
  {
   "cell_type": "markdown",
   "id": "87bc1628",
   "metadata": {},
   "source": [
    "Lets split our file data (`text`) based on the newline character (`\\n`) to produce a list of proverbs. The built-in `len` function tells us how many proverbs there are."
   ]
  },
  {
   "cell_type": "code",
   "execution_count": null,
   "id": "9b46715f",
   "metadata": {},
   "outputs": [],
   "source": [
    "proverbs = text.split('\\n')\n",
    "print(len(proverbs))"
   ]
  },
  {
   "cell_type": "markdown",
   "id": "27d5c400",
   "metadata": {},
   "source": [
    "Now let's choose a random proverb from the list. We will **import** the random module to help with this. (Can you think of another way we could have imported/referred to the `choice` function?)"
   ]
  },
  {
   "cell_type": "code",
   "execution_count": null,
   "id": "94f544a0",
   "metadata": {},
   "outputs": [],
   "source": [
    "import random\n",
    "random.choice(proverbs)"
   ]
  },
  {
   "cell_type": "markdown",
   "id": "d092286d",
   "metadata": {},
   "source": [
    "Every time you run the cell above, it should display a different proverb. Now that we have that, how would we post a random proverb to Mastodon?"
   ]
  },
  {
   "cell_type": "code",
   "execution_count": null,
   "id": "84064e33",
   "metadata": {},
   "outputs": [],
   "source": [
    "post_to_mastodon(random.choice(proverbs))"
   ]
  },
  {
   "cell_type": "markdown",
   "id": "64e009ca",
   "metadata": {},
   "source": [
    "# Python and whitespace\n",
    "\n",
    "In almost every programming language, code is laid out line by line in a text file. Programmers use **whitespace** (spaces, tabs, and newlines primarily) to separate the logical parts of a function. In some languages, like C++ and Java, you can have as much or as little whitespace as you want, the language doesn't care.\n",
    "\n",
    "In Python, **every new statement needs to be on it's own line**. This isn't that hard, because it's mostly common sense. The difficult part is that **every line within the same block has to be indented the same amount** and **outdenting closes a block**.\n",
    "\n",
    "What does this mean? A block is introduced by a colon (`:`). We've seen them already in our functions, where the main code or **body** of the function is in a block under the function definition. "
   ]
  },
  {
   "cell_type": "code",
   "execution_count": 15,
   "id": "68b0e08f",
   "metadata": {},
   "outputs": [],
   "source": [
    "def looking_at_whitespace():\n",
    "  unused_variable = 42\n",
    "  print('Yup, there is whitespace')"
   ]
  },
  {
   "cell_type": "markdown",
   "id": "ffdd1119",
   "metadata": {},
   "source": [
    "If we mess with the whitespace, the code won't run and we'll get an **exception** (more on exceptions later, but basically an \"error\", the program crashes)."
   ]
  },
  {
   "cell_type": "code",
   "execution_count": null,
   "id": "b0c6546a",
   "metadata": {},
   "outputs": [],
   "source": [
    "def looking_at_whitespace():\n",
    "  unused_variable = 42\n",
    "      print('Nope, this will not work')"
   ]
  },
  {
   "cell_type": "markdown",
   "id": "07c5f63f",
   "metadata": {},
   "source": [
    "Note that the amount of whitespace (number of spaces/tabs) in a block doesn't matter, as long as it is consistent within the block. Don't worry, there are plenty of ways you can mess up whitespace (/sarcasm)."
   ]
  },
  {
   "cell_type": "code",
   "execution_count": null,
   "id": "4c75b36f",
   "metadata": {},
   "outputs": [],
   "source": [
    "def looking_at_whitespace():\n",
    "  # 5 spaces. (Note: this comment doesn't participate in whitespace calculations)  \n",
    "     unused_variable = 42\n",
    "     print('Yup, there is whitespace')\n",
    "  # Exception because there is no open block with two spaces.\n",
    "  print('outside function')"
   ]
  },
  {
   "cell_type": "markdown",
   "id": "fb510ddd",
   "metadata": {},
   "source": [
    "You can read more about lists and dictionaries in the [Python docs](https://docs.python.org/3/tutorial/datastructures.html). Import statements are covered [in great detail here](https://docs.python.org/3/reference/import.html) though you probably don't need to know that much about them at this point."
   ]
  },
  {
   "cell_type": "markdown",
   "id": "e402af41",
   "metadata": {},
   "source": [
    "Finally, here is a complete version of the program to post a random proverb to Mastodon. Remember to modify it to use your `MASTODON_HOST` and `MASTODON_TOKEN` if you wish to post to your own account. This script can also be copy and pasted into a `mastodon.py` script on your local computer and run that way (make sure you also have the list of proverbs!)."
   ]
  },
  {
   "cell_type": "code",
   "execution_count": null,
   "id": "8db94da1",
   "metadata": {},
   "outputs": [],
   "source": [
    "from pprint import pprint\n",
    "import random\n",
    "\n",
    "import requests\n",
    "\n",
    "MASTODON_HOST = 'https://mastodon.social'\n",
    "MASTODON_TOKEN = 'dv2DCBcBpxcl1ceenbv6-KhL3a3ICOrjiHY_XmUgPJ0'\n",
    "\n",
    "def post_to_mastodon(text):\n",
    "    data = {'status': text}\n",
    "\n",
    "    url = '%s/api/v1/statuses' % MASTODON_HOST\n",
    "    r = requests.post(url, \n",
    "                      data=data, \n",
    "                      headers={'Authorization': 'Bearer %s' % MASTODON_TOKEN})\n",
    "    return r.json()\n",
    "\n",
    "with open('proverbs.txt', 'r') as file:\n",
    "    text = file.read()\n",
    "proverbs = text.split('\\n')\n",
    "\n",
    "post_to_mastodon(random.choice(proverbs))"
   ]
  },
  {
   "cell_type": "markdown",
   "id": "3deb6b4b",
   "metadata": {},
   "source": [
    "If you wanted to run this code on your computer, outside of sfpythonlab.com, you would need to:\n",
    "\n",
    "1. Install Python\n",
    "2. Save the code from the above into a file, like `mastodon.py`\n",
    "3. Run the code using the Python interpreter: `$ python mastodon.py`\n",
    "\n",
    "You might also be able to run the code directly from [VSCode](https://code.visualstudio.com/), which is highly recommended, runs on many platforms, and features a built-in terminal. "
   ]
  }
 ],
 "metadata": {
  "kernelspec": {
   "display_name": "PythonClass-vcBxlNeB",
   "language": "python",
   "name": "python3"
  },
  "language_info": {
   "codemirror_mode": {
    "name": "ipython",
    "version": 3
   },
   "file_extension": ".py",
   "mimetype": "text/x-python",
   "name": "python",
   "nbconvert_exporter": "python",
   "pygments_lexer": "ipython3",
   "version": "3.11.6"
  }
 },
 "nbformat": 4,
 "nbformat_minor": 5
}
