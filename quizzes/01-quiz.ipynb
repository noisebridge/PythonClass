{
 "cells": [
  {
   "cell_type": "code",
   "execution_count": null,
   "metadata": {},
   "outputs": [],
   "source": [
    "# Give an example of an integer literal\n",
    "n = \n",
    "# Give an example of a string literal\n",
    "s = \n",
    "# Give an example of a boolean literal\n",
    "b =\n",
    "# Give an example of a None literal\n",
    "x =\n",
    "# Give an example of a list literal\n",
    "l =\n",
    "# Give an example of a dictionary literal\n",
    "d =\n",
    "# Give an example of a tuple literal\n",
    "t =\n",
    "\n",
    "# Give an example of an expression that uses at least one of each of\n",
    "# the literals above. You can use your existing variables if you like.\n",
    "compound = "
   ]
  },
  {
   "cell_type": "code",
   "execution_count": null,
   "metadata": {},
   "outputs": [],
   "source": [
    "# How do you find the length of a list?\n",
    "\n",
    "# How do you find the length of a string?\n",
    "\n",
    "# Given a list, how do you find the first element? The last element?\n",
    "\n",
    "# How do you find the value associated with the key 'foo' in a dictionary? What if it doesn't exist?\n",
    "\n",
    "# How do you iterate over a list with a for loop?\n",
    "\n",
    "# How do you iterate over a dictionary with a for loop?\n",
    "\n",
    "# How do you iterate N times with a for loop?\n",
    "\n",
    "# How do you define a function that takes no arguments and always returns 42?"
   ]
  },
  {
   "cell_type": "code",
   "execution_count": null,
   "metadata": {},
   "outputs": [],
   "source": [
    "# Write a function that takes a string and returns the length of the string.\n",
    "\n",
    "# Given the following color_mappings dictionary, write a function that takes\n",
    "# a fruit name as a string and returns the color of the fruit.\n",
    "# What should the function do/return if the fruit is not in the dictionary?\n",
    "color_mappings = {\n",
    "  'apple': 'red',\n",
    "  'banana': 'yellow',\n",
    "  'pear': 'green',\n",
    "}\n",
    "\n",
    "# Copy and paste your function from above, then modify it to take a\n",
    "# default_color keyword argument that defaults to 'unknown'. If the\n",
    "# fruit is not in the dictionary, return the default_color.\n"
   ]
  }
 ],
 "metadata": {
  "language_info": {
   "name": "python"
  }
 },
 "nbformat": 4,
 "nbformat_minor": 2
}
