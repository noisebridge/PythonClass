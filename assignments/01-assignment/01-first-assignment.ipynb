{
 "cells": [
  {
   "cell_type": "markdown",
   "id": "323248b3",
   "metadata": {},
   "source": [
    "This is the first assignment of the Noisebridge Python Class ([Noisebridge Wiki](https://www.noisebridge.net/wiki/PyClass) | [Github](https://github.com/audiodude/PythonClass))\n",
    "\n",
    "Before attempting this assignment, you should have completed lessons 1-5 of this course, preferably by attending the in person class for each. If you haven't, you can still feel free to attempt this assignment, but you might feel a bit lost.\n",
    "\n",
    "The assignment is designed to be challenging! For a beginner student, it might take an hour or two to complete. Don't let the perfect be the enemy of the good. If you've got most of it figured out, go ahead and submit your answers. At the very least, this will give the instructors a jumping off point to go over the material with you."
   ]
  },
  {
   "cell_type": "markdown",
   "id": "ea529209",
   "metadata": {},
   "source": [
    "# Assignment\n",
    "\n",
    "You've been given a set of 1000 nonsense words in the file `nonsense.txt`. Ok, to be fair, they can barely be described as \"words\", more like random strings. Some of the words repeat somewhere in the list, except that when they repeat, they have the same letters but in a different order. For example:\n",
    "\n",
    "```\n",
    "hfcd\n",
    "abnn\n",
    "cdfh\n",
    "plxy\n",
    "```\n",
    "\n",
    "Here, the 1st and 3rd lines are the same \"word\" just re-arranged. They both contain the letters 'h', 'f', 'c' and 'd', except in different orderings.\n",
    "\n",
    "Your task is to read the list of words and create a list that contains **one** of the representations of each word that appears twice. You should create a **function** to do this, and **return** the list that is your answer from your function. So for the example above, you would return:\n",
    "\n",
    "```\n",
    "['hfcd']\n",
    "```\n"
   ]
  },
  {
   "cell_type": "markdown",
   "id": "337265e4",
   "metadata": {},
   "source": [
    "Here's a larger example, with the contents of `nonsense_sample.txt` (in this directory) and the expected result:\n",
    "\n",
    "```\n",
    "jtxi\n",
    "yenv\n",
    "mors\n",
    "ivjo\n",
    "vips\n",
    "idpe\n",
    "mqdv\n",
    "hdrp\n",
    "igzd\n",
    "dizg\n",
    "axvi\n",
    "pvis\n",
    "lqdh\n",
    "cbls\n",
    "vaxi\n",
    "jxti\n",
    "zoap\n",
    "apoz\n",
    "tjru\n",
    "foqi\n",
    "```\n",
    "\n",
    "Result:\n",
    "```\n",
    "['dizg', 'pvis', 'vaxi', 'jxti', 'apoz']\n",
    "```\n",
    "\n",
    "Your file that you are expected to use is `nonsense.txt` in the same directory as this notebook."
   ]
  },
  {
   "cell_type": "markdown",
   "id": "9fae6daf",
   "metadata": {},
   "source": [
    "## Tips\n",
    "Before you start writing any code, think about the **algorithm** you will use to solve this problem. How does this compare to the problem of counting the number of occurrences of letters in a string? How will you know if a word has been seen before, if the letters are all jumbled the next time you see it? What **control structures** (`if` statements, `for` loops) will you need to use to solve this problem?\n",
    "\n",
    "Look back at the previous classroom lectures to help answer some of the above questions. Remember to use a `with...as` **context manager** to read the contents of a file and the `strip()` method of a string to remove the trailing newline of each word if necessary."
   ]
  },
  {
   "cell_type": "markdown",
   "id": "7938f485",
   "metadata": {},
   "source": [
    "## Submitting\n",
    "To submit the assignment, follow these steps:\n",
    "\n",
    "1. In your Jupyter Notebook (this website), go to File -> Download as -> Notebook (.ipynb)\n",
    "1. Save that file somewhere on your computer where you can re-upload it.\n",
    "1. Follow this link to Dropbox: https://www.dropbox.com/request/Lk6adhuFEwSxxGX5tBX6 . The password is 'nbhack'.\n",
    "1. Upload your file in that folder. Only the course organizers (currently only Travis B) have access. No one else will see your submission, not even other students or yourself.\n",
    "1. If you realized you made a mistake and would like to submit again, that's fine, just try to change the file name before uploading again.\n",
    "\n",
    "If you'd like to receive feedback on your assignment, you can type your email address here:"
   ]
  },
  {
   "cell_type": "code",
   "execution_count": null,
   "id": "1f8bce0f",
   "metadata": {},
   "outputs": [],
   "source": [
    "email = 'you@example.com'"
   ]
  },
  {
   "cell_type": "code",
   "execution_count": null,
   "id": "21ed08b1",
   "metadata": {},
   "outputs": [],
   "source": [
    "# Write your code here\n",
    "def my_function_rename_me():\n",
    "    return []"
   ]
  }
 ],
 "metadata": {
  "kernelspec": {
   "display_name": "Python 3 (ipykernel)",
   "language": "python",
   "name": "python3"
  },
  "language_info": {
   "codemirror_mode": {
    "name": "ipython",
    "version": 3
   },
   "file_extension": ".py",
   "mimetype": "text/x-python",
   "name": "python",
   "nbconvert_exporter": "python",
   "pygments_lexer": "ipython3",
   "version": "3.9.7"
  }
 },
 "nbformat": 4,
 "nbformat_minor": 5
}
