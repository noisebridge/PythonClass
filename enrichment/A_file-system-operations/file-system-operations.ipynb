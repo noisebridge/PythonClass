{
 "cells": [
  {
   "cell_type": "markdown",
   "metadata": {},
   "source": [
    "Welcome to Enrichment Lesson A of the Noisebridge Python Class ([Noisebridge Wiki](https://www.noisebridge.net/wiki/PyClass) | [Github](https://github.com/audiodude/PythonClass))\n",
    "\n",
    "Here we'll be taking a break from drilling language features and data structures, and trying to see some of the more interesting things you can do with Python.\n",
    "\n",
    "In this case, we will be organizing our mp3 and book libraries using Python **file system operations**.\n",
    "\n",
    "If you've used a computer, you're familiar with **files**. Files live on a file system, which is on some kind of device like a hard drive or USB stick. Within the file system, there are **directories** (often called 'folders' in GUI operating systems like Windows and macOS), which can contain files and other directories.\n",
    "\n",
    "With Python, we can do all the things with files that we can do within our operating system: open them and write to them (which we have already seen), check if they exist, copy and rename them, etc."
   ]
  },
  {
   "cell_type": "markdown",
   "metadata": {},
   "source": [
    "# Our directories \n",
    "\n",
    "Alongside this notebook are two directories: `books` and `music`.\n",
    "\n",
    "The books directory contains directories for authors, along with directories for each of the ebooks we have for them. The ebook directories themselves contain ebooks in various formats plus some other files like cover art.\n",
    "\n",
    "The `music` directory contains 3 sub directories with a bunch of songs randomly collected in them, with no information on artist, album or song title. However we suspect that this information may be encoded in the files themselves as [ID3 metadata](https://en.wikipedia.org/wiki/ID3)."
   ]
  },
  {
   "cell_type": "markdown",
   "metadata": {},
   "source": [
    "# 'Walking' the directories\n",
    "\n",
    "We will be using the Python 3 `Pathlib` library to perform our filesystem operation. You can [read more about it](https://docs.python.org/3/library/pathlib.html) if you like. It provides us with high level operations so that we can manipulate **paths** (which are like URLs for files on your computer, like '/Users/tmoney/code/PythonClass/lessons/lesson_1.ipynb').\n",
    "\n",
    "First, if we refer to a path without any slashes, Python assumes we are talking about a directory or file that is in the same directory as our running script or, in this case, Jupyter notebook."
   ]
  },
  {
   "cell_type": "code",
   "execution_count": null,
   "metadata": {},
   "outputs": [],
   "source": [
    "from pathlib import Path\n",
    "\n",
    "books_dir = Path('books')\n",
    "print('books dir exists:', books_dir.exists())\n",
    "print('books dir is a directory:', books_dir.is_dir())\n",
    "print('books dir is a file:', books_dir.is_file())\n",
    "print()\n",
    "\n",
    "banana_file = books_dir / 'banana.txt'\n",
    "print('banana_file exists:', banana_file.exists())"
   ]
  },
  {
   "cell_type": "markdown",
   "metadata": {},
   "source": [
    "We can use the `glob()` function to find files or directories that are under a given path. We pass `glob()` a pattern, and only items that match the pattern are returned. Here, `*` represents \"anything\". Glob is kind of like a simple search."
   ]
  },
  {
   "cell_type": "code",
   "execution_count": null,
   "metadata": {},
   "outputs": [],
   "source": [
    "for file_or_dir in books_dir.glob('pg*'):\n",
    "  print(file_or_dir)\n",
    "\n",
    "print()\n",
    "\n",
    "for file_or_dir in books_dir.glob('*6*'):\n",
    "  print(file_or_dir)"
   ]
  },
  {
   "cell_type": "markdown",
   "metadata": {},
   "source": [
    "We can also use the `iterdir()` method, which will return a Path object for every directory and file in the directory."
   ]
  },
  {
   "cell_type": "code",
   "execution_count": null,
   "metadata": {},
   "outputs": [],
   "source": [
    "for item in books_dir.iterdir():\n",
    "  print(item, item.is_dir(), item.is_file())"
   ]
  },
  {
   "cell_type": "markdown",
   "metadata": {},
   "source": [
    "At this point, if we wanted to find ALL of the files and directories based on a given point, we can imagine processing directories and files separately as we iterdir over and over."
   ]
  },
  {
   "cell_type": "code",
   "execution_count": null,
   "metadata": {},
   "outputs": [],
   "source": [
    "for item in books_dir.iterdir():\n",
    "  if item.is_dir():\n",
    "    for item_2 in item.iterdir():\n",
    "      if item_2.is_dir():\n",
    "        for item_3 in item_2.iterdir():\n",
    "          print(item_3)\n",
    "\n",
    "          # This is getting out of hand"
   ]
  },
  {
   "cell_type": "markdown",
   "metadata": {},
   "source": [
    "If we really wanted to find all of the directories and subdirectories using `iterdir()`, we would probably use **recursion**, which is a topic we might explore in a later lesson."
   ]
  },
  {
   "cell_type": "code",
   "execution_count": null,
   "metadata": {},
   "outputs": [],
   "source": [
    "def process_dir(dir):\n",
    "  for item in dir.iterdir():\n",
    "    if item.is_dir():\n",
    "      process_dir(item)\n",
    "    else:\n",
    "      print(item)"
   ]
  },
  {
   "cell_type": "markdown",
   "metadata": {},
   "source": [
    "Luckily, we have a method called `walk()` which lets us expand a directory and get back all of the sub-directories, files, their sub-directories and files, etc."
   ]
  },
  {
   "cell_type": "code",
   "execution_count": null,
   "metadata": {},
   "outputs": [],
   "source": [
    "for root, dirs, files in books_dir.walk():\n",
    "  print(f'''== In {root} ==\n",
    "  Directories: {dirs}\n",
    "  Files: {files}\n",
    "  ''')"
   ]
  },
  {
   "cell_type": "markdown",
   "metadata": {},
   "source": [
    "Now let's try collecting all of our epubs into a new folder called 'epubs'. We will use the `copyfile` method from the `shutil` module in order to copy the files over (we don't want to accidentally mess up or delete our original files)."
   ]
  },
  {
   "cell_type": "code",
   "execution_count": null,
   "metadata": {},
   "outputs": [],
   "source": [
    "import shutil\n",
    "\n",
    "books_dir = Path('books')\n",
    "\n",
    "out_epub_dir = Path('books') / 'epubs'\n",
    "out_epub_dir.mkdir(exist_ok=True)  # Create the new directory\n",
    "\n",
    "# The double star in the glob means \"with any number of directories in between\"\n",
    "for item in books_dir.glob('**/*.epub'):\n",
    "  shutil.copy(item, out_epub_dir)\n"
   ]
  },
  {
   "cell_type": "markdown",
   "metadata": {},
   "source": [
    "# Exercise - only those with images\n",
    "\n",
    "This works, but we get multiple epubs for each book. Can you modify the above script so that it only copies the epub versions that have images (the ones with 'images' in the filename)?"
   ]
  },
  {
   "cell_type": "markdown",
   "metadata": {},
   "source": [
    "# Music\n",
    "\n",
    "Our music folder is a much bigger mess. Here we have songs from multiple different artists, in 3 random folders, with no information about what artist or album is which. Let's try to extract ID3 metadata from the mp3 files so we can create a hierarchy of Artist -> Album -> Songs, and give the songs names based on their track number and title. We will use the [eyeD3 library](http://eyed3.readthedocs.io/en/latest/) for this."
   ]
  },
  {
   "cell_type": "code",
   "execution_count": null,
   "metadata": {},
   "outputs": [],
   "source": [
    "import eyed3\n",
    "from pathlib import Path\n",
    "import shutil\n",
    "\n",
    "music_path = Path('music')\n",
    "out_path = Path('library')\n",
    "out_path.mkdir(exist_ok=True)\n",
    "\n",
    "def get_metadata(filepath):\n",
    "  audiofile = eyed3.load(filepath)\n",
    "  if audiofile.tag:\n",
    "      metadata = {\n",
    "          'artist': audiofile.tag.artist,\n",
    "          'album': audiofile.tag.album,\n",
    "          'title': audiofile.tag.title,\n",
    "          'track_num': audiofile.tag.track_num[0] if audiofile.tag.track_num else ''\n",
    "      }\n",
    "  return metadata\n",
    "\n",
    "# Your code here"
   ]
  },
  {
   "cell_type": "markdown",
   "metadata": {},
   "source": [
    "# Exercise - Sorting the music library\n",
    "\n",
    "Given the function above that extracts the metadata, try writing a function that collects all of the mp3 files and puts them in the right place. So for the following:\n",
    "\n",
    "```\n",
    "{\n",
    "    'artist': 'Foo Fighters',\n",
    "    'album': 'There Is Nothing Left To Lose',\n",
    "    'title': 'Learn To Fly',\n",
    "    'track_num': 3,\n",
    "}\n",
    "```\n",
    "\n",
    "This song should be copied from `songs_002/song_010.mp3` (or wherever it is) to `library/Foo Fighters/There Is Nothing Left To Lose/03 - Learn to Fly.mp3`.\n",
    "\n",
    "You can add your code to the code block above."
   ]
  }
 ],
 "metadata": {
  "kernelspec": {
   "display_name": "PythonClass-vcBxlNeB",
   "language": "python",
   "name": "python3"
  },
  "language_info": {
   "codemirror_mode": {
    "name": "ipython",
    "version": 3
   },
   "file_extension": ".py",
   "mimetype": "text/x-python",
   "name": "python",
   "nbconvert_exporter": "python",
   "pygments_lexer": "ipython3",
   "version": "3.12.3"
  }
 },
 "nbformat": 4,
 "nbformat_minor": 2
}
